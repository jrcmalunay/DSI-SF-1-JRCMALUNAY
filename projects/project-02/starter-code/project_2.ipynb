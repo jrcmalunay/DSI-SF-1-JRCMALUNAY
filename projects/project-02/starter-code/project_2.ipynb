{
 "cells": [
  {
   "cell_type": "markdown",
   "metadata": {},
   "source": [
    "# Project 2\n",
    "## Step 1: Exploring your data.\n",
    "\n",
    "##### Load your data in using Pandas and start to explore. Save all of your early exploration code here and include in your final submission."
   ]
  },
  {
   "cell_type": "code",
   "execution_count": 5,
   "metadata": {
    "collapsed": false
   },
   "outputs": [
    {
     "name": "stdout",
     "output_type": "stream",
     "text": [
      "     year      artist.inverted  \\\n",
      "0    2000      Destiny's Child   \n",
      "1    2000              Santana   \n",
      "2    2000        Savage Garden   \n",
      "3    2000              Madonna   \n",
      "4    2000  Aguilera, Christina   \n",
      "5    2000                Janet   \n",
      "6    2000      Destiny's Child   \n",
      "7    2000    Iglesias, Enrique   \n",
      "8    2000                Sisqo   \n",
      "9    2000             Lonestar   \n",
      "10   2000               N'Sync   \n",
      "11   2000  Aguilera, Christina   \n",
      "12   2000     Vertical Horizon   \n",
      "13   2000                Creed   \n",
      "14   2000              Aaliyah   \n",
      "15   2000      matchbox twenty   \n",
      "16   2000        Carey, Mariah   \n",
      "17   2000          Hill, Faith   \n",
      "18   2000                  Mya   \n",
      "19   2000                Dream   \n",
      "20   2000        Braxton, Toni   \n",
      "21   2000        Anthony, Marc   \n",
      "22   2000                  98�   \n",
      "23   2000      Destiny's Child   \n",
      "24   2000         3 Doors Down   \n",
      "25   2000                Sisqo   \n",
      "26   2000  Aguilera, Christina   \n",
      "27   2000     Houston, Whitney   \n",
      "28   2000                  Joe   \n",
      "29   2000      Jordan, Montell   \n",
      "..    ...                  ...   \n",
      "287  2000              2Ge+her   \n",
      "288  2000       Madison Avenue   \n",
      "289  2000                  Eve   \n",
      "290  2000          Limp Bizkit   \n",
      "291  2000      Spencer, Tracie   \n",
      "292  2000            Nu Flavor   \n",
      "293  2000                Tamar   \n",
      "294  2000       Levert, Gerald   \n",
      "295  2000           Hart, Beth   \n",
      "296  2000          Diffie, Joe   \n",
      "297  2000      Funkmaster Flex   \n",
      "298  2000         Price, Kelly   \n",
      "299  2000             En Vogue   \n",
      "300  2000          Herndon, Ty   \n",
      "301  2000            Anastacia   \n",
      "302  2000                Trina   \n",
      "303  2000              Lil' Mo   \n",
      "304  2000              A*Teens   \n",
      "305  2000        Sheist, Shade   \n",
      "306  2000           De La Soul   \n",
      "307  2000       Larrieux, Amel   \n",
      "308  2000        Braxton, Toni   \n",
      "309  2000              Tuesday   \n",
      "310  2000            LL Cool J   \n",
      "311  2000             Master P   \n",
      "312  2000     Ghostface Killah   \n",
      "313  2000          Smith, Will   \n",
      "314  2000        Zombie Nation   \n",
      "315  2000       Eastsidaz, The   \n",
      "316  2000               Fragma   \n",
      "\n",
      "                                                 track  time        genre  \\\n",
      "0                             Independent Women Part I  3:38         Rock   \n",
      "1                                         Maria, Maria  4:18         Rock   \n",
      "2                                   I Knew I Loved You  4:07         Rock   \n",
      "3                                                Music  3:45         Rock   \n",
      "4                Come On Over Baby (All I Want Is You)  3:38         Rock   \n",
      "5                                Doesn't Really Matter  4:17         Rock   \n",
      "6                                          Say My Name  4:31         Rock   \n",
      "7                                          Be With You  3:36        Latin   \n",
      "8                                           Incomplete  3:52         Rock   \n",
      "9                                               Amazed  4:25      Country   \n",
      "10                                    It's Gonna Be Me  3:10         Rock   \n",
      "11                                   What A Girl Wants  3:18         Rock   \n",
      "12                                 Everything You Want  4:01         Rock   \n",
      "13                                 With Arms Wide Open  3:52         Rock   \n",
      "14                                           Try Again  4:03         Rock   \n",
      "15                                                Bent  4:12         Rock   \n",
      "16                               Thank God I Found You  4:14         Rock   \n",
      "17                                             Breathe  4:04          Rap   \n",
      "18                   Case Of The Ex (Whatcha Gonna Do)  3:50         Rock   \n",
      "19                                      He Loves U Not  3:43         Rock   \n",
      "20                                He Wasn't Man Enough  4:21         Rock   \n",
      "21                                      You Sang To Me  3:50        Latin   \n",
      "22                  Give Me Just One Night (Una Noche)  3:24         Rock   \n",
      "23                                     Jumpin' Jumpin'  3:48         Rock   \n",
      "24                                          Kryptonite  3:53         Rock   \n",
      "25                                          Thong Song  4:05         Rock   \n",
      "26                                       I Turn To You  4:00         Rock   \n",
      "27                                My Love Is Your Love  4:16         Rock   \n",
      "28                                        I Wanna Know  4:57         Rock   \n",
      "29                                  Get It On.. Tonite  4:34          Rap   \n",
      "..                                                 ...   ...          ...   \n",
      "287  The Hardest Part Of Breaking Up (Is Getting Ba...  3:15          R&B   \n",
      "288                                 Don't Call Me Baby  3:44  Electronica   \n",
      "289                                         Got It All  3:48          Rap   \n",
      "290                                        Re-Arranged  4:08         Rock   \n",
      "291                                  Still In My Heart  4:11         Rock   \n",
      "292                                     3 Little Words  3:54          R&B   \n",
      "293                         If You Don't Wanna Love Me  4:02         Rock   \n",
      "294                                         Baby U Are  4:10          R&B   \n",
      "295                                          L.A. Song  3:47      Country   \n",
      "296                                  The Quittin' Kind  3:23      Country   \n",
      "297                                             Do You  4:14          Rap   \n",
      "298                                 Love Sets You Free  3:46         Rock   \n",
      "299                                             Riddle  5:10         Rock   \n",
      "300                                           No Mercy  4:43      Country   \n",
      "301                                     I'm Outta Love  4:01          Pop   \n",
      "302                                          Pull Over  2:58          Rap   \n",
      "303                                              Ta Da  4:17          Rap   \n",
      "304                                      Dancing Queen  3:44          Pop   \n",
      "305                                   Where I Wanna Be  4:16          Rap   \n",
      "306                                          All Good?  5:02          Rap   \n",
      "307                                             Get Up  4:02          R&B   \n",
      "308                                     Spanish Guitar  4:24         Rock   \n",
      "309                                             I Know  4:06         Rock   \n",
      "310                                       Imagine That  4:00          Rap   \n",
      "311                                            Souljas  3:33          Rap   \n",
      "312                                   Cherchez LaGhost  3:04          R&B   \n",
      "313                                        Freakin' It  3:58          Rap   \n",
      "314                                      Kernkraft 400  3:30         Rock   \n",
      "315                                           Got Beef  3:58          Rap   \n",
      "316                                     Toca's Miracle  3:22          R&B   \n",
      "\n",
      "    date.entered date.peaked  x1st.week  x2nd.week  x3rd.week     ...      \\\n",
      "0     2000-09-23  2000-11-18         78       63.0       49.0     ...       \n",
      "1     2000-02-12  2000-04-08         15        8.0        6.0     ...       \n",
      "2     1999-10-23  2000-01-29         71       48.0       43.0     ...       \n",
      "3     2000-08-12  2000-09-16         41       23.0       18.0     ...       \n",
      "4     2000-08-05  2000-10-14         57       47.0       45.0     ...       \n",
      "5     2000-06-17  2000-08-26         59       52.0       43.0     ...       \n",
      "6     1999-12-25  2000-03-18         83       83.0       44.0     ...       \n",
      "7     2000-04-01  2000-06-24         63       45.0       34.0     ...       \n",
      "8     2000-06-24  2000-08-12         77       66.0       61.0     ...       \n",
      "9     1999-06-05  2000-03-04         81       54.0       44.0     ...       \n",
      "10    2000-05-06  2000-07-29         82       70.0       51.0     ...       \n",
      "11    1999-11-27  2000-01-15         71       51.0       28.0     ...       \n",
      "12    2000-01-22  2000-07-15         70       61.0       53.0     ...       \n",
      "13    2000-05-13  2000-11-11         84       78.0       76.0     ...       \n",
      "14    2000-03-18  2000-06-17         59       53.0       38.0     ...       \n",
      "15    2000-04-29  2000-07-22         60       37.0       29.0     ...       \n",
      "16    1999-12-11  2000-02-19         82       68.0       50.0     ...       \n",
      "17    1999-11-06  2000-04-22         81       68.0       62.0     ...       \n",
      "18    2000-08-19  2000-12-02         72       57.0       52.0     ...       \n",
      "19    2000-09-30  2000-12-30         99       92.0       81.0     ...       \n",
      "20    2000-03-18  2000-05-06         63       55.0       48.0     ...       \n",
      "21    2000-02-26  2000-06-03         77       54.0       50.0     ...       \n",
      "22    2000-08-19  2000-09-30         51       39.0       34.0     ...       \n",
      "23    2000-05-13  2000-08-19         74       71.0       65.0     ...       \n",
      "24    2000-04-08  2000-11-11         81       70.0       68.0     ...       \n",
      "25    2000-01-29  2000-05-20         74       63.0       35.0     ...       \n",
      "26    2000-04-15  2000-07-01         50       39.0       30.0     ...       \n",
      "27    1999-09-04         NaN         81       68.0       44.0     ...       \n",
      "28    2000-01-01  2000-07-01         94       86.0       69.0     ...       \n",
      "29    1999-10-23  2000-02-12         92       80.0       72.0     ...       \n",
      "..           ...         ...        ...        ...        ...     ...       \n",
      "287   2000-09-02  2000-09-09         91       87.0       92.0     ...       \n",
      "288   2000-07-08  2000-09-16         98       96.0       93.0     ...       \n",
      "289   2000-07-15  2000-07-22         89       88.0       88.0     ...       \n",
      "290   1999-12-04  2000-02-05         91       91.0       90.0     ...       \n",
      "291   2000-03-04  2000-03-11         95       88.0       98.0     ...       \n",
      "292   2000-06-03  2000-06-17         97       97.0       89.0     ...       \n",
      "293   2000-03-25  2000-04-15         98       98.0       92.0     ...       \n",
      "294   2000-08-19  2000-08-26         96       89.0       92.0     ...       \n",
      "295   1999-11-27  2000-01-15         99      100.0       98.0     ...       \n",
      "296   2000-01-01  2000-01-22         98      100.0      100.0     ...       \n",
      "297   2000-11-11  2000-12-02         92       92.0       95.0     ...       \n",
      "298   2000-05-13  2000-05-20         92       91.0       98.0     ...       \n",
      "299   2000-06-17  2000-06-17         92       92.0       97.0     ...       \n",
      "300   2000-03-18  2000-05-06        100       99.0       99.0     ...       \n",
      "301   2000-04-01  2000-04-01         92        NaN        NaN     ...       \n",
      "302   2000-09-09  2000-09-16         97       93.0       96.0     ...       \n",
      "303   2000-08-12  2000-09-16        100       99.0       97.0     ...       \n",
      "304   2000-07-08  2000-07-29         97       97.0       96.0     ...       \n",
      "305   2000-11-11  2000-11-18         96       95.0       99.0     ...       \n",
      "306   2000-12-23  2000-12-23         96       96.0      100.0     ...       \n",
      "307   2000-03-04  2000-03-11        100       97.0       97.0     ...       \n",
      "308   2000-12-02  2000-12-02         98       98.0       98.0     ...       \n",
      "309   2000-12-30  2000-12-30         98       98.0        NaN     ...       \n",
      "310   2000-08-12  2000-08-19         99       98.0        NaN     ...       \n",
      "311   2000-11-18  2000-11-18         98        NaN        NaN     ...       \n",
      "312   2000-08-05  2000-08-05         98        NaN        NaN     ...       \n",
      "313   2000-02-12  2000-02-12         99       99.0       99.0     ...       \n",
      "314   2000-09-02  2000-09-02         99       99.0        NaN     ...       \n",
      "315   2000-07-01  2000-07-01         99       99.0        NaN     ...       \n",
      "316   2000-10-28  2000-10-28         99        NaN        NaN     ...       \n",
      "\n",
      "     x67th.week  x68th.week  x69th.week  x70th.week  x71st.week  x72nd.week  \\\n",
      "0           NaN         NaN         NaN         NaN         NaN         NaN   \n",
      "1           NaN         NaN         NaN         NaN         NaN         NaN   \n",
      "2           NaN         NaN         NaN         NaN         NaN         NaN   \n",
      "3           NaN         NaN         NaN         NaN         NaN         NaN   \n",
      "4           NaN         NaN         NaN         NaN         NaN         NaN   \n",
      "5           NaN         NaN         NaN         NaN         NaN         NaN   \n",
      "6           NaN         NaN         NaN         NaN         NaN         NaN   \n",
      "7           NaN         NaN         NaN         NaN         NaN         NaN   \n",
      "8           NaN         NaN         NaN         NaN         NaN         NaN   \n",
      "9           NaN         NaN         NaN         NaN         NaN         NaN   \n",
      "10          NaN         NaN         NaN         NaN         NaN         NaN   \n",
      "11          NaN         NaN         NaN         NaN         NaN         NaN   \n",
      "12          NaN         NaN         NaN         NaN         NaN         NaN   \n",
      "13          NaN         NaN         NaN         NaN         NaN         NaN   \n",
      "14          NaN         NaN         NaN         NaN         NaN         NaN   \n",
      "15          NaN         NaN         NaN         NaN         NaN         NaN   \n",
      "16          NaN         NaN         NaN         NaN         NaN         NaN   \n",
      "17          NaN         NaN         NaN         NaN         NaN         NaN   \n",
      "18          NaN         NaN         NaN         NaN         NaN         NaN   \n",
      "19          NaN         NaN         NaN         NaN         NaN         NaN   \n",
      "20          NaN         NaN         NaN         NaN         NaN         NaN   \n",
      "21          NaN         NaN         NaN         NaN         NaN         NaN   \n",
      "22          NaN         NaN         NaN         NaN         NaN         NaN   \n",
      "23          NaN         NaN         NaN         NaN         NaN         NaN   \n",
      "24          NaN         NaN         NaN         NaN         NaN         NaN   \n",
      "25          NaN         NaN         NaN         NaN         NaN         NaN   \n",
      "26          NaN         NaN         NaN         NaN         NaN         NaN   \n",
      "27          NaN         NaN         NaN         NaN         NaN         NaN   \n",
      "28          NaN         NaN         NaN         NaN         NaN         NaN   \n",
      "29          NaN         NaN         NaN         NaN         NaN         NaN   \n",
      "..          ...         ...         ...         ...         ...         ...   \n",
      "287         NaN         NaN         NaN         NaN         NaN         NaN   \n",
      "288         NaN         NaN         NaN         NaN         NaN         NaN   \n",
      "289         NaN         NaN         NaN         NaN         NaN         NaN   \n",
      "290         NaN         NaN         NaN         NaN         NaN         NaN   \n",
      "291         NaN         NaN         NaN         NaN         NaN         NaN   \n",
      "292         NaN         NaN         NaN         NaN         NaN         NaN   \n",
      "293         NaN         NaN         NaN         NaN         NaN         NaN   \n",
      "294         NaN         NaN         NaN         NaN         NaN         NaN   \n",
      "295         NaN         NaN         NaN         NaN         NaN         NaN   \n",
      "296         NaN         NaN         NaN         NaN         NaN         NaN   \n",
      "297         NaN         NaN         NaN         NaN         NaN         NaN   \n",
      "298         NaN         NaN         NaN         NaN         NaN         NaN   \n",
      "299         NaN         NaN         NaN         NaN         NaN         NaN   \n",
      "300         NaN         NaN         NaN         NaN         NaN         NaN   \n",
      "301         NaN         NaN         NaN         NaN         NaN         NaN   \n",
      "302         NaN         NaN         NaN         NaN         NaN         NaN   \n",
      "303         NaN         NaN         NaN         NaN         NaN         NaN   \n",
      "304         NaN         NaN         NaN         NaN         NaN         NaN   \n",
      "305         NaN         NaN         NaN         NaN         NaN         NaN   \n",
      "306         NaN         NaN         NaN         NaN         NaN         NaN   \n",
      "307         NaN         NaN         NaN         NaN         NaN         NaN   \n",
      "308         NaN         NaN         NaN         NaN         NaN         NaN   \n",
      "309         NaN         NaN         NaN         NaN         NaN         NaN   \n",
      "310         NaN         NaN         NaN         NaN         NaN         NaN   \n",
      "311         NaN         NaN         NaN         NaN         NaN         NaN   \n",
      "312         NaN         NaN         NaN         NaN         NaN         NaN   \n",
      "313         NaN         NaN         NaN         NaN         NaN         NaN   \n",
      "314         NaN         NaN         NaN         NaN         NaN         NaN   \n",
      "315         NaN         NaN         NaN         NaN         NaN         NaN   \n",
      "316         NaN         NaN         NaN         NaN         NaN         NaN   \n",
      "\n",
      "     x73rd.week  x74th.week  x75th.week  x76th.week  \n",
      "0           NaN         NaN         NaN         NaN  \n",
      "1           NaN         NaN         NaN         NaN  \n",
      "2           NaN         NaN         NaN         NaN  \n",
      "3           NaN         NaN         NaN         NaN  \n",
      "4           NaN         NaN         NaN         NaN  \n",
      "5           NaN         NaN         NaN         NaN  \n",
      "6           NaN         NaN         NaN         NaN  \n",
      "7           NaN         NaN         NaN         NaN  \n",
      "8           NaN         NaN         NaN         NaN  \n",
      "9           NaN         NaN         NaN         NaN  \n",
      "10          NaN         NaN         NaN         NaN  \n",
      "11          NaN         NaN         NaN         NaN  \n",
      "12          NaN         NaN         NaN         NaN  \n",
      "13          NaN         NaN         NaN         NaN  \n",
      "14          NaN         NaN         NaN         NaN  \n",
      "15          NaN         NaN         NaN         NaN  \n",
      "16          NaN         NaN         NaN         NaN  \n",
      "17          NaN         NaN         NaN         NaN  \n",
      "18          NaN         NaN         NaN         NaN  \n",
      "19          NaN         NaN         NaN         NaN  \n",
      "20          NaN         NaN         NaN         NaN  \n",
      "21          NaN         NaN         NaN         NaN  \n",
      "22          NaN         NaN         NaN         NaN  \n",
      "23          NaN         NaN         NaN         NaN  \n",
      "24          NaN         NaN         NaN         NaN  \n",
      "25          NaN         NaN         NaN         NaN  \n",
      "26          NaN         NaN         NaN         NaN  \n",
      "27          NaN         NaN         NaN         NaN  \n",
      "28          NaN         NaN         NaN         NaN  \n",
      "29          NaN         NaN         NaN         NaN  \n",
      "..          ...         ...         ...         ...  \n",
      "287         NaN         NaN         NaN         NaN  \n",
      "288         NaN         NaN         NaN         NaN  \n",
      "289         NaN         NaN         NaN         NaN  \n",
      "290         NaN         NaN         NaN         NaN  \n",
      "291         NaN         NaN         NaN         NaN  \n",
      "292         NaN         NaN         NaN         NaN  \n",
      "293         NaN         NaN         NaN         NaN  \n",
      "294         NaN         NaN         NaN         NaN  \n",
      "295         NaN         NaN         NaN         NaN  \n",
      "296         NaN         NaN         NaN         NaN  \n",
      "297         NaN         NaN         NaN         NaN  \n",
      "298         NaN         NaN         NaN         NaN  \n",
      "299         NaN         NaN         NaN         NaN  \n",
      "300         NaN         NaN         NaN         NaN  \n",
      "301         NaN         NaN         NaN         NaN  \n",
      "302         NaN         NaN         NaN         NaN  \n",
      "303         NaN         NaN         NaN         NaN  \n",
      "304         NaN         NaN         NaN         NaN  \n",
      "305         NaN         NaN         NaN         NaN  \n",
      "306         NaN         NaN         NaN         NaN  \n",
      "307         NaN         NaN         NaN         NaN  \n",
      "308         NaN         NaN         NaN         NaN  \n",
      "309         NaN         NaN         NaN         NaN  \n",
      "310         NaN         NaN         NaN         NaN  \n",
      "311         NaN         NaN         NaN         NaN  \n",
      "312         NaN         NaN         NaN         NaN  \n",
      "313         NaN         NaN         NaN         NaN  \n",
      "314         NaN         NaN         NaN         NaN  \n",
      "315         NaN         NaN         NaN         NaN  \n",
      "316         NaN         NaN         NaN         NaN  \n",
      "\n",
      "[317 rows x 83 columns]\n"
     ]
    }
   ],
   "source": [
    "import pandas as pd\n",
    "\n",
    "billboard = pd.read_csv('../assets/billboard.csv')\n",
    "print billboard"
   ]
  },
  {
   "cell_type": "markdown",
   "metadata": {},
   "source": [
    "##### Create a data dictionary for the data set. (ie: describe the variables of your dataset)"
   ]
  },
  {
   "cell_type": "code",
   "execution_count": null,
   "metadata": {
    "collapsed": true
   },
   "outputs": [],
   "source": [
    "artists = {}\n",
    "track_list = {}\n"
   ]
  },
  {
   "cell_type": "markdown",
   "metadata": {},
   "source": [
    "##### Write a brief description of your data, and any interesting observations you've made thus far. "
   ]
  },
  {
   "cell_type": "code",
   "execution_count": null,
   "metadata": {
    "collapsed": true
   },
   "outputs": [],
   "source": []
  },
  {
   "cell_type": "markdown",
   "metadata": {},
   "source": [
    "## Step 2: Clean your data."
   ]
  },
  {
   "cell_type": "markdown",
   "metadata": {},
   "source": [
    "##### Do some rudimentary cleaning. Rename any columns that are poorly named, shorten any strings that may be too long, fill in any missing values. "
   ]
  },
  {
   "cell_type": "code",
   "execution_count": null,
   "metadata": {
    "collapsed": true
   },
   "outputs": [],
   "source": []
  },
  {
   "cell_type": "markdown",
   "metadata": {},
   "source": [
    "##### Using Pandas' built in `melt` function, pivot the weekly ranking data to be long rather than wide. As a result, you will have removed the 72 'week' columns and replace it with two: Week and Ranking. There will now be multiple entries for each song, one for each week on the Billboard rankings."
   ]
  },
  {
   "cell_type": "code",
   "execution_count": null,
   "metadata": {
    "collapsed": true
   },
   "outputs": [],
   "source": []
  },
  {
   "cell_type": "markdown",
   "metadata": {},
   "source": [
    "## Step 3: Visualize your data."
   ]
  },
  {
   "cell_type": "markdown",
   "metadata": {},
   "source": [
    "##### Using a plotting utility of your choice, create visualizations that will provide context to your data. There is no minimum or maximum number of graphs you should generate, but there should be a clear and consistent story being told. Give insights to the distribution, statistics, and relationships of the data. "
   ]
  },
  {
   "cell_type": "code",
   "execution_count": null,
   "metadata": {
    "collapsed": true
   },
   "outputs": [],
   "source": []
  },
  {
   "cell_type": "markdown",
   "metadata": {},
   "source": [
    "## Step 4: Create a Problem Statement.\n",
    "\n",
    "##### Having explored the data, come up with a problem statement for this data set. You can feel free to introduce data from any other source to support your problem statement, just be sure to provide a link to the origin of the data. Once again- be creative!"
   ]
  },
  {
   "cell_type": "code",
   "execution_count": null,
   "metadata": {
    "collapsed": true
   },
   "outputs": [],
   "source": []
  },
  {
   "cell_type": "markdown",
   "metadata": {
    "collapsed": false
   },
   "source": [
    "## Step 5: Brainstorm your Approach.\n",
    "##### In bullet-list form, provide a proposed approach for evaluating your problem statement. This can be somewhat high-level, but start to think about ways you can massage the data for maximum efficacy. "
   ]
  },
  {
   "cell_type": "code",
   "execution_count": null,
   "metadata": {
    "collapsed": true
   },
   "outputs": [],
   "source": []
  },
  {
   "cell_type": "markdown",
   "metadata": {
    "collapsed": true
   },
   "source": [
    "## Step 6: Create a blog post with your code snippets and visualizations.\n",
    "##### Data Science is a growing field, and the Tech industry thrives off of collaboration and sharing of knowledge. Blogging is a powerful means for pushing the needle forward in our field. Using your blogging platform of choice, create a post describing each of the 5 steps above. Rather than writing a procedural text, imagine you're describing the data, visualizations, and conclusions you've arrived at to your peers. Aim for roughly 800-1,000 words. "
   ]
  },
  {
   "cell_type": "code",
   "execution_count": null,
   "metadata": {
    "collapsed": true
   },
   "outputs": [],
   "source": []
  },
  {
   "cell_type": "markdown",
   "metadata": {},
   "source": [
    "## BONUS: The Content Managers working for the Podcast Publishing Company have recognized you as a thought leader in your field. They've asked you to pen a white paper (minimum 600 words) on the subject of 'What It Means To Have Clean Data'. This will be an opinion piece read by a wide audience, so be sure to back up your statements with real world examples or scenarios.\n",
    "\n",
    "##### Hint: To get started, look around on the internet for articles, blog posts, papers, youtube videos, podcasts, reddit discussions, anything that will help you understand the challenges and implications of dealing with big data. This should be a personal reflection on everything you've learned this week, and the learning goals that have been set out for you going forward. "
   ]
  },
  {
   "cell_type": "code",
   "execution_count": null,
   "metadata": {
    "collapsed": true
   },
   "outputs": [],
   "source": []
  }
 ],
 "metadata": {
  "kernelspec": {
   "display_name": "Python 2",
   "language": "python",
   "name": "python2"
  },
  "language_info": {
   "codemirror_mode": {
    "name": "ipython",
    "version": 2
   },
   "file_extension": ".py",
   "mimetype": "text/x-python",
   "name": "python",
   "nbconvert_exporter": "python",
   "pygments_lexer": "ipython2",
   "version": "2.7.11"
  }
 },
 "nbformat": 4,
 "nbformat_minor": 0
}
