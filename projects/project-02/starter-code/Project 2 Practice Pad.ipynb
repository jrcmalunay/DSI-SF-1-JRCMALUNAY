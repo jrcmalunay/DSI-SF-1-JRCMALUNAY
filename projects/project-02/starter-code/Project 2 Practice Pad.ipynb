{
 "cells": [
  {
   "cell_type": "code",
   "execution_count": 1,
   "metadata": {
    "collapsed": true
   },
   "outputs": [],
   "source": [
    "import pandas as pd\n",
    "\n",
    "colnames = ['$col','&col2','%col3','#col4','col5']\n"
   ]
  },
  {
   "cell_type": "code",
   "execution_count": 2,
   "metadata": {
    "collapsed": true
   },
   "outputs": [],
   "source": [
    "# make a DataFrame using dictionary comprehension\n",
    "df = pd.DataFrame({k:[1,2] for k in colnames})"
   ]
  },
  {
   "cell_type": "code",
   "execution_count": 3,
   "metadata": {
    "collapsed": false
   },
   "outputs": [
    {
     "name": "stdout",
     "output_type": "stream",
     "text": [
      "   #col4  $col  %col3  &col2  col5\n",
      "0      1     1      1      1     1\n",
      "1      2     2      2      2     2\n"
     ]
    }
   ],
   "source": [
    "print df"
   ]
  },
  {
   "cell_type": "code",
   "execution_count": 9,
   "metadata": {
    "collapsed": false
   },
   "outputs": [
    {
     "name": "stdout",
     "output_type": "stream",
     "text": [
      "[True, False, False, False]\n",
      "True\n",
      "col\n",
      "[False, True, False, False]\n",
      "True\n",
      "col2\n",
      "[False, False, True, False]\n",
      "True\n",
      "col3\n",
      "[False, False, False, True]\n",
      "True\n",
      "col4\n",
      "[False, False, False, False]\n",
      "False\n",
      "\n",
      "   col4  col  col3  col2  col5\n",
      "0     1    1     1     1     1\n",
      "1     2    2     2     2     2\n"
     ]
    }
   ],
   "source": [
    "# The any() function returns True if any of the items in a list are True\n",
    "# The .rename(columns={}, inplace=True) can rename specific \n",
    "# columns with key:value pairs\n",
    "for col in colnames:\n",
    "    print [x in col for x in ['$','&','%','#']]\n",
    "    print any([x in col for x in ['$','&','%','#']])\n",
    "    if any([x in col for x in ['$','&','%','#']]):\n",
    "        newcol = ''.join([x for x in col if x not in ['$','&','%','#']])\n",
    "        print newcol\n",
    "        df.rename(columns={col:newcol}, inplace=True)\n",
    "print '\\n',df"
   ]
  },
  {
   "cell_type": "code",
   "execution_count": 5,
   "metadata": {
    "collapsed": false
   },
   "outputs": [],
   "source": [
    "d = {\"Genre\":[\"Action\",\"Comedy\"]}"
   ]
  },
  {
   "cell_type": "code",
   "execution_count": 6,
   "metadata": {
    "collapsed": false
   },
   "outputs": [
    {
     "data": {
      "text/plain": [
       "{'Genre': ['Action', 'Comedy']}"
      ]
     },
     "execution_count": 6,
     "metadata": {},
     "output_type": "execute_result"
    }
   ],
   "source": [
    "d"
   ]
  },
  {
   "cell_type": "code",
   "execution_count": null,
   "metadata": {
    "collapsed": true
   },
   "outputs": [],
   "source": []
  }
 ],
 "metadata": {
  "kernelspec": {
   "display_name": "Python 2",
   "language": "python",
   "name": "python2"
  },
  "language_info": {
   "codemirror_mode": {
    "name": "ipython",
    "version": 2
   },
   "file_extension": ".py",
   "mimetype": "text/x-python",
   "name": "python",
   "nbconvert_exporter": "python",
   "pygments_lexer": "ipython2",
   "version": "2.7.11"
  }
 },
 "nbformat": 4,
 "nbformat_minor": 0
}
