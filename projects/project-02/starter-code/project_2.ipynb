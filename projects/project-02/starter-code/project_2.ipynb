{
 "cells": [
  {
   "cell_type": "markdown",
   "metadata": {},
   "source": [
    "# Project 2\n",
    "## Step 1: Exploring your data.\n",
    "\n",
    "##### Load your data in using Pandas and start to explore. Save all of your early exploration code here and include in your final submission."
   ]
  },
  {
   "cell_type": "code",
   "execution_count": 1,
   "metadata": {
    "collapsed": false
   },
   "outputs": [
    {
     "data": {
      "text/html": [
       "<div>\n",
       "<table border=\"1\" class=\"dataframe\">\n",
       "  <thead>\n",
       "    <tr style=\"text-align: right;\">\n",
       "      <th></th>\n",
       "      <th>year</th>\n",
       "      <th>artist.inverted</th>\n",
       "      <th>track</th>\n",
       "      <th>time</th>\n",
       "      <th>genre</th>\n",
       "      <th>date.entered</th>\n",
       "      <th>date.peaked</th>\n",
       "      <th>x1st.week</th>\n",
       "      <th>x2nd.week</th>\n",
       "      <th>x3rd.week</th>\n",
       "      <th>...</th>\n",
       "      <th>x67th.week</th>\n",
       "      <th>x68th.week</th>\n",
       "      <th>x69th.week</th>\n",
       "      <th>x70th.week</th>\n",
       "      <th>x71st.week</th>\n",
       "      <th>x72nd.week</th>\n",
       "      <th>x73rd.week</th>\n",
       "      <th>x74th.week</th>\n",
       "      <th>x75th.week</th>\n",
       "      <th>x76th.week</th>\n",
       "    </tr>\n",
       "  </thead>\n",
       "  <tbody>\n",
       "    <tr>\n",
       "      <th>0</th>\n",
       "      <td>2000</td>\n",
       "      <td>Destiny's Child</td>\n",
       "      <td>Independent Women Part I</td>\n",
       "      <td>3:38</td>\n",
       "      <td>Rock</td>\n",
       "      <td>2000-09-23</td>\n",
       "      <td>2000-11-18</td>\n",
       "      <td>78</td>\n",
       "      <td>63.0</td>\n",
       "      <td>49.0</td>\n",
       "      <td>...</td>\n",
       "      <td>NaN</td>\n",
       "      <td>NaN</td>\n",
       "      <td>NaN</td>\n",
       "      <td>NaN</td>\n",
       "      <td>NaN</td>\n",
       "      <td>NaN</td>\n",
       "      <td>NaN</td>\n",
       "      <td>NaN</td>\n",
       "      <td>NaN</td>\n",
       "      <td>NaN</td>\n",
       "    </tr>\n",
       "    <tr>\n",
       "      <th>1</th>\n",
       "      <td>2000</td>\n",
       "      <td>Santana</td>\n",
       "      <td>Maria, Maria</td>\n",
       "      <td>4:18</td>\n",
       "      <td>Rock</td>\n",
       "      <td>2000-02-12</td>\n",
       "      <td>2000-04-08</td>\n",
       "      <td>15</td>\n",
       "      <td>8.0</td>\n",
       "      <td>6.0</td>\n",
       "      <td>...</td>\n",
       "      <td>NaN</td>\n",
       "      <td>NaN</td>\n",
       "      <td>NaN</td>\n",
       "      <td>NaN</td>\n",
       "      <td>NaN</td>\n",
       "      <td>NaN</td>\n",
       "      <td>NaN</td>\n",
       "      <td>NaN</td>\n",
       "      <td>NaN</td>\n",
       "      <td>NaN</td>\n",
       "    </tr>\n",
       "    <tr>\n",
       "      <th>2</th>\n",
       "      <td>2000</td>\n",
       "      <td>Savage Garden</td>\n",
       "      <td>I Knew I Loved You</td>\n",
       "      <td>4:07</td>\n",
       "      <td>Rock</td>\n",
       "      <td>1999-10-23</td>\n",
       "      <td>2000-01-29</td>\n",
       "      <td>71</td>\n",
       "      <td>48.0</td>\n",
       "      <td>43.0</td>\n",
       "      <td>...</td>\n",
       "      <td>NaN</td>\n",
       "      <td>NaN</td>\n",
       "      <td>NaN</td>\n",
       "      <td>NaN</td>\n",
       "      <td>NaN</td>\n",
       "      <td>NaN</td>\n",
       "      <td>NaN</td>\n",
       "      <td>NaN</td>\n",
       "      <td>NaN</td>\n",
       "      <td>NaN</td>\n",
       "    </tr>\n",
       "    <tr>\n",
       "      <th>3</th>\n",
       "      <td>2000</td>\n",
       "      <td>Madonna</td>\n",
       "      <td>Music</td>\n",
       "      <td>3:45</td>\n",
       "      <td>Rock</td>\n",
       "      <td>2000-08-12</td>\n",
       "      <td>2000-09-16</td>\n",
       "      <td>41</td>\n",
       "      <td>23.0</td>\n",
       "      <td>18.0</td>\n",
       "      <td>...</td>\n",
       "      <td>NaN</td>\n",
       "      <td>NaN</td>\n",
       "      <td>NaN</td>\n",
       "      <td>NaN</td>\n",
       "      <td>NaN</td>\n",
       "      <td>NaN</td>\n",
       "      <td>NaN</td>\n",
       "      <td>NaN</td>\n",
       "      <td>NaN</td>\n",
       "      <td>NaN</td>\n",
       "    </tr>\n",
       "    <tr>\n",
       "      <th>4</th>\n",
       "      <td>2000</td>\n",
       "      <td>Aguilera, Christina</td>\n",
       "      <td>Come On Over Baby (All I Want Is You)</td>\n",
       "      <td>3:38</td>\n",
       "      <td>Rock</td>\n",
       "      <td>2000-08-05</td>\n",
       "      <td>2000-10-14</td>\n",
       "      <td>57</td>\n",
       "      <td>47.0</td>\n",
       "      <td>45.0</td>\n",
       "      <td>...</td>\n",
       "      <td>NaN</td>\n",
       "      <td>NaN</td>\n",
       "      <td>NaN</td>\n",
       "      <td>NaN</td>\n",
       "      <td>NaN</td>\n",
       "      <td>NaN</td>\n",
       "      <td>NaN</td>\n",
       "      <td>NaN</td>\n",
       "      <td>NaN</td>\n",
       "      <td>NaN</td>\n",
       "    </tr>\n",
       "  </tbody>\n",
       "</table>\n",
       "<p>5 rows × 83 columns</p>\n",
       "</div>"
      ],
      "text/plain": [
       "   year      artist.inverted                                  track  time  \\\n",
       "0  2000      Destiny's Child               Independent Women Part I  3:38   \n",
       "1  2000              Santana                           Maria, Maria  4:18   \n",
       "2  2000        Savage Garden                     I Knew I Loved You  4:07   \n",
       "3  2000              Madonna                                  Music  3:45   \n",
       "4  2000  Aguilera, Christina  Come On Over Baby (All I Want Is You)  3:38   \n",
       "\n",
       "  genre date.entered date.peaked  x1st.week  x2nd.week  x3rd.week     ...      \\\n",
       "0  Rock   2000-09-23  2000-11-18         78       63.0       49.0     ...       \n",
       "1  Rock   2000-02-12  2000-04-08         15        8.0        6.0     ...       \n",
       "2  Rock   1999-10-23  2000-01-29         71       48.0       43.0     ...       \n",
       "3  Rock   2000-08-12  2000-09-16         41       23.0       18.0     ...       \n",
       "4  Rock   2000-08-05  2000-10-14         57       47.0       45.0     ...       \n",
       "\n",
       "   x67th.week  x68th.week  x69th.week  x70th.week  x71st.week  x72nd.week  \\\n",
       "0         NaN         NaN         NaN         NaN         NaN         NaN   \n",
       "1         NaN         NaN         NaN         NaN         NaN         NaN   \n",
       "2         NaN         NaN         NaN         NaN         NaN         NaN   \n",
       "3         NaN         NaN         NaN         NaN         NaN         NaN   \n",
       "4         NaN         NaN         NaN         NaN         NaN         NaN   \n",
       "\n",
       "   x73rd.week  x74th.week  x75th.week  x76th.week  \n",
       "0         NaN         NaN         NaN         NaN  \n",
       "1         NaN         NaN         NaN         NaN  \n",
       "2         NaN         NaN         NaN         NaN  \n",
       "3         NaN         NaN         NaN         NaN  \n",
       "4         NaN         NaN         NaN         NaN  \n",
       "\n",
       "[5 rows x 83 columns]"
      ]
     },
     "execution_count": 1,
     "metadata": {},
     "output_type": "execute_result"
    }
   ],
   "source": [
    "#Imported pandas and numpy library\n",
    "import pandas as pd\n",
    "import numpy as np\n",
    "\n",
    "#Pulled billboard.csv data set\n",
    "billboard = pd.read_csv('../assets/billboard.csv')\n",
    "\n",
    "#Printed out first 5 rows of data set\n",
    "billboard.head()"
   ]
  },
  {
   "cell_type": "markdown",
   "metadata": {},
   "source": [
    "##### Create a data dictionary for the data set. (ie: describe the variables of your dataset)"
   ]
  },
  {
   "cell_type": "markdown",
   "metadata": {
    "collapsed": false
   },
   "source": [
    "|Variable #|Variable|Description|\n",
    "|-:||-:||-:|\n",
    "|1|__Year__|Year of the Song Ranked|\n",
    "|2|__Artist_Name__|Full Name of Artist (Last name, First name)| \n",
    "|3|__Track_Name__|Name or title of track/song|\n",
    "|4|__Track_Lengh__|Length of track/song in Seconds|\n",
    "|5|__Genre__|Type of track/song|\n",
    "|6|__Date_Released__|Date of when track/song was released|\n",
    "|7|__Date_Peaked__|Date of when track/song became popular|\n",
    "|8|__1stweek__ - __76thweek__|Weeks starting from 1 to 76 with values of rank|\n",
    "|9|__Ranking__|Contains values that show the rank of the track/song|\n"
   ]
  },
  {
   "cell_type": "markdown",
   "metadata": {},
   "source": [
    "##### Write a brief description of your data, and any interesting observations you've made thus far. "
   ]
  },
  {
   "cell_type": "markdown",
   "metadata": {
    "collapsed": true
   },
   "source": [
    "The data set is a complication of billboard rankings per week from week 1 (when it was realeased) to week 76. The data isn't too hard to read, but it definitely needs some cleaning. The biggest issue with this data set are missing values. They are represented by NaN (not a numerical/number). Working with a large data set without values, is almost impossible to create an analysis and prevents future experiments. There is even one missing date on the \"Date_Peaked\" column. In addtion, the week 13 column had a missing \"e\" in \"week\". Overall, the data set in interesting in terms of billboard rankings, however, there are necessary cleaning that needs to be done."
   ]
  },
  {
   "cell_type": "markdown",
   "metadata": {},
   "source": [
    "## Step 2: Clean your data."
   ]
  },
  {
   "cell_type": "markdown",
   "metadata": {},
   "source": [
    "##### Do some rudimentary cleaning. Rename any columns that are poorly named, shorten any strings that may be too long, fill in any missing values. "
   ]
  },
  {
   "cell_type": "code",
   "execution_count": 2,
   "metadata": {
    "collapsed": false,
    "scrolled": true
   },
   "outputs": [
    {
     "name": "stdout",
     "output_type": "stream",
     "text": [
      "Index([u'year', u'artist.inverted', u'track', u'time', u'genre',\n",
      "       u'date.entered', u'date.peaked', u'x1st.week', u'x2nd.week',\n",
      "       u'x3rd.week', u'x4th.week', u'x5th.week', u'x6th.week', u'x7th.week',\n",
      "       u'x8th.week', u'x9th.week', u'x10th.week', u'x11th.week', u'x12th.week',\n",
      "       u'x13th.wek', u'x14th.week', u'x15th.week', u'x16th.week',\n",
      "       u'x17th.week', u'x18th.week', u'x19th.week', u'x20th.week',\n",
      "       u'x21st.week', u'x22nd.week', u'x23rd.week', u'x24th.week',\n",
      "       u'x25th.week', u'x26th.week', u'x27th.week', u'x28th.week',\n",
      "       u'x29th.week', u'x30th.week', u'x31st.week', u'x32nd.week',\n",
      "       u'x33rd.week', u'x34th.week', u'x35th.week', u'x36th.week',\n",
      "       u'x37th.week', u'x38th.week', u'x39th.week', u'x40th.week',\n",
      "       u'x41st.week', u'x42nd.week', u'x43rd.week', u'x44th.week',\n",
      "       u'x45th.week', u'x46th.week', u'x47th.week', u'x48th.week',\n",
      "       u'x49th.week', u'x50th.week', u'x51st.week', u'x52nd.week',\n",
      "       u'x53rd.week', u'x54th.week', u'x55th.week', u'x56th.week',\n",
      "       u'x57th.week', u'x58th.week', u'x59th.week', u'x60th.week',\n",
      "       u'x61st.week', u'x62nd.week', u'x63rd.week', u'x64th.week',\n",
      "       u'x65th.week', u'x66th.week', u'x67th.week', u'x68th.week',\n",
      "       u'x69th.week', u'x70th.week', u'x71st.week', u'x72nd.week',\n",
      "       u'x73rd.week', u'x74th.week', u'x75th.week', u'x76th.week'],\n",
      "      dtype='object')\n",
      "float64    75\n",
      "int64       2\n",
      "object      6\n",
      "dtype: int64\n"
     ]
    }
   ],
   "source": [
    "#Viewed the columns and data types of data set\n",
    "print billboard.columns\n",
    "print billboard.get_dtype_counts()"
   ]
  },
  {
   "cell_type": "code",
   "execution_count": 3,
   "metadata": {
    "collapsed": false
   },
   "outputs": [
    {
     "data": {
      "text/html": [
       "<div>\n",
       "<table border=\"1\" class=\"dataframe\">\n",
       "  <thead>\n",
       "    <tr style=\"text-align: right;\">\n",
       "      <th></th>\n",
       "      <th>Year</th>\n",
       "      <th>Artist_Name</th>\n",
       "      <th>Track_Name</th>\n",
       "      <th>Track_Length</th>\n",
       "      <th>Genre</th>\n",
       "      <th>Date_Released</th>\n",
       "      <th>Date_Peaked</th>\n",
       "      <th>1stweek</th>\n",
       "      <th>2ndweek</th>\n",
       "      <th>3rdweek</th>\n",
       "      <th>...</th>\n",
       "      <th>67thweek</th>\n",
       "      <th>68thweek</th>\n",
       "      <th>69thweek</th>\n",
       "      <th>70thweek</th>\n",
       "      <th>71stweek</th>\n",
       "      <th>72ndweek</th>\n",
       "      <th>73rdweek</th>\n",
       "      <th>74thweek</th>\n",
       "      <th>75thweek</th>\n",
       "      <th>76thweek</th>\n",
       "    </tr>\n",
       "  </thead>\n",
       "  <tbody>\n",
       "    <tr>\n",
       "      <th>0</th>\n",
       "      <td>2000</td>\n",
       "      <td>Destiny's Child</td>\n",
       "      <td>Independent Women Part I</td>\n",
       "      <td>3:38</td>\n",
       "      <td>Rock</td>\n",
       "      <td>2000-09-23</td>\n",
       "      <td>2000-11-18</td>\n",
       "      <td>78</td>\n",
       "      <td>63.0</td>\n",
       "      <td>49.0</td>\n",
       "      <td>...</td>\n",
       "      <td>NaN</td>\n",
       "      <td>NaN</td>\n",
       "      <td>NaN</td>\n",
       "      <td>NaN</td>\n",
       "      <td>NaN</td>\n",
       "      <td>NaN</td>\n",
       "      <td>NaN</td>\n",
       "      <td>NaN</td>\n",
       "      <td>NaN</td>\n",
       "      <td>NaN</td>\n",
       "    </tr>\n",
       "    <tr>\n",
       "      <th>1</th>\n",
       "      <td>2000</td>\n",
       "      <td>Santana</td>\n",
       "      <td>Maria, Maria</td>\n",
       "      <td>4:18</td>\n",
       "      <td>Rock</td>\n",
       "      <td>2000-02-12</td>\n",
       "      <td>2000-04-08</td>\n",
       "      <td>15</td>\n",
       "      <td>8.0</td>\n",
       "      <td>6.0</td>\n",
       "      <td>...</td>\n",
       "      <td>NaN</td>\n",
       "      <td>NaN</td>\n",
       "      <td>NaN</td>\n",
       "      <td>NaN</td>\n",
       "      <td>NaN</td>\n",
       "      <td>NaN</td>\n",
       "      <td>NaN</td>\n",
       "      <td>NaN</td>\n",
       "      <td>NaN</td>\n",
       "      <td>NaN</td>\n",
       "    </tr>\n",
       "    <tr>\n",
       "      <th>2</th>\n",
       "      <td>2000</td>\n",
       "      <td>Savage Garden</td>\n",
       "      <td>I Knew I Loved You</td>\n",
       "      <td>4:07</td>\n",
       "      <td>Rock</td>\n",
       "      <td>1999-10-23</td>\n",
       "      <td>2000-01-29</td>\n",
       "      <td>71</td>\n",
       "      <td>48.0</td>\n",
       "      <td>43.0</td>\n",
       "      <td>...</td>\n",
       "      <td>NaN</td>\n",
       "      <td>NaN</td>\n",
       "      <td>NaN</td>\n",
       "      <td>NaN</td>\n",
       "      <td>NaN</td>\n",
       "      <td>NaN</td>\n",
       "      <td>NaN</td>\n",
       "      <td>NaN</td>\n",
       "      <td>NaN</td>\n",
       "      <td>NaN</td>\n",
       "    </tr>\n",
       "    <tr>\n",
       "      <th>3</th>\n",
       "      <td>2000</td>\n",
       "      <td>Madonna</td>\n",
       "      <td>Music</td>\n",
       "      <td>3:45</td>\n",
       "      <td>Rock</td>\n",
       "      <td>2000-08-12</td>\n",
       "      <td>2000-09-16</td>\n",
       "      <td>41</td>\n",
       "      <td>23.0</td>\n",
       "      <td>18.0</td>\n",
       "      <td>...</td>\n",
       "      <td>NaN</td>\n",
       "      <td>NaN</td>\n",
       "      <td>NaN</td>\n",
       "      <td>NaN</td>\n",
       "      <td>NaN</td>\n",
       "      <td>NaN</td>\n",
       "      <td>NaN</td>\n",
       "      <td>NaN</td>\n",
       "      <td>NaN</td>\n",
       "      <td>NaN</td>\n",
       "    </tr>\n",
       "    <tr>\n",
       "      <th>4</th>\n",
       "      <td>2000</td>\n",
       "      <td>Aguilera, Christina</td>\n",
       "      <td>Come On Over Baby (All I Want Is You)</td>\n",
       "      <td>3:38</td>\n",
       "      <td>Rock</td>\n",
       "      <td>2000-08-05</td>\n",
       "      <td>2000-10-14</td>\n",
       "      <td>57</td>\n",
       "      <td>47.0</td>\n",
       "      <td>45.0</td>\n",
       "      <td>...</td>\n",
       "      <td>NaN</td>\n",
       "      <td>NaN</td>\n",
       "      <td>NaN</td>\n",
       "      <td>NaN</td>\n",
       "      <td>NaN</td>\n",
       "      <td>NaN</td>\n",
       "      <td>NaN</td>\n",
       "      <td>NaN</td>\n",
       "      <td>NaN</td>\n",
       "      <td>NaN</td>\n",
       "    </tr>\n",
       "  </tbody>\n",
       "</table>\n",
       "<p>5 rows × 83 columns</p>\n",
       "</div>"
      ],
      "text/plain": [
       "   Year          Artist_Name                             Track_Name  \\\n",
       "0  2000      Destiny's Child               Independent Women Part I   \n",
       "1  2000              Santana                           Maria, Maria   \n",
       "2  2000        Savage Garden                     I Knew I Loved You   \n",
       "3  2000              Madonna                                  Music   \n",
       "4  2000  Aguilera, Christina  Come On Over Baby (All I Want Is You)   \n",
       "\n",
       "  Track_Length Genre Date_Released Date_Peaked  1stweek  2ndweek  3rdweek  \\\n",
       "0         3:38  Rock    2000-09-23  2000-11-18       78     63.0     49.0   \n",
       "1         4:18  Rock    2000-02-12  2000-04-08       15      8.0      6.0   \n",
       "2         4:07  Rock    1999-10-23  2000-01-29       71     48.0     43.0   \n",
       "3         3:45  Rock    2000-08-12  2000-09-16       41     23.0     18.0   \n",
       "4         3:38  Rock    2000-08-05  2000-10-14       57     47.0     45.0   \n",
       "\n",
       "     ...     67thweek  68thweek  69thweek  70thweek  71stweek  72ndweek  \\\n",
       "0    ...          NaN       NaN       NaN       NaN       NaN       NaN   \n",
       "1    ...          NaN       NaN       NaN       NaN       NaN       NaN   \n",
       "2    ...          NaN       NaN       NaN       NaN       NaN       NaN   \n",
       "3    ...          NaN       NaN       NaN       NaN       NaN       NaN   \n",
       "4    ...          NaN       NaN       NaN       NaN       NaN       NaN   \n",
       "\n",
       "   73rdweek  74thweek  75thweek  76thweek  \n",
       "0       NaN       NaN       NaN       NaN  \n",
       "1       NaN       NaN       NaN       NaN  \n",
       "2       NaN       NaN       NaN       NaN  \n",
       "3       NaN       NaN       NaN       NaN  \n",
       "4       NaN       NaN       NaN       NaN  \n",
       "\n",
       "[5 rows x 83 columns]"
      ]
     },
     "execution_count": 3,
     "metadata": {},
     "output_type": "execute_result"
    }
   ],
   "source": [
    "#For loop that searched through the week columns and removed the 'x' and '.'\n",
    "for col in billboard:\n",
    "    if any([x in col for x in ['x','.']]):\n",
    "        new_col = ''.join([x for x in col if x not in ['x','.']])\n",
    "        #print new_col\n",
    "        billboard.rename(columns ={col:new_col},inplace = True)\n",
    "\n",
    "#Changed the column names to make it look cleaner\n",
    "#The 13th column had to be remaned because it was missing an 'e' in 'week'\n",
    "column_change = {\n",
    "    'year':'Year',\n",
    "    'artistinverted':'Artist_Name',\n",
    "    'track':'Track_Name',\n",
    "    'time':'Track_Length',\n",
    "    'genre':'Genre',\n",
    "    'dateentered':'Date_Released',\n",
    "    'datepeaked':'Date_Peaked',\n",
    "    '13thwek':'13thweek'\n",
    "}\n",
    "\n",
    "billboard.rename(columns=column_change,inplace=True)\n",
    "billboard.head()"
   ]
  },
  {
   "cell_type": "code",
   "execution_count": 4,
   "metadata": {
    "collapsed": false
   },
   "outputs": [
    {
     "data": {
      "text/plain": [
       "Index([u'Year', u'Artist_Name', u'Track_Name', u'Track_Length', u'Genre',\n",
       "       u'Date_Released', u'Date_Peaked', u'1stweek', u'2ndweek', u'3rdweek',\n",
       "       u'4thweek', u'5thweek', u'6thweek', u'7thweek', u'8thweek', u'9thweek',\n",
       "       u'10thweek', u'11thweek', u'12thweek', u'13thweek', u'14thweek',\n",
       "       u'15thweek', u'16thweek', u'17thweek', u'18thweek', u'19thweek',\n",
       "       u'20thweek', u'21stweek', u'22ndweek', u'23rdweek', u'24thweek',\n",
       "       u'25thweek', u'26thweek', u'27thweek', u'28thweek', u'29thweek',\n",
       "       u'30thweek', u'31stweek', u'32ndweek', u'33rdweek', u'34thweek',\n",
       "       u'35thweek', u'36thweek', u'37thweek', u'38thweek', u'39thweek',\n",
       "       u'40thweek', u'41stweek', u'42ndweek', u'43rdweek', u'44thweek',\n",
       "       u'45thweek', u'46thweek', u'47thweek', u'48thweek', u'49thweek',\n",
       "       u'50thweek', u'51stweek', u'52ndweek', u'53rdweek', u'54thweek',\n",
       "       u'55thweek', u'56thweek', u'57thweek', u'58thweek', u'59thweek',\n",
       "       u'60thweek', u'61stweek', u'62ndweek', u'63rdweek', u'64thweek',\n",
       "       u'65thweek', u'66thweek', u'67thweek', u'68thweek', u'69thweek',\n",
       "       u'70thweek', u'71stweek', u'72ndweek', u'73rdweek', u'74thweek',\n",
       "       u'75thweek', u'76thweek'],\n",
       "      dtype='object')"
      ]
     },
     "execution_count": 4,
     "metadata": {},
     "output_type": "execute_result"
    }
   ],
   "source": [
    "billboard.columns"
   ]
  },
  {
   "cell_type": "code",
   "execution_count": 5,
   "metadata": {
    "collapsed": false
   },
   "outputs": [
    {
     "data": {
      "text/plain": [
       "Year               0\n",
       "Artist_Name        0\n",
       "Track_Name         0\n",
       "Track_Length       0\n",
       "Genre              0\n",
       "Date_Released      0\n",
       "Date_Peaked        1\n",
       "1stweek            0\n",
       "2ndweek            5\n",
       "3rdweek           10\n",
       "4thweek           17\n",
       "5thweek           25\n",
       "6thweek           37\n",
       "7thweek           48\n",
       "8thweek           57\n",
       "9thweek           64\n",
       "10thweek          73\n",
       "11thweek          81\n",
       "12thweek          95\n",
       "13thweek         107\n",
       "14thweek         113\n",
       "15thweek         120\n",
       "16thweek         135\n",
       "17thweek         140\n",
       "18thweek         151\n",
       "19thweek         161\n",
       "20thweek         171\n",
       "21stweek         252\n",
       "22ndweek         262\n",
       "23rdweek         269\n",
       "                ... \n",
       "47thweek         312\n",
       "48thweek         313\n",
       "49thweek         313\n",
       "50thweek         313\n",
       "51stweek         313\n",
       "52ndweek         313\n",
       "53rdweek         313\n",
       "54thweek         315\n",
       "55thweek         315\n",
       "56thweek         315\n",
       "57thweek         315\n",
       "58thweek         315\n",
       "59thweek         315\n",
       "60thweek         315\n",
       "61stweek         315\n",
       "62ndweek         315\n",
       "63rdweek         315\n",
       "64thweek         315\n",
       "65thweek         316\n",
       "66thweek         317\n",
       "67thweek         317\n",
       "68thweek         317\n",
       "69thweek         317\n",
       "70thweek         317\n",
       "71stweek         317\n",
       "72ndweek         317\n",
       "73rdweek         317\n",
       "74thweek         317\n",
       "75thweek         317\n",
       "76thweek         317\n",
       "dtype: int64"
      ]
     },
     "execution_count": 5,
     "metadata": {},
     "output_type": "execute_result"
    }
   ],
   "source": [
    "#Checked the total amount of 'NaN' values in each column\n",
    "billboard.isnull().sum()"
   ]
  },
  {
   "cell_type": "markdown",
   "metadata": {},
   "source": [
    "##### Using Pandas' built in `melt` function, pivot the weekly ranking data to be long rather than wide. As a result, you will have removed the 72 'week' columns and replace it with two: Week and Ranking. There will now be multiple entries for each song, one for each week on the Billboard rankings."
   ]
  },
  {
   "cell_type": "code",
   "execution_count": 6,
   "metadata": {
    "collapsed": false,
    "scrolled": true
   },
   "outputs": [
    {
     "name": "stdout",
     "output_type": "stream",
     "text": [
      "(317, 83)\n",
      "(317,)\n"
     ]
    },
    {
     "data": {
      "text/html": [
       "<div>\n",
       "<table border=\"1\" class=\"dataframe\">\n",
       "  <thead>\n",
       "    <tr style=\"text-align: right;\">\n",
       "      <th></th>\n",
       "      <th>ID</th>\n",
       "      <th>Year</th>\n",
       "      <th>Artist_Name</th>\n",
       "      <th>Track_Name</th>\n",
       "      <th>Track_Length</th>\n",
       "      <th>Genre</th>\n",
       "      <th>Date_Released</th>\n",
       "      <th>Date_Peaked</th>\n",
       "      <th>Week</th>\n",
       "      <th>Ranking</th>\n",
       "    </tr>\n",
       "  </thead>\n",
       "  <tbody>\n",
       "    <tr>\n",
       "      <th>24087</th>\n",
       "      <td>313</td>\n",
       "      <td>2000</td>\n",
       "      <td>Ghostface Killah</td>\n",
       "      <td>Cherchez LaGhost</td>\n",
       "      <td>3:04</td>\n",
       "      <td>R&amp;B</td>\n",
       "      <td>2000-08-05</td>\n",
       "      <td>2000-08-05</td>\n",
       "      <td>76thweek</td>\n",
       "      <td>NaN</td>\n",
       "    </tr>\n",
       "    <tr>\n",
       "      <th>24088</th>\n",
       "      <td>314</td>\n",
       "      <td>2000</td>\n",
       "      <td>Smith, Will</td>\n",
       "      <td>Freakin' It</td>\n",
       "      <td>3:58</td>\n",
       "      <td>Rap</td>\n",
       "      <td>2000-02-12</td>\n",
       "      <td>2000-02-12</td>\n",
       "      <td>76thweek</td>\n",
       "      <td>NaN</td>\n",
       "    </tr>\n",
       "    <tr>\n",
       "      <th>24089</th>\n",
       "      <td>315</td>\n",
       "      <td>2000</td>\n",
       "      <td>Zombie Nation</td>\n",
       "      <td>Kernkraft 400</td>\n",
       "      <td>3:30</td>\n",
       "      <td>Rock</td>\n",
       "      <td>2000-09-02</td>\n",
       "      <td>2000-09-02</td>\n",
       "      <td>76thweek</td>\n",
       "      <td>NaN</td>\n",
       "    </tr>\n",
       "    <tr>\n",
       "      <th>24090</th>\n",
       "      <td>316</td>\n",
       "      <td>2000</td>\n",
       "      <td>Eastsidaz, The</td>\n",
       "      <td>Got Beef</td>\n",
       "      <td>3:58</td>\n",
       "      <td>Rap</td>\n",
       "      <td>2000-07-01</td>\n",
       "      <td>2000-07-01</td>\n",
       "      <td>76thweek</td>\n",
       "      <td>NaN</td>\n",
       "    </tr>\n",
       "    <tr>\n",
       "      <th>24091</th>\n",
       "      <td>317</td>\n",
       "      <td>2000</td>\n",
       "      <td>Fragma</td>\n",
       "      <td>Toca's Miracle</td>\n",
       "      <td>3:22</td>\n",
       "      <td>R&amp;B</td>\n",
       "      <td>2000-10-28</td>\n",
       "      <td>2000-10-28</td>\n",
       "      <td>76thweek</td>\n",
       "      <td>NaN</td>\n",
       "    </tr>\n",
       "  </tbody>\n",
       "</table>\n",
       "</div>"
      ],
      "text/plain": [
       "        ID  Year       Artist_Name        Track_Name Track_Length Genre  \\\n",
       "24087  313  2000  Ghostface Killah  Cherchez LaGhost         3:04   R&B   \n",
       "24088  314  2000       Smith, Will       Freakin' It         3:58   Rap   \n",
       "24089  315  2000     Zombie Nation     Kernkraft 400         3:30  Rock   \n",
       "24090  316  2000    Eastsidaz, The          Got Beef         3:58   Rap   \n",
       "24091  317  2000            Fragma    Toca's Miracle         3:22   R&B   \n",
       "\n",
       "      Date_Released Date_Peaked      Week  Ranking  \n",
       "24087    2000-08-05  2000-08-05  76thweek      NaN  \n",
       "24088    2000-02-12  2000-02-12  76thweek      NaN  \n",
       "24089    2000-09-02  2000-09-02  76thweek      NaN  \n",
       "24090    2000-07-01  2000-07-01  76thweek      NaN  \n",
       "24091    2000-10-28  2000-10-28  76thweek      NaN  "
      ]
     },
     "execution_count": 6,
     "metadata": {},
     "output_type": "execute_result"
    }
   ],
   "source": [
    "#Used the format to change wide format to long format with the pd.melt pandas function\n",
    "subject_ids = np.arange(1, billboard.shape[0]+1)\n",
    "print billboard.shape\n",
    "print subject_ids.shape\n",
    "\n",
    "billboard['ID'] = subject_ids\n",
    "\n",
    "\n",
    "billboard_long = pd.melt(billboard,\n",
    "                        id_vars = ['ID','Year','Artist_Name','Track_Name','Track_Length','Genre','Date_Released',\n",
    "                                   'Date_Peaked'],\n",
    "                        value_vars=None,\n",
    "                        var_name='Week',\n",
    "                        value_name='Ranking'\n",
    "                        )\n",
    "billboard_long.tail()"
   ]
  },
  {
   "cell_type": "code",
   "execution_count": 7,
   "metadata": {
    "collapsed": false
   },
   "outputs": [
    {
     "data": {
      "text/html": [
       "<div>\n",
       "<table border=\"1\" class=\"dataframe\">\n",
       "  <thead>\n",
       "    <tr style=\"text-align: right;\">\n",
       "      <th></th>\n",
       "      <th>ID</th>\n",
       "      <th>Year</th>\n",
       "      <th>Artist_Name</th>\n",
       "      <th>Track_Name</th>\n",
       "      <th>Track_Length</th>\n",
       "      <th>Genre</th>\n",
       "      <th>Date_Released</th>\n",
       "      <th>Date_Peaked</th>\n",
       "      <th>Week</th>\n",
       "      <th>Ranking</th>\n",
       "    </tr>\n",
       "  </thead>\n",
       "  <tbody>\n",
       "    <tr>\n",
       "      <th>19663</th>\n",
       "      <td>10</td>\n",
       "      <td>2000</td>\n",
       "      <td>Lonestar</td>\n",
       "      <td>Amazed</td>\n",
       "      <td>4:25</td>\n",
       "      <td>Country</td>\n",
       "      <td>1999-06-05</td>\n",
       "      <td>2000-03-04</td>\n",
       "      <td>63rdweek</td>\n",
       "      <td>45.0</td>\n",
       "    </tr>\n",
       "    <tr>\n",
       "      <th>19700</th>\n",
       "      <td>47</td>\n",
       "      <td>2000</td>\n",
       "      <td>Creed</td>\n",
       "      <td>Higher</td>\n",
       "      <td>5:16</td>\n",
       "      <td>Rock</td>\n",
       "      <td>1999-09-11</td>\n",
       "      <td>2000-07-22</td>\n",
       "      <td>63rdweek</td>\n",
       "      <td>50.0</td>\n",
       "    </tr>\n",
       "    <tr>\n",
       "      <th>19980</th>\n",
       "      <td>10</td>\n",
       "      <td>2000</td>\n",
       "      <td>Lonestar</td>\n",
       "      <td>Amazed</td>\n",
       "      <td>4:25</td>\n",
       "      <td>Country</td>\n",
       "      <td>1999-06-05</td>\n",
       "      <td>2000-03-04</td>\n",
       "      <td>64thweek</td>\n",
       "      <td>50.0</td>\n",
       "    </tr>\n",
       "    <tr>\n",
       "      <th>20017</th>\n",
       "      <td>47</td>\n",
       "      <td>2000</td>\n",
       "      <td>Creed</td>\n",
       "      <td>Higher</td>\n",
       "      <td>5:16</td>\n",
       "      <td>Rock</td>\n",
       "      <td>1999-09-11</td>\n",
       "      <td>2000-07-22</td>\n",
       "      <td>64thweek</td>\n",
       "      <td>50.0</td>\n",
       "    </tr>\n",
       "    <tr>\n",
       "      <th>20334</th>\n",
       "      <td>47</td>\n",
       "      <td>2000</td>\n",
       "      <td>Creed</td>\n",
       "      <td>Higher</td>\n",
       "      <td>5:16</td>\n",
       "      <td>Rock</td>\n",
       "      <td>1999-09-11</td>\n",
       "      <td>2000-07-22</td>\n",
       "      <td>65thweek</td>\n",
       "      <td>49.0</td>\n",
       "    </tr>\n",
       "  </tbody>\n",
       "</table>\n",
       "</div>"
      ],
      "text/plain": [
       "       ID  Year Artist_Name Track_Name Track_Length    Genre Date_Released  \\\n",
       "19663  10  2000    Lonestar     Amazed         4:25  Country    1999-06-05   \n",
       "19700  47  2000       Creed     Higher         5:16     Rock    1999-09-11   \n",
       "19980  10  2000    Lonestar     Amazed         4:25  Country    1999-06-05   \n",
       "20017  47  2000       Creed     Higher         5:16     Rock    1999-09-11   \n",
       "20334  47  2000       Creed     Higher         5:16     Rock    1999-09-11   \n",
       "\n",
       "      Date_Peaked      Week  Ranking  \n",
       "19663  2000-03-04  63rdweek     45.0  \n",
       "19700  2000-07-22  63rdweek     50.0  \n",
       "19980  2000-03-04  64thweek     50.0  \n",
       "20017  2000-07-22  64thweek     50.0  \n",
       "20334  2000-07-22  65thweek     49.0  "
      ]
     },
     "execution_count": 7,
     "metadata": {},
     "output_type": "execute_result"
    }
   ],
   "source": [
    "#Created a mask to hid the NaN cells\n",
    "mask = np.isnan(billboard_long['Ranking'])\n",
    "billboard_nan = billboard_long[~mask]\n",
    "billboard_nan.tail()"
   ]
  },
  {
   "cell_type": "code",
   "execution_count": 8,
   "metadata": {
    "collapsed": false
   },
   "outputs": [
    {
     "name": "stdout",
     "output_type": "stream",
     "text": [
      "(24092, 10)\n",
      "(5307, 10)\n"
     ]
    }
   ],
   "source": [
    "print billboard_long.shape\n",
    "print billboard_nan.shape"
   ]
  },
  {
   "cell_type": "code",
   "execution_count": 9,
   "metadata": {
    "collapsed": false
   },
   "outputs": [
    {
     "name": "stderr",
     "output_type": "stream",
     "text": [
      "/Users/jrcmalunay/anaconda/lib/python2.7/site-packages/ipykernel/__main__.py:2: SettingWithCopyWarning: \n",
      "A value is trying to be set on a copy of a slice from a DataFrame.\n",
      "Try using .loc[row_indexer,col_indexer] = value instead\n",
      "\n",
      "See the caveats in the documentation: http://pandas.pydata.org/pandas-docs/stable/indexing.html#indexing-view-versus-copy\n",
      "  from ipykernel import kernelapp as app\n"
     ]
    },
    {
     "data": {
      "text/html": [
       "<div>\n",
       "<table border=\"1\" class=\"dataframe\">\n",
       "  <thead>\n",
       "    <tr style=\"text-align: right;\">\n",
       "      <th></th>\n",
       "      <th>ID</th>\n",
       "      <th>Year</th>\n",
       "      <th>Artist_Name</th>\n",
       "      <th>Track_Name</th>\n",
       "      <th>Track_Length</th>\n",
       "      <th>Genre</th>\n",
       "      <th>Date_Released</th>\n",
       "      <th>Date_Peaked</th>\n",
       "      <th>Week</th>\n",
       "      <th>Ranking</th>\n",
       "    </tr>\n",
       "  </thead>\n",
       "  <tbody>\n",
       "    <tr>\n",
       "      <th>19663</th>\n",
       "      <td>10</td>\n",
       "      <td>2000</td>\n",
       "      <td>Lonestar</td>\n",
       "      <td>Amazed</td>\n",
       "      <td>4:25</td>\n",
       "      <td>Country</td>\n",
       "      <td>1999-06-05</td>\n",
       "      <td>2000-03-04</td>\n",
       "      <td>63rdweek</td>\n",
       "      <td>45</td>\n",
       "    </tr>\n",
       "    <tr>\n",
       "      <th>19700</th>\n",
       "      <td>47</td>\n",
       "      <td>2000</td>\n",
       "      <td>Creed</td>\n",
       "      <td>Higher</td>\n",
       "      <td>5:16</td>\n",
       "      <td>Rock</td>\n",
       "      <td>1999-09-11</td>\n",
       "      <td>2000-07-22</td>\n",
       "      <td>63rdweek</td>\n",
       "      <td>50</td>\n",
       "    </tr>\n",
       "    <tr>\n",
       "      <th>19980</th>\n",
       "      <td>10</td>\n",
       "      <td>2000</td>\n",
       "      <td>Lonestar</td>\n",
       "      <td>Amazed</td>\n",
       "      <td>4:25</td>\n",
       "      <td>Country</td>\n",
       "      <td>1999-06-05</td>\n",
       "      <td>2000-03-04</td>\n",
       "      <td>64thweek</td>\n",
       "      <td>50</td>\n",
       "    </tr>\n",
       "    <tr>\n",
       "      <th>20017</th>\n",
       "      <td>47</td>\n",
       "      <td>2000</td>\n",
       "      <td>Creed</td>\n",
       "      <td>Higher</td>\n",
       "      <td>5:16</td>\n",
       "      <td>Rock</td>\n",
       "      <td>1999-09-11</td>\n",
       "      <td>2000-07-22</td>\n",
       "      <td>64thweek</td>\n",
       "      <td>50</td>\n",
       "    </tr>\n",
       "    <tr>\n",
       "      <th>20334</th>\n",
       "      <td>47</td>\n",
       "      <td>2000</td>\n",
       "      <td>Creed</td>\n",
       "      <td>Higher</td>\n",
       "      <td>5:16</td>\n",
       "      <td>Rock</td>\n",
       "      <td>1999-09-11</td>\n",
       "      <td>2000-07-22</td>\n",
       "      <td>65thweek</td>\n",
       "      <td>49</td>\n",
       "    </tr>\n",
       "  </tbody>\n",
       "</table>\n",
       "</div>"
      ],
      "text/plain": [
       "       ID  Year Artist_Name Track_Name Track_Length    Genre Date_Released  \\\n",
       "19663  10  2000    Lonestar     Amazed         4:25  Country    1999-06-05   \n",
       "19700  47  2000       Creed     Higher         5:16     Rock    1999-09-11   \n",
       "19980  10  2000    Lonestar     Amazed         4:25  Country    1999-06-05   \n",
       "20017  47  2000       Creed     Higher         5:16     Rock    1999-09-11   \n",
       "20334  47  2000       Creed     Higher         5:16     Rock    1999-09-11   \n",
       "\n",
       "      Date_Peaked      Week  Ranking  \n",
       "19663  2000-03-04  63rdweek       45  \n",
       "19700  2000-07-22  63rdweek       50  \n",
       "19980  2000-03-04  64thweek       50  \n",
       "20017  2000-07-22  64thweek       50  \n",
       "20334  2000-07-22  65thweek       49  "
      ]
     },
     "execution_count": 9,
     "metadata": {},
     "output_type": "execute_result"
    }
   ],
   "source": [
    "#Converted the 'Ranking' column for all values to be in integers\n",
    "billboard_nan['Ranking'] = billboard_nan['Ranking'].map(lambda x: int(x))\n",
    "\n",
    "billboard_nan.tail()"
   ]
  },
  {
   "cell_type": "code",
   "execution_count": 10,
   "metadata": {
    "collapsed": false
   },
   "outputs": [
    {
     "name": "stderr",
     "output_type": "stream",
     "text": [
      "/Users/jrcmalunay/anaconda/lib/python2.7/site-packages/ipykernel/__main__.py:4: SettingWithCopyWarning: \n",
      "A value is trying to be set on a copy of a slice from a DataFrame.\n",
      "Try using .loc[row_indexer,col_indexer] = value instead\n",
      "\n",
      "See the caveats in the documentation: http://pandas.pydata.org/pandas-docs/stable/indexing.html#indexing-view-versus-copy\n"
     ]
    },
    {
     "data": {
      "text/html": [
       "<div>\n",
       "<table border=\"1\" class=\"dataframe\">\n",
       "  <thead>\n",
       "    <tr style=\"text-align: right;\">\n",
       "      <th></th>\n",
       "      <th>ID</th>\n",
       "      <th>Year</th>\n",
       "      <th>Artist_Name</th>\n",
       "      <th>Track_Name</th>\n",
       "      <th>Track_Length</th>\n",
       "      <th>Genre</th>\n",
       "      <th>Date_Released</th>\n",
       "      <th>Date_Peaked</th>\n",
       "      <th>Week</th>\n",
       "      <th>Ranking</th>\n",
       "    </tr>\n",
       "  </thead>\n",
       "  <tbody>\n",
       "    <tr>\n",
       "      <th>0</th>\n",
       "      <td>1</td>\n",
       "      <td>2000</td>\n",
       "      <td>Destiny's Child</td>\n",
       "      <td>Independent Women Part I</td>\n",
       "      <td>218</td>\n",
       "      <td>Rock</td>\n",
       "      <td>2000-09-23</td>\n",
       "      <td>2000-11-18</td>\n",
       "      <td>1stweek</td>\n",
       "      <td>78</td>\n",
       "    </tr>\n",
       "    <tr>\n",
       "      <th>1</th>\n",
       "      <td>2</td>\n",
       "      <td>2000</td>\n",
       "      <td>Santana</td>\n",
       "      <td>Maria, Maria</td>\n",
       "      <td>258</td>\n",
       "      <td>Rock</td>\n",
       "      <td>2000-02-12</td>\n",
       "      <td>2000-04-08</td>\n",
       "      <td>1stweek</td>\n",
       "      <td>15</td>\n",
       "    </tr>\n",
       "    <tr>\n",
       "      <th>2</th>\n",
       "      <td>3</td>\n",
       "      <td>2000</td>\n",
       "      <td>Savage Garden</td>\n",
       "      <td>I Knew I Loved You</td>\n",
       "      <td>247</td>\n",
       "      <td>Rock</td>\n",
       "      <td>1999-10-23</td>\n",
       "      <td>2000-01-29</td>\n",
       "      <td>1stweek</td>\n",
       "      <td>71</td>\n",
       "    </tr>\n",
       "    <tr>\n",
       "      <th>3</th>\n",
       "      <td>4</td>\n",
       "      <td>2000</td>\n",
       "      <td>Madonna</td>\n",
       "      <td>Music</td>\n",
       "      <td>225</td>\n",
       "      <td>Rock</td>\n",
       "      <td>2000-08-12</td>\n",
       "      <td>2000-09-16</td>\n",
       "      <td>1stweek</td>\n",
       "      <td>41</td>\n",
       "    </tr>\n",
       "    <tr>\n",
       "      <th>4</th>\n",
       "      <td>5</td>\n",
       "      <td>2000</td>\n",
       "      <td>Aguilera, Christina</td>\n",
       "      <td>Come On Over Baby (All I Want Is You)</td>\n",
       "      <td>218</td>\n",
       "      <td>Rock</td>\n",
       "      <td>2000-08-05</td>\n",
       "      <td>2000-10-14</td>\n",
       "      <td>1stweek</td>\n",
       "      <td>57</td>\n",
       "    </tr>\n",
       "  </tbody>\n",
       "</table>\n",
       "</div>"
      ],
      "text/plain": [
       "   ID  Year          Artist_Name                             Track_Name  \\\n",
       "0   1  2000      Destiny's Child               Independent Women Part I   \n",
       "1   2  2000              Santana                           Maria, Maria   \n",
       "2   3  2000        Savage Garden                     I Knew I Loved You   \n",
       "3   4  2000              Madonna                                  Music   \n",
       "4   5  2000  Aguilera, Christina  Come On Over Baby (All I Want Is You)   \n",
       "\n",
       "   Track_Length Genre Date_Released Date_Peaked     Week  Ranking  \n",
       "0           218  Rock    2000-09-23  2000-11-18  1stweek       78  \n",
       "1           258  Rock    2000-02-12  2000-04-08  1stweek       15  \n",
       "2           247  Rock    1999-10-23  2000-01-29  1stweek       71  \n",
       "3           225  Rock    2000-08-12  2000-09-16  1stweek       41  \n",
       "4           218  Rock    2000-08-05  2000-10-14  1stweek       57  "
      ]
     },
     "execution_count": 10,
     "metadata": {},
     "output_type": "execute_result"
    }
   ],
   "source": [
    "#Converted the 'Track_Length' column from minutes to seconds\n",
    "to_seconds = lambda time:sum(map(lambda mi,sec: int(mi)*sec, time.split(':'),(60,1)))\n",
    "\n",
    "billboard_nan['Track_Length'] = billboard_long['Track_Length'].apply(to_seconds)\n",
    "billboard_nan.head()"
   ]
  },
  {
   "cell_type": "markdown",
   "metadata": {},
   "source": [
    "## Step 3: Visualize your data."
   ]
  },
  {
   "cell_type": "markdown",
   "metadata": {},
   "source": [
    "##### Using a plotting utility of your choice, create visualizations that will provide context to your data. There is no minimum or maximum number of graphs you should generate, but there should be a clear and consistent story being told. Give insights to the distribution, statistics, and relationships of the data. "
   ]
  },
  {
   "cell_type": "code",
   "execution_count": 11,
   "metadata": {
    "collapsed": false
   },
   "outputs": [
    {
     "name": "stderr",
     "output_type": "stream",
     "text": [
      "/Users/jrcmalunay/anaconda/lib/python2.7/site-packages/ipykernel/__main__.py:16: FutureWarning: sort(columns=....) is deprecated, use sort_values(by=.....)\n"
     ]
    },
    {
     "data": {
      "text/plain": [
       "<matplotlib.text.Text at 0x11971a190>"
      ]
     },
     "execution_count": 11,
     "metadata": {},
     "output_type": "execute_result"
    },
    {
     "data": {
      "image/png": "[encoded data removed]",
      "text/plain": [
       "<matplotlib.figure.Figure at 0x1172afd90>"
      ]
     },
     "metadata": {},
     "output_type": "display_data"
    }
   ],
   "source": [
    "# data modules\n",
    "import numpy as np\n",
    "import scipy.stats as stats\n",
    "import pandas as pd\n",
    "\n",
    "# plotting modules\n",
    "import matplotlib.pyplot as plt\n",
    "import seaborn as sns\n",
    "\n",
    "# make sure charts appear in the notebook:\n",
    "%matplotlib inline\n",
    "\n",
    "sns.set(rc={\"figure.figsize\": (12, 12)})\n",
    "\n",
    "rank_genre = billboard_nan[['Genre','Ranking']].groupby(['Genre']).count()\n",
    "rank_vs_genre = rank_genre.sort('Ranking').plot(kind='bar',stacked=True)\n",
    "rank_vs_genre.set_ylabel(\"Count of each Genre\")\n",
    "rank_vs_genre.set_title('Total amount of Rankings per Genre')\n"
   ]
  },
  {
   "cell_type": "code",
   "execution_count": 12,
   "metadata": {
    "collapsed": false
   },
   "outputs": [
    {
     "data": {
      "text/plain": [
       "<matplotlib.text.Text at 0x11a37e190>"
      ]
     },
     "execution_count": 12,
     "metadata": {},
     "output_type": "execute_result"
    },
    {
     "data": {
      "image/png": "[encoded data removed]",
      "text/plain": [
       "<matplotlib.figure.Figure at 0x1113da950>"
      ]
     },
     "metadata": {},
     "output_type": "display_data"
    }
   ],
   "source": [
    "sns.set(rc={\"figure.figsize\": (12, 12)})\n",
    "billboard_track_rank = billboard_nan.plot.scatter(x='Track_Length',y='Ranking')\n",
    "billboard_track_rank.set_title(\"Track_Length vs. Ranking\")\n",
    "#pd.to_datetime(billboard_nan['Date_Released'])\n",
    "\n",
    "\n",
    "#sns.tsplot(billboard_nan[['Date_Peaked']])\n",
    "#billboard_nan[['Date_Peaked']].dtypes\n",
    "#billboard_nan[['Date_Released']]"
   ]
  },
  {
   "cell_type": "code",
   "execution_count": 21,
   "metadata": {
    "collapsed": false
   },
   "outputs": [
    {
     "name": "stderr",
     "output_type": "stream",
     "text": [
      "/Users/jrcmalunay/anaconda/lib/python2.7/site-packages/ipykernel/__main__.py:3: SettingWithCopyWarning: \n",
      "A value is trying to be set on a copy of a slice from a DataFrame.\n",
      "Try using .loc[row_indexer,col_indexer] = value instead\n",
      "\n",
      "See the caveats in the documentation: http://pandas.pydata.org/pandas-docs/stable/indexing.html#indexing-view-versus-copy\n",
      "  app.launch_new_instance()\n",
      "/Users/jrcmalunay/anaconda/lib/python2.7/site-packages/ipykernel/__main__.py:4: SettingWithCopyWarning: \n",
      "A value is trying to be set on a copy of a slice from a DataFrame.\n",
      "Try using .loc[row_indexer,col_indexer] = value instead\n",
      "\n",
      "See the caveats in the documentation: http://pandas.pydata.org/pandas-docs/stable/indexing.html#indexing-view-versus-copy\n"
     ]
    },
    {
     "data": {
      "image/png": "[encoded data removed]",
      "text/plain": [
       "<matplotlib.figure.Figure at 0x1040677d0>"
      ]
     },
     "metadata": {},
     "output_type": "display_data"
    }
   ],
   "source": [
    "import datetime\n",
    "\n",
    "billboard_nan['Date_Peaked'] = billboard['Date_Peaked'].apply(pd.to_datetime)\n",
    "billboard_nan['Date_Released'] = billboard['Date_Released'].apply(pd.to_datetime)\n",
    "\n",
    "plt.plot_date(y=billboard_nan['Date_Peaked'],x=billboard_nan['Date_Released'],fmt='r-')\n",
    "plt.show()"
   ]
  },
  {
   "cell_type": "markdown",
   "metadata": {},
   "source": [
    "## Step 4: Create a Problem Statement.\n",
    "\n",
    "##### Having explored the data, come up with a problem statement for this data set. You can feel free to introduce data from any other source to support your problem statement, just be sure to provide a link to the origin of the data. Once again- be creative!"
   ]
  },
  {
   "cell_type": "markdown",
   "metadata": {
    "collapsed": true
   },
   "source": [
    "Rock, country, and hip hop music has been a dominant category over the years and even til this day. However, pop culture has lead to newer types of genres such as mash ups and remixes. For example, electro music is mashing up with hip hop, country with hip hop, and much more. From 2000 to 2010, there are genres such as dubstep and trip hop. Regardless of new types of music, rock, country, and hip hop music will be the three top genres in the next 20+ years. These three categories have boomed in the music industry and will contintue to be in the near future."
   ]
  },
  {
   "cell_type": "markdown",
   "metadata": {
    "collapsed": false
   },
   "source": [
    "## Step 5: Brainstorm your Approach.\n",
    "##### In bullet-list form, provide a proposed approach for evaluating your problem statement. This can be somewhat high-level, but start to think about ways you can massage the data for maximum efficacy. "
   ]
  },
  {
   "cell_type": "markdown",
   "metadata": {
    "collapsed": true
   },
   "source": [
    "- CLEAN DATA!\n",
    "- Collect all Billboard data sets, even from the beginning (1940s/1950s)\n",
    "- Sort the data and determine the top genres \n",
    "- Determine patterns \n",
    "- Be sure to collect reasonable data"
   ]
  },
  {
   "cell_type": "markdown",
   "metadata": {
    "collapsed": true
   },
   "source": [
    "## Step 6: Create a blog post with your code snippets and visualizations.\n",
    "##### Data Science is a growing field, and the Tech industry thrives off of collaboration and sharing of knowledge. Blogging is a powerful means for pushing the needle forward in our field. Using your blogging platform of choice, create a post describing each of the 5 steps above. Rather than writing a procedural text, imagine you're describing the data, visualizations, and conclusions you've arrived at to your peers. Aim for roughly 800-1,000 words. "
   ]
  },
  {
   "cell_type": "code",
   "execution_count": null,
   "metadata": {
    "collapsed": true
   },
   "outputs": [],
   "source": []
  },
  {
   "cell_type": "markdown",
   "metadata": {},
   "source": [
    "## BONUS: The Content Managers working for the Podcast Publishing Company have recognized you as a thought leader in your field. They've asked you to pen a white paper (minimum 600 words) on the subject of 'What It Means To Have Clean Data'. This will be an opinion piece read by a wide audience, so be sure to back up your statements with real world examples or scenarios.\n",
    "\n",
    "##### Hint: To get started, look around on the internet for articles, blog posts, papers, youtube videos, podcasts, reddit discussions, anything that will help you understand the challenges and implications of dealing with big data. This should be a personal reflection on everything you've learned this week, and the learning goals that have been set out for you going forward. "
   ]
  },
  {
   "cell_type": "code",
   "execution_count": null,
   "metadata": {
    "collapsed": true
   },
   "outputs": [],
   "source": []
  }
 ],
 "metadata": {
  "kernelspec": {
   "display_name": "Python 2",
   "language": "python",
   "name": "python2"
  },
  "language_info": {
   "codemirror_mode": {
    "name": "ipython",
    "version": 2
   },
   "file_extension": ".py",
   "mimetype": "text/x-python",
   "name": "python",
   "nbconvert_exporter": "python",
   "pygments_lexer": "ipython2",
   "version": "2.7.11"
  }
 },
 "nbformat": 4,
 "nbformat_minor": 0
}
