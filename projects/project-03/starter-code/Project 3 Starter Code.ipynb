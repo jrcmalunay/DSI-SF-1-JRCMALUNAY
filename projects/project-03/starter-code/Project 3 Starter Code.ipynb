{
 "cells": [
  {
   "cell_type": "markdown",
   "metadata": {},
   "source": [
    "# Getting started\n",
    "\n",
    "Once you've chosen your scenario, download the data from [the Iowa website](https://data.iowa.gov/Economy/Iowa-Liquor-Sales/m3tr-qhgy) in csv format. Start by loading the data with pandas. You may need to parse the date columns appropriately."
   ]
  },
  {
   "cell_type": "code",
   "execution_count": 1,
   "metadata": {
    "collapsed": false
   },
   "outputs": [],
   "source": [
    "import pandas as pd\n",
    "import numpy as np\n",
    "\n",
    "## Load the data into a DataFrame\n",
    "# pd.read_csv()\n",
    "liquor_path = '../Iowa_Liquor_sales_sample_10pct.csv'\n",
    "liquor = pd.read_csv(liquor_path)\n",
    "liquor.head()\n",
    "\n",
    "## Transform the dates if needed, e.g.\n",
    "liquor['Date'] = pd.to_datetime(liquor['Date'], format='%m/%d/%Y')"
   ]
  },
  {
   "cell_type": "code",
   "execution_count": 2,
   "metadata": {
    "collapsed": false
   },
   "outputs": [],
   "source": [
    "#Created a Year and Month columns to extract the month and year of transactions\n",
    "liquor['Year'] = liquor['Date'].dt.year\n",
    "liquor['Month']=liquor['Date'].dt.month"
   ]
  },
  {
   "cell_type": "code",
   "execution_count": 3,
   "metadata": {
    "collapsed": false
   },
   "outputs": [],
   "source": [
    "#Converted State Bottle Retail to float type and removed $\n",
    "liquor['State Bottle Retail'] = [s.replace(\"$\",\"\") for s in liquor['State Bottle Retail']]\n",
    "liquor['State Bottle Retail'] = [float(x) for x in liquor['State Bottle Retail']]\n",
    "\n",
    "liquor_state_retail = liquor['State Bottle Retail']"
   ]
  },
  {
   "cell_type": "code",
   "execution_count": 4,
   "metadata": {
    "collapsed": true
   },
   "outputs": [],
   "source": [
    "#Converted State Bottle Cost to float type and removed $\n",
    "liquor['State Bottle Cost'] = [s.replace(\"$\",\"\") for s in liquor['State Bottle Cost']]\n",
    "liquor['State Bottle Cost'] = [float(x) for x in liquor['State Bottle Cost']]\n",
    "\n",
    "liquor_state_cost = liquor['State Bottle Cost']"
   ]
  },
  {
   "cell_type": "code",
   "execution_count": 5,
   "metadata": {
    "collapsed": true
   },
   "outputs": [],
   "source": [
    "#Converted Sale (Dollars) to float type and removed $\n",
    "liquor['Sale (Dollars)'] = [s.replace(\"$\",\"\") for s in liquor['Sale (Dollars)']]\n",
    "liquor['Sale (Dollars)'] = [float(x) for x in liquor['Sale (Dollars)']]\n",
    "\n",
    "liquor_state_dollars = liquor['Sale (Dollars)']"
   ]
  },
  {
   "cell_type": "code",
   "execution_count": 6,
   "metadata": {
    "collapsed": true
   },
   "outputs": [],
   "source": [
    "#Dropped null/bad values\n",
    "liquor = liquor.dropna()"
   ]
  },
  {
   "cell_type": "code",
   "execution_count": 7,
   "metadata": {
    "collapsed": false
   },
   "outputs": [],
   "source": [
    "#Convert Category and County Number to int\n",
    "liquor['Category'] = liquor['Category'].map(lambda x: int(x))\n",
    "liquor['County Number'] = liquor['County Number'].map(lambda x: int(x))"
   ]
  },
  {
   "cell_type": "code",
   "execution_count": 8,
   "metadata": {
    "collapsed": false
   },
   "outputs": [
    {
     "data": {
      "text/html": [
       "<div>\n",
       "<table border=\"1\" class=\"dataframe\">\n",
       "  <thead>\n",
       "    <tr style=\"text-align: right;\">\n",
       "      <th></th>\n",
       "      <th>Date</th>\n",
       "      <th>Store Number</th>\n",
       "      <th>City</th>\n",
       "      <th>Zip Code</th>\n",
       "      <th>County Number</th>\n",
       "      <th>County</th>\n",
       "      <th>Category</th>\n",
       "      <th>Category Name</th>\n",
       "      <th>Vendor Number</th>\n",
       "      <th>Item Number</th>\n",
       "      <th>...</th>\n",
       "      <th>State Bottle Cost</th>\n",
       "      <th>State Bottle Retail</th>\n",
       "      <th>Bottles Sold</th>\n",
       "      <th>Sale (Dollars)</th>\n",
       "      <th>Volume Sold (Liters)</th>\n",
       "      <th>Volume Sold (Gallons)</th>\n",
       "      <th>Year</th>\n",
       "      <th>Month</th>\n",
       "      <th>Margin</th>\n",
       "      <th>Price per Liter</th>\n",
       "    </tr>\n",
       "  </thead>\n",
       "  <tbody>\n",
       "    <tr>\n",
       "      <th>0</th>\n",
       "      <td>2015-11-04</td>\n",
       "      <td>3717</td>\n",
       "      <td>SUMNER</td>\n",
       "      <td>50674</td>\n",
       "      <td>9</td>\n",
       "      <td>Bremer</td>\n",
       "      <td>1051100</td>\n",
       "      <td>APRICOT BRANDIES</td>\n",
       "      <td>55</td>\n",
       "      <td>54436</td>\n",
       "      <td>...</td>\n",
       "      <td>4.50</td>\n",
       "      <td>6.75</td>\n",
       "      <td>12</td>\n",
       "      <td>81.00</td>\n",
       "      <td>9.0</td>\n",
       "      <td>2.38</td>\n",
       "      <td>2015</td>\n",
       "      <td>11</td>\n",
       "      <td>27.00</td>\n",
       "      <td>9.000000</td>\n",
       "    </tr>\n",
       "    <tr>\n",
       "      <th>1</th>\n",
       "      <td>2016-03-02</td>\n",
       "      <td>2614</td>\n",
       "      <td>DAVENPORT</td>\n",
       "      <td>52807</td>\n",
       "      <td>82</td>\n",
       "      <td>Scott</td>\n",
       "      <td>1011100</td>\n",
       "      <td>BLENDED WHISKIES</td>\n",
       "      <td>395</td>\n",
       "      <td>27605</td>\n",
       "      <td>...</td>\n",
       "      <td>13.75</td>\n",
       "      <td>20.63</td>\n",
       "      <td>2</td>\n",
       "      <td>41.26</td>\n",
       "      <td>1.5</td>\n",
       "      <td>0.40</td>\n",
       "      <td>2016</td>\n",
       "      <td>3</td>\n",
       "      <td>13.76</td>\n",
       "      <td>27.506667</td>\n",
       "    </tr>\n",
       "    <tr>\n",
       "      <th>2</th>\n",
       "      <td>2016-02-11</td>\n",
       "      <td>2106</td>\n",
       "      <td>CEDAR FALLS</td>\n",
       "      <td>50613</td>\n",
       "      <td>7</td>\n",
       "      <td>Black Hawk</td>\n",
       "      <td>1011200</td>\n",
       "      <td>STRAIGHT BOURBON WHISKIES</td>\n",
       "      <td>65</td>\n",
       "      <td>19067</td>\n",
       "      <td>...</td>\n",
       "      <td>12.59</td>\n",
       "      <td>18.89</td>\n",
       "      <td>24</td>\n",
       "      <td>453.36</td>\n",
       "      <td>24.0</td>\n",
       "      <td>6.34</td>\n",
       "      <td>2016</td>\n",
       "      <td>2</td>\n",
       "      <td>151.20</td>\n",
       "      <td>18.890000</td>\n",
       "    </tr>\n",
       "    <tr>\n",
       "      <th>3</th>\n",
       "      <td>2016-02-03</td>\n",
       "      <td>2501</td>\n",
       "      <td>AMES</td>\n",
       "      <td>50010</td>\n",
       "      <td>85</td>\n",
       "      <td>Story</td>\n",
       "      <td>1071100</td>\n",
       "      <td>AMERICAN COCKTAILS</td>\n",
       "      <td>395</td>\n",
       "      <td>59154</td>\n",
       "      <td>...</td>\n",
       "      <td>9.50</td>\n",
       "      <td>14.25</td>\n",
       "      <td>6</td>\n",
       "      <td>85.50</td>\n",
       "      <td>10.5</td>\n",
       "      <td>2.77</td>\n",
       "      <td>2016</td>\n",
       "      <td>2</td>\n",
       "      <td>28.50</td>\n",
       "      <td>8.142857</td>\n",
       "    </tr>\n",
       "    <tr>\n",
       "      <th>4</th>\n",
       "      <td>2015-08-18</td>\n",
       "      <td>3654</td>\n",
       "      <td>BELMOND</td>\n",
       "      <td>50421</td>\n",
       "      <td>99</td>\n",
       "      <td>Wright</td>\n",
       "      <td>1031080</td>\n",
       "      <td>VODKA 80 PROOF</td>\n",
       "      <td>297</td>\n",
       "      <td>35918</td>\n",
       "      <td>...</td>\n",
       "      <td>7.20</td>\n",
       "      <td>10.80</td>\n",
       "      <td>12</td>\n",
       "      <td>129.60</td>\n",
       "      <td>21.0</td>\n",
       "      <td>5.55</td>\n",
       "      <td>2015</td>\n",
       "      <td>8</td>\n",
       "      <td>43.20</td>\n",
       "      <td>6.171429</td>\n",
       "    </tr>\n",
       "  </tbody>\n",
       "</table>\n",
       "<p>5 rows × 22 columns</p>\n",
       "</div>"
      ],
      "text/plain": [
       "        Date  Store Number         City Zip Code  County Number      County  \\\n",
       "0 2015-11-04          3717       SUMNER    50674              9      Bremer   \n",
       "1 2016-03-02          2614    DAVENPORT    52807             82       Scott   \n",
       "2 2016-02-11          2106  CEDAR FALLS    50613              7  Black Hawk   \n",
       "3 2016-02-03          2501         AMES    50010             85       Story   \n",
       "4 2015-08-18          3654      BELMOND    50421             99      Wright   \n",
       "\n",
       "   Category              Category Name  Vendor Number  Item Number  \\\n",
       "0   1051100           APRICOT BRANDIES             55        54436   \n",
       "1   1011100           BLENDED WHISKIES            395        27605   \n",
       "2   1011200  STRAIGHT BOURBON WHISKIES             65        19067   \n",
       "3   1071100         AMERICAN COCKTAILS            395        59154   \n",
       "4   1031080             VODKA 80 PROOF            297        35918   \n",
       "\n",
       "        ...        State Bottle Cost  State Bottle Retail  Bottles Sold  \\\n",
       "0       ...                     4.50                 6.75            12   \n",
       "1       ...                    13.75                20.63             2   \n",
       "2       ...                    12.59                18.89            24   \n",
       "3       ...                     9.50                14.25             6   \n",
       "4       ...                     7.20                10.80            12   \n",
       "\n",
       "   Sale (Dollars)  Volume Sold (Liters)  Volume Sold (Gallons)  Year  Month  \\\n",
       "0           81.00                   9.0                   2.38  2015     11   \n",
       "1           41.26                   1.5                   0.40  2016      3   \n",
       "2          453.36                  24.0                   6.34  2016      2   \n",
       "3           85.50                  10.5                   2.77  2016      2   \n",
       "4          129.60                  21.0                   5.55  2015      8   \n",
       "\n",
       "   Margin  Price per Liter  \n",
       "0   27.00         9.000000  \n",
       "1   13.76        27.506667  \n",
       "2  151.20        18.890000  \n",
       "3   28.50         8.142857  \n",
       "4   43.20         6.171429  \n",
       "\n",
       "[5 rows x 22 columns]"
      ]
     },
     "execution_count": 8,
     "metadata": {},
     "output_type": "execute_result"
    }
   ],
   "source": [
    "#Created a margin and price per liter column \n",
    "\n",
    "liquor[\"Margin\"] = (liquor[\"State Bottle Retail\"] - liquor[\"State Bottle Cost\"]) * liquor[\"Bottles Sold\"]\n",
    "liquor[\"Price per Liter\"] = liquor[\"Sale (Dollars)\"] / liquor[\"Volume Sold (Liters)\"]\n",
    "liquor.head()"
   ]
  },
  {
   "cell_type": "code",
   "execution_count": 9,
   "metadata": {
    "collapsed": false,
    "scrolled": true
   },
   "outputs": [],
   "source": [
    "# liquor.sort_values(by='Date',ascending=False).shape\n",
    "# dates = liquor.sort_values(by=[\"Date\"],ascending=True)\n",
    "# dates.tail()\n",
    "# #dates = dates.agg({\"Date\": [np.min, np.max]})"
   ]
  },
  {
   "cell_type": "markdown",
   "metadata": {},
   "source": [
    "# Explore the data\n",
    "\n",
    "Perform some exploratory statistical analysis and make some plots, such as histograms of transaction totals, bottles sold, etc."
   ]
  },
  {
   "cell_type": "code",
   "execution_count": 10,
   "metadata": {
    "collapsed": true
   },
   "outputs": [],
   "source": [
    "import seaborn as sns\n",
    "import matplotlib.pyplot as plt\n",
    "\n",
    "%matplotlib inline\n",
    "from matplotlib import pyplot as plt\n",
    "\n",
    "from sklearn import datasets, linear_model\n",
    "from sklearn.metrics import mean_squared_error"
   ]
  },
  {
   "cell_type": "code",
   "execution_count": 11,
   "metadata": {
    "collapsed": false
   },
   "outputs": [],
   "source": [
    "#Created a mask to extract all the transactions in 2015 alone\n",
    "date_mask = (liquor['Date'] >= \"2015-01-01\") & (liquor['Date'] <= \"2015-12-31\")\n",
    "liquor_2015 = liquor[date_mask].sort_values(by=['Date'])"
   ]
  },
  {
   "cell_type": "code",
   "execution_count": 12,
   "metadata": {
    "collapsed": false
   },
   "outputs": [
    {
     "data": {
      "text/plain": [
       "<matplotlib.text.Text at 0x12366de50>"
      ]
     },
     "execution_count": 12,
     "metadata": {},
     "output_type": "execute_result"
    },
    {
     "data": {
      "image/png": "[encoded data removed]",
      "text/plain": [
       "<matplotlib.figure.Figure at 0x1113ef190>"
      ]
     },
     "metadata": {},
     "output_type": "display_data"
    }
   ],
   "source": [
    "#Plotted a distribution of total sales per month in 2015\n",
    "monthly_sales_2015 = liquor_2015[['Sale (Dollars)','Month']].groupby(['Month']).sum()\n",
    "month_sales_15 = monthly_sales_2015.plot(kind='bar',figsize=(8,8))\n",
    "month_sales_15.set_ylabel('Sale ($)')\n",
    "month_sales_15.set_title('Total Sales Per Month in 2015')\n",
    "#monthly_sales_2015"
   ]
  },
  {
   "cell_type": "code",
   "execution_count": 13,
   "metadata": {
    "collapsed": false
   },
   "outputs": [
    {
     "data": {
      "text/plain": [
       "<matplotlib.text.Text at 0x112f59d90>"
      ]
     },
     "execution_count": 13,
     "metadata": {},
     "output_type": "execute_result"
    },
    {
     "data": {
      "image/png": "[encoded data removed]",
      "text/plain": [
       "<matplotlib.figure.Figure at 0x1235f7cd0>"
      ]
     },
     "metadata": {},
     "output_type": "display_data"
    }
   ],
   "source": [
    "#Plotted a distribution of total bottles sold in 2016 for only January, February, and March\n",
    "liquor_2016 = liquor[~date_mask].sort_values(by=['Date'])\n",
    "bottles_sold = liquor_2016[['Bottles Sold','Month']].groupby(['Month']).sum()\n",
    "bottles_vs_month = bottles_sold.plot(kind='bar', figsize=(8,8))\n",
    "bottles_vs_month.set_ylabel('Bottles Sold')\n",
    "bottles_vs_month.set_title('Total Bottles Sold per Month in 2016 (January 4 to  March 31)')"
   ]
  },
  {
   "cell_type": "code",
   "execution_count": 14,
   "metadata": {
    "collapsed": false
   },
   "outputs": [
    {
     "data": {
      "text/plain": [
       "(1378, 3)"
      ]
     },
     "execution_count": 14,
     "metadata": {},
     "output_type": "execute_result"
    }
   ],
   "source": [
    "# Determine which stores were open all of 2015\n",
    "# Find the first and last sales date.\n",
    "dates = liquor.groupby(by=[\"Store Number\"], as_index=False)\n",
    "dates = dates.agg({\"Date\": [np.min, np.max]})\n",
    "dates.columns = [' '.join(col).strip() for col in dates.columns.values]\n",
    "dates.head()\n",
    "\n",
    "# Filter out stores that opened or closed throughout the year\n",
    "# You may want to save this step until you start modelling\n",
    "lower_cutoff = pd.Timestamp(\"20150301\")\n",
    "upper_cutoff = pd.Timestamp(\"20151001\")\n",
    "mask = (dates['Date amin'] < lower_cutoff) & (dates['Date amax'] > upper_cutoff)\n",
    "good_stores = dates[mask][\"Store Number\"]\n",
    "liquor = liquor[liquor[\"Store Number\"].isin(good_stores)]\n",
    "dates.shape"
   ]
  },
  {
   "cell_type": "code",
   "execution_count": 15,
   "metadata": {
    "collapsed": false
   },
   "outputs": [
    {
     "data": {
      "text/plain": [
       "(1161,)"
      ]
     },
     "execution_count": 15,
     "metadata": {},
     "output_type": "execute_result"
    }
   ],
   "source": [
    "good_stores.shape"
   ]
  },
  {
   "cell_type": "markdown",
   "metadata": {},
   "source": [
    "## Record your findings\n",
    "\n",
    "Be sure to write out anything observations from your exploratory analysis."
   ]
  },
  {
   "cell_type": "markdown",
   "metadata": {},
   "source": [
    "# Mine the data\n",
    "Now you are ready to compute the variables you will use for your regression from the data. For example, you may want to\n",
    "compute total sales per store from Jan to March of 2015, mean price per bottle, etc. Refer to the readme for more ideas appropriate to your scenario.\n",
    "\n",
    "Pandas is your friend for this task. Take a look at the operations [here](http://pandas.pydata.org/pandas-docs/stable/groupby.html) for ideas on how to make the best use of pandas and feel free to search for blog and Stack Overflow posts to help you group data by certain variables and compute sums, means, etc. You may find it useful to create a new data frame to house this summary data."
   ]
  },
  {
   "cell_type": "code",
   "execution_count": 16,
   "metadata": {
    "collapsed": false,
    "scrolled": true
   },
   "outputs": [
    {
     "name": "stderr",
     "output_type": "stream",
     "text": [
      "/Users/jrcmalunay/anaconda/lib/python2.7/site-packages/ipykernel/__main__.py:2: UserWarning: Boolean Series key will be reindexed to match DataFrame index.\n",
      "  from ipykernel import kernelapp as app\n"
     ]
    },
    {
     "data": {
      "text/html": [
       "<div>\n",
       "<table border=\"1\" class=\"dataframe\">\n",
       "  <thead>\n",
       "    <tr style=\"text-align: right;\">\n",
       "      <th></th>\n",
       "      <th>Store Number</th>\n",
       "      <th>City</th>\n",
       "      <th>2015 Sales</th>\n",
       "      <th>2015 Sales Mean</th>\n",
       "      <th>County Number</th>\n",
       "      <th>Price per Liter mean</th>\n",
       "      <th>Zip Code</th>\n",
       "      <th>Volume Sold (Liters) sum</th>\n",
       "      <th>Volume Sold (Liters) mean</th>\n",
       "      <th>2015 Margin mean</th>\n",
       "    </tr>\n",
       "  </thead>\n",
       "  <tbody>\n",
       "    <tr>\n",
       "      <th>0</th>\n",
       "      <td>2106</td>\n",
       "      <td>CEDAR FALLS</td>\n",
       "      <td>146038.70</td>\n",
       "      <td>277.640114</td>\n",
       "      <td>7</td>\n",
       "      <td>17.844997</td>\n",
       "      <td>50613</td>\n",
       "      <td>9719.85</td>\n",
       "      <td>18.478802</td>\n",
       "      <td>92.665779</td>\n",
       "    </tr>\n",
       "    <tr>\n",
       "      <th>1</th>\n",
       "      <td>2113</td>\n",
       "      <td>GOWRIE</td>\n",
       "      <td>9310.22</td>\n",
       "      <td>63.334830</td>\n",
       "      <td>94</td>\n",
       "      <td>18.507700</td>\n",
       "      <td>50543</td>\n",
       "      <td>659.85</td>\n",
       "      <td>4.488776</td>\n",
       "      <td>21.149932</td>\n",
       "    </tr>\n",
       "    <tr>\n",
       "      <th>2</th>\n",
       "      <td>2130</td>\n",
       "      <td>WATERLOO</td>\n",
       "      <td>111583.91</td>\n",
       "      <td>285.380844</td>\n",
       "      <td>7</td>\n",
       "      <td>16.817589</td>\n",
       "      <td>50703</td>\n",
       "      <td>6879.37</td>\n",
       "      <td>17.594297</td>\n",
       "      <td>95.215652</td>\n",
       "    </tr>\n",
       "    <tr>\n",
       "      <th>3</th>\n",
       "      <td>2152</td>\n",
       "      <td>ROCKWELL</td>\n",
       "      <td>7721.08</td>\n",
       "      <td>54.759433</td>\n",
       "      <td>17</td>\n",
       "      <td>13.020765</td>\n",
       "      <td>50469</td>\n",
       "      <td>633.37</td>\n",
       "      <td>4.491986</td>\n",
       "      <td>18.351277</td>\n",
       "    </tr>\n",
       "    <tr>\n",
       "      <th>4</th>\n",
       "      <td>2178</td>\n",
       "      <td>WAUKON</td>\n",
       "      <td>24324.18</td>\n",
       "      <td>102.633671</td>\n",
       "      <td>3</td>\n",
       "      <td>16.053844</td>\n",
       "      <td>52172</td>\n",
       "      <td>1917.12</td>\n",
       "      <td>8.089114</td>\n",
       "      <td>34.454430</td>\n",
       "    </tr>\n",
       "  </tbody>\n",
       "</table>\n",
       "</div>"
      ],
      "text/plain": [
       "   Store Number         City  2015 Sales  2015 Sales Mean  County Number  \\\n",
       "0          2106  CEDAR FALLS   146038.70       277.640114              7   \n",
       "1          2113       GOWRIE     9310.22        63.334830             94   \n",
       "2          2130     WATERLOO   111583.91       285.380844              7   \n",
       "3          2152     ROCKWELL     7721.08        54.759433             17   \n",
       "4          2178       WAUKON    24324.18       102.633671              3   \n",
       "\n",
       "   Price per Liter mean Zip Code  Volume Sold (Liters) sum  \\\n",
       "0             17.844997    50613                   9719.85   \n",
       "1             18.507700    50543                    659.85   \n",
       "2             16.817589    50703                   6879.37   \n",
       "3             13.020765    50469                    633.37   \n",
       "4             16.053844    52172                   1917.12   \n",
       "\n",
       "   Volume Sold (Liters) mean  2015 Margin mean  \n",
       "0                  18.478802         92.665779  \n",
       "1                   4.488776         21.149932  \n",
       "2                  17.594297         95.215652  \n",
       "3                   4.491986         18.351277  \n",
       "4                   8.089114         34.454430  "
      ]
     },
     "execution_count": 16,
     "metadata": {},
     "output_type": "execute_result"
    }
   ],
   "source": [
    "#Sort only sales for 2015, used \"mask\" as my timeframe\n",
    "sales = liquor[date_mask]\n",
    "\n",
    "#Used groupby to \"Store Number\"\n",
    "sales = sales.groupby(['Store Number'],as_index=False)\n",
    "\n",
    "#Assigned columns to calculate the sum and mean of Sales, Volume Sold (Liters), Margin, and Price per Liter\n",
    "#Also held the Zip Code, City, and County Number\n",
    "sales = sales.agg({\"Sale (Dollars)\": [np.sum, np.mean],\n",
    "                   \"Volume Sold (Liters)\": [np.sum, np.mean],\n",
    "                   \"Margin\": np.mean,\n",
    "                   \"Price per Liter\": np.mean,\n",
    "                   \"Zip Code\": lambda x: x.iloc[0], \n",
    "                   \"City\": lambda x: x.iloc[0],\n",
    "                   \"County Number\": lambda x: x.iloc[0]})\n",
    "\n",
    "#Columns were messy so had to combined them down one\n",
    "sales.columns = [' '.join(col).strip() for col in sales.columns.values]\n",
    "\n",
    "#Renmaed the messy columns\n",
    "sales.rename(columns={'City <lambda>':'City',\n",
    "                      'Sale (Dollars) sum': '2015 Sales',\n",
    "                      'Sale (Dollars) mean': '2015 Sales Mean',\n",
    "                      'County Number <lambda>':'County Number',\n",
    "                      'Zip Code <lambda>': 'Zip Code',\n",
    "                      'Margin mean': '2015 Margin mean'\n",
    "                      }, inplace=True)\n",
    "\n",
    "# Quick check\n",
    "sales.head()"
   ]
  },
  {
   "cell_type": "code",
   "execution_count": 17,
   "metadata": {
    "collapsed": false
   },
   "outputs": [
    {
     "data": {
      "text/plain": [
       "(1161, 10)"
      ]
     },
     "execution_count": 17,
     "metadata": {},
     "output_type": "execute_result"
    }
   ],
   "source": [
    "sales.shape"
   ]
  },
  {
   "cell_type": "code",
   "execution_count": 18,
   "metadata": {
    "collapsed": false,
    "scrolled": true
   },
   "outputs": [
    {
     "name": "stderr",
     "output_type": "stream",
     "text": [
      "/Users/jrcmalunay/anaconda/lib/python2.7/site-packages/ipykernel/__main__.py:2: UserWarning: Boolean Series key will be reindexed to match DataFrame index.\n",
      "  from ipykernel import kernelapp as app\n"
     ]
    },
    {
     "data": {
      "text/html": [
       "<div>\n",
       "<table border=\"1\" class=\"dataframe\">\n",
       "  <thead>\n",
       "    <tr style=\"text-align: right;\">\n",
       "      <th></th>\n",
       "      <th>Store Number</th>\n",
       "      <th>City</th>\n",
       "      <th>2016 Sales</th>\n",
       "      <th>2016 Sales Mean</th>\n",
       "      <th>County Number</th>\n",
       "      <th>Price per Liter mean</th>\n",
       "      <th>Zip Code</th>\n",
       "      <th>Volume Sold (Liters) sum</th>\n",
       "      <th>Volume Sold (Liters) mean</th>\n",
       "      <th>2016 Margin mean</th>\n",
       "    </tr>\n",
       "  </thead>\n",
       "  <tbody>\n",
       "    <tr>\n",
       "      <th>0</th>\n",
       "      <td>2106</td>\n",
       "      <td>CEDAR FALLS</td>\n",
       "      <td>30478.75</td>\n",
       "      <td>241.894841</td>\n",
       "      <td>7</td>\n",
       "      <td>17.969769</td>\n",
       "      <td>50613</td>\n",
       "      <td>2116.25</td>\n",
       "      <td>16.795635</td>\n",
       "      <td>80.751429</td>\n",
       "    </tr>\n",
       "    <tr>\n",
       "      <th>1</th>\n",
       "      <td>2113</td>\n",
       "      <td>GOWRIE</td>\n",
       "      <td>2065.90</td>\n",
       "      <td>55.835135</td>\n",
       "      <td>94</td>\n",
       "      <td>17.483024</td>\n",
       "      <td>50543</td>\n",
       "      <td>177.00</td>\n",
       "      <td>4.783784</td>\n",
       "      <td>18.742973</td>\n",
       "    </tr>\n",
       "    <tr>\n",
       "      <th>2</th>\n",
       "      <td>2130</td>\n",
       "      <td>WATERLOO</td>\n",
       "      <td>27856.11</td>\n",
       "      <td>238.086410</td>\n",
       "      <td>7</td>\n",
       "      <td>17.452157</td>\n",
       "      <td>50703</td>\n",
       "      <td>1556.90</td>\n",
       "      <td>13.306838</td>\n",
       "      <td>79.387094</td>\n",
       "    </tr>\n",
       "    <tr>\n",
       "      <th>3</th>\n",
       "      <td>2152</td>\n",
       "      <td>ROCKWELL</td>\n",
       "      <td>904.66</td>\n",
       "      <td>45.233000</td>\n",
       "      <td>17</td>\n",
       "      <td>12.487833</td>\n",
       "      <td>50469</td>\n",
       "      <td>87.50</td>\n",
       "      <td>4.375000</td>\n",
       "      <td>15.204000</td>\n",
       "    </tr>\n",
       "    <tr>\n",
       "      <th>4</th>\n",
       "      <td>2178</td>\n",
       "      <td>WAUKON</td>\n",
       "      <td>5588.50</td>\n",
       "      <td>96.353448</td>\n",
       "      <td>3</td>\n",
       "      <td>15.101929</td>\n",
       "      <td>52172</td>\n",
       "      <td>520.80</td>\n",
       "      <td>8.979310</td>\n",
       "      <td>32.220000</td>\n",
       "    </tr>\n",
       "  </tbody>\n",
       "</table>\n",
       "</div>"
      ],
      "text/plain": [
       "   Store Number         City  2016 Sales  2016 Sales Mean  County Number  \\\n",
       "0          2106  CEDAR FALLS    30478.75       241.894841              7   \n",
       "1          2113       GOWRIE     2065.90        55.835135             94   \n",
       "2          2130     WATERLOO    27856.11       238.086410              7   \n",
       "3          2152     ROCKWELL      904.66        45.233000             17   \n",
       "4          2178       WAUKON     5588.50        96.353448              3   \n",
       "\n",
       "   Price per Liter mean Zip Code  Volume Sold (Liters) sum  \\\n",
       "0             17.969769    50613                   2116.25   \n",
       "1             17.483024    50543                    177.00   \n",
       "2             17.452157    50703                   1556.90   \n",
       "3             12.487833    50469                     87.50   \n",
       "4             15.101929    52172                    520.80   \n",
       "\n",
       "   Volume Sold (Liters) mean  2016 Margin mean  \n",
       "0                  16.795635         80.751429  \n",
       "1                   4.783784         18.742973  \n",
       "2                  13.306838         79.387094  \n",
       "3                   4.375000         15.204000  \n",
       "4                   8.979310         32.220000  "
      ]
     },
     "execution_count": 18,
     "metadata": {},
     "output_type": "execute_result"
    }
   ],
   "source": [
    "#Sort only sales for 2016, used \"mask\" as my timeframe. This case, took the OPPOSITE of \"~\" mask to get 2016 \n",
    "sales2 = liquor[~date_mask]\n",
    "\n",
    "#Used groupby to \"Store Number\"\n",
    "sales2 = sales2.groupby(['Store Number'],as_index=False)\n",
    "\n",
    "#Assigned columns to calculate the sum and mean of Sales, Volume Sold (Liters), Margin, and Price per Liter\n",
    "#Also held the Zip Code, City, and County Number\n",
    "sales2 = sales2.agg({\"Sale (Dollars)\": [np.sum, np.mean],\n",
    "                   \"Volume Sold (Liters)\": [np.sum, np.mean],\n",
    "                   \"Margin\": np.mean,\n",
    "                   \"Price per Liter\": np.mean,\n",
    "                   \"Zip Code\": lambda x: x.iloc[0], \n",
    "                   \"City\": lambda x: x.iloc[0],\n",
    "                   \"County Number\": lambda x: x.iloc[0]})\n",
    "\n",
    "#Columns were messy so had to combined them down one\n",
    "sales2.columns = [' '.join(col).strip() for col in sales2.columns.values]\n",
    "\n",
    "#Renmaed the messy columns\n",
    "sales2.rename(columns={'City <lambda>':'City',\n",
    "                      'Sale (Dollars) sum': '2016 Sales',\n",
    "                      'Sale (Dollars) mean': '2016 Sales Mean',\n",
    "                      'County Number <lambda>':'County Number',\n",
    "                      'Zip Code <lambda>': 'Zip Code',\n",
    "                       'Margin mean': '2016 Margin mean'\n",
    "                      }, inplace=True)\n",
    "\n",
    "# Quick check\n",
    "sales2.head()"
   ]
  },
  {
   "cell_type": "code",
   "execution_count": 19,
   "metadata": {
    "collapsed": false
   },
   "outputs": [
    {
     "data": {
      "text/html": [
       "<div>\n",
       "<table border=\"1\" class=\"dataframe\">\n",
       "  <thead>\n",
       "    <tr style=\"text-align: right;\">\n",
       "      <th></th>\n",
       "      <th>Store Number</th>\n",
       "      <th>City</th>\n",
       "      <th>2015 Sales</th>\n",
       "      <th>2015 Sales Mean</th>\n",
       "      <th>County Number</th>\n",
       "      <th>Price per Liter mean</th>\n",
       "      <th>Zip Code</th>\n",
       "      <th>Volume Sold (Liters) sum</th>\n",
       "      <th>Volume Sold (Liters) mean</th>\n",
       "      <th>2015 Margin mean</th>\n",
       "      <th>2015 Sales Q1</th>\n",
       "      <th>2016 Sales Q1</th>\n",
       "    </tr>\n",
       "  </thead>\n",
       "  <tbody>\n",
       "    <tr>\n",
       "      <th>0</th>\n",
       "      <td>2106</td>\n",
       "      <td>CEDAR FALLS</td>\n",
       "      <td>146038.70</td>\n",
       "      <td>277.640114</td>\n",
       "      <td>7</td>\n",
       "      <td>17.844997</td>\n",
       "      <td>50613</td>\n",
       "      <td>9719.85</td>\n",
       "      <td>18.478802</td>\n",
       "      <td>92.665779</td>\n",
       "      <td>39287.29</td>\n",
       "      <td>30478.75</td>\n",
       "    </tr>\n",
       "    <tr>\n",
       "      <th>1</th>\n",
       "      <td>2113</td>\n",
       "      <td>GOWRIE</td>\n",
       "      <td>9310.22</td>\n",
       "      <td>63.334830</td>\n",
       "      <td>94</td>\n",
       "      <td>18.507700</td>\n",
       "      <td>50543</td>\n",
       "      <td>659.85</td>\n",
       "      <td>4.488776</td>\n",
       "      <td>21.149932</td>\n",
       "      <td>2833.25</td>\n",
       "      <td>2065.90</td>\n",
       "    </tr>\n",
       "    <tr>\n",
       "      <th>2</th>\n",
       "      <td>2130</td>\n",
       "      <td>WATERLOO</td>\n",
       "      <td>111583.91</td>\n",
       "      <td>285.380844</td>\n",
       "      <td>7</td>\n",
       "      <td>16.817589</td>\n",
       "      <td>50703</td>\n",
       "      <td>6879.37</td>\n",
       "      <td>17.594297</td>\n",
       "      <td>95.215652</td>\n",
       "      <td>24272.57</td>\n",
       "      <td>27856.11</td>\n",
       "    </tr>\n",
       "    <tr>\n",
       "      <th>3</th>\n",
       "      <td>2152</td>\n",
       "      <td>ROCKWELL</td>\n",
       "      <td>7721.08</td>\n",
       "      <td>54.759433</td>\n",
       "      <td>17</td>\n",
       "      <td>13.020765</td>\n",
       "      <td>50469</td>\n",
       "      <td>633.37</td>\n",
       "      <td>4.491986</td>\n",
       "      <td>18.351277</td>\n",
       "      <td>2003.46</td>\n",
       "      <td>904.66</td>\n",
       "    </tr>\n",
       "    <tr>\n",
       "      <th>4</th>\n",
       "      <td>2178</td>\n",
       "      <td>WAUKON</td>\n",
       "      <td>24324.18</td>\n",
       "      <td>102.633671</td>\n",
       "      <td>3</td>\n",
       "      <td>16.053844</td>\n",
       "      <td>52172</td>\n",
       "      <td>1917.12</td>\n",
       "      <td>8.089114</td>\n",
       "      <td>34.454430</td>\n",
       "      <td>5856.41</td>\n",
       "      <td>5588.50</td>\n",
       "    </tr>\n",
       "  </tbody>\n",
       "</table>\n",
       "</div>"
      ],
      "text/plain": [
       "   Store Number         City  2015 Sales  2015 Sales Mean  County Number  \\\n",
       "0          2106  CEDAR FALLS   146038.70       277.640114              7   \n",
       "1          2113       GOWRIE     9310.22        63.334830             94   \n",
       "2          2130     WATERLOO   111583.91       285.380844              7   \n",
       "3          2152     ROCKWELL     7721.08        54.759433             17   \n",
       "4          2178       WAUKON    24324.18       102.633671              3   \n",
       "\n",
       "   Price per Liter mean Zip Code  Volume Sold (Liters) sum  \\\n",
       "0             17.844997    50613                   9719.85   \n",
       "1             18.507700    50543                    659.85   \n",
       "2             16.817589    50703                   6879.37   \n",
       "3             13.020765    50469                    633.37   \n",
       "4             16.053844    52172                   1917.12   \n",
       "\n",
       "   Volume Sold (Liters) mean  2015 Margin mean  2015 Sales Q1  2016 Sales Q1  \n",
       "0                  18.478802         92.665779       39287.29       30478.75  \n",
       "1                   4.488776         21.149932        2833.25        2065.90  \n",
       "2                  17.594297         95.215652       24272.57       27856.11  \n",
       "3                   4.491986         18.351277        2003.46         904.66  \n",
       "4                   8.089114         34.454430        5856.41        5588.50  "
      ]
     },
     "execution_count": 19,
     "metadata": {},
     "output_type": "execute_result"
    }
   ],
   "source": [
    "#Filtered out the dates for only the first three months to get the total sales for 2015 using a mask\n",
    "quarter_mask = (liquor['Date'] >= '2015-01-01') & (liquor['Date'] <= '2015-03-31')\n",
    "df2 = liquor[quarter_mask].groupby(by=[\"Store Number\"], as_index=False)[\"Sale (Dollars)\"].sum()\n",
    "sales[\"2015 Sales Q1\"] = df2[\"Sale (Dollars)\"]\n",
    "sales.head()\n",
    "\n",
    "#Filtered out the dates for only the first three months to get the total sales for 2016 using a mask\n",
    "quarter_mask2 = (liquor['Date'] >= '2016-01-01') & (liquor['Date'] <= '2016-03-31')\n",
    "df2 = liquor[quarter_mask2].groupby(by=[\"Store Number\"], as_index=False)[\"Sale (Dollars)\"].sum()\n",
    "sales[\"2016 Sales Q1\"] = df2[\"Sale (Dollars)\"]\n",
    "sales.head()"
   ]
  },
  {
   "cell_type": "markdown",
   "metadata": {},
   "source": [
    "# Refine the data\n",
    "Look for any statistical relationships, correlations, or other relevant properties of the dataset."
   ]
  },
  {
   "cell_type": "code",
   "execution_count": 283,
   "metadata": {
    "collapsed": false
   },
   "outputs": [
    {
     "data": {
      "text/html": [
       "<div>\n",
       "<table border=\"1\" class=\"dataframe\">\n",
       "  <thead>\n",
       "    <tr style=\"text-align: right;\">\n",
       "      <th></th>\n",
       "      <th>City</th>\n",
       "      <th>2015 Sales</th>\n",
       "      <th>2015 Sales Mean</th>\n",
       "      <th>Price per Liter mean</th>\n",
       "      <th>Volume Sold (Liters) sum</th>\n",
       "      <th>Volume Sold (Liters) mean</th>\n",
       "      <th>2015 Margin mean</th>\n",
       "      <th>2015 Sales Q1</th>\n",
       "      <th>2016 Sales Q1</th>\n",
       "    </tr>\n",
       "  </thead>\n",
       "  <tbody>\n",
       "    <tr>\n",
       "      <th>80</th>\n",
       "      <td>DES MOINES</td>\n",
       "      <td>3284018.32</td>\n",
       "      <td>8034.620848</td>\n",
       "      <td>1282.174167</td>\n",
       "      <td>203319.68</td>\n",
       "      <td>513.619896</td>\n",
       "      <td>2683.077842</td>\n",
       "      <td>714571.55</td>\n",
       "      <td>331501.25</td>\n",
       "    </tr>\n",
       "    <tr>\n",
       "      <th>48</th>\n",
       "      <td>CEDAR RAPIDS</td>\n",
       "      <td>2004464.46</td>\n",
       "      <td>7427.952104</td>\n",
       "      <td>1113.073062</td>\n",
       "      <td>139129.79</td>\n",
       "      <td>528.706642</td>\n",
       "      <td>2482.061782</td>\n",
       "      <td>441312.08</td>\n",
       "      <td>294449.37</td>\n",
       "    </tr>\n",
       "    <tr>\n",
       "      <th>74</th>\n",
       "      <td>DAVENPORT</td>\n",
       "      <td>1379456.69</td>\n",
       "      <td>5756.856265</td>\n",
       "      <td>738.211925</td>\n",
       "      <td>93026.46</td>\n",
       "      <td>389.530724</td>\n",
       "      <td>1922.315005</td>\n",
       "      <td>270752.59</td>\n",
       "      <td>186964.17</td>\n",
       "    </tr>\n",
       "    <tr>\n",
       "      <th>330</th>\n",
       "      <td>WEST DES MOINES</td>\n",
       "      <td>937986.09</td>\n",
       "      <td>4925.046800</td>\n",
       "      <td>484.152197</td>\n",
       "      <td>57044.25</td>\n",
       "      <td>294.305504</td>\n",
       "      <td>1649.248447</td>\n",
       "      <td>217424.40</td>\n",
       "      <td>120036.63</td>\n",
       "    </tr>\n",
       "    <tr>\n",
       "      <th>69</th>\n",
       "      <td>COUNCIL BLUFFS</td>\n",
       "      <td>936821.88</td>\n",
       "      <td>4847.409448</td>\n",
       "      <td>605.925828</td>\n",
       "      <td>63664.46</td>\n",
       "      <td>332.024479</td>\n",
       "      <td>1618.407788</td>\n",
       "      <td>215337.82</td>\n",
       "      <td>336048.37</td>\n",
       "    </tr>\n",
       "    <tr>\n",
       "      <th>319</th>\n",
       "      <td>WATERLOO</td>\n",
       "      <td>944510.45</td>\n",
       "      <td>4709.245312</td>\n",
       "      <td>608.883911</td>\n",
       "      <td>63975.40</td>\n",
       "      <td>317.395901</td>\n",
       "      <td>1573.082963</td>\n",
       "      <td>196405.72</td>\n",
       "      <td>185324.93</td>\n",
       "    </tr>\n",
       "    <tr>\n",
       "      <th>279</th>\n",
       "      <td>SIOUX CITY</td>\n",
       "      <td>943006.01</td>\n",
       "      <td>4002.664015</td>\n",
       "      <td>550.425389</td>\n",
       "      <td>63371.68</td>\n",
       "      <td>271.363439</td>\n",
       "      <td>1337.941794</td>\n",
       "      <td>220270.20</td>\n",
       "      <td>214912.79</td>\n",
       "    </tr>\n",
       "    <tr>\n",
       "      <th>82</th>\n",
       "      <td>DUBUQUE</td>\n",
       "      <td>794821.19</td>\n",
       "      <td>3547.897661</td>\n",
       "      <td>439.700861</td>\n",
       "      <td>58027.11</td>\n",
       "      <td>261.408130</td>\n",
       "      <td>1188.001224</td>\n",
       "      <td>168930.87</td>\n",
       "      <td>97651.45</td>\n",
       "    </tr>\n",
       "    <tr>\n",
       "      <th>11</th>\n",
       "      <td>AMES</td>\n",
       "      <td>803910.81</td>\n",
       "      <td>3190.842058</td>\n",
       "      <td>414.770467</td>\n",
       "      <td>54922.33</td>\n",
       "      <td>231.132621</td>\n",
       "      <td>1066.790853</td>\n",
       "      <td>187593.12</td>\n",
       "      <td>115876.84</td>\n",
       "    </tr>\n",
       "    <tr>\n",
       "      <th>66</th>\n",
       "      <td>CORALVILLE</td>\n",
       "      <td>516438.37</td>\n",
       "      <td>3073.255703</td>\n",
       "      <td>185.882218</td>\n",
       "      <td>29669.21</td>\n",
       "      <td>159.598222</td>\n",
       "      <td>1025.766313</td>\n",
       "      <td>80360.61</td>\n",
       "      <td>15795.30</td>\n",
       "    </tr>\n",
       "  </tbody>\n",
       "</table>\n",
       "</div>"
      ],
      "text/plain": [
       "                City  2015 Sales  2015 Sales Mean  Price per Liter mean  \\\n",
       "80        DES MOINES  3284018.32      8034.620848           1282.174167   \n",
       "48      CEDAR RAPIDS  2004464.46      7427.952104           1113.073062   \n",
       "74         DAVENPORT  1379456.69      5756.856265            738.211925   \n",
       "330  WEST DES MOINES   937986.09      4925.046800            484.152197   \n",
       "69    COUNCIL BLUFFS   936821.88      4847.409448            605.925828   \n",
       "319         WATERLOO   944510.45      4709.245312            608.883911   \n",
       "279       SIOUX CITY   943006.01      4002.664015            550.425389   \n",
       "82           DUBUQUE   794821.19      3547.897661            439.700861   \n",
       "11              AMES   803910.81      3190.842058            414.770467   \n",
       "66        CORALVILLE   516438.37      3073.255703            185.882218   \n",
       "\n",
       "     Volume Sold (Liters) sum  Volume Sold (Liters) mean  2015 Margin mean  \\\n",
       "80                  203319.68                 513.619896       2683.077842   \n",
       "48                  139129.79                 528.706642       2482.061782   \n",
       "74                   93026.46                 389.530724       1922.315005   \n",
       "330                  57044.25                 294.305504       1649.248447   \n",
       "69                   63664.46                 332.024479       1618.407788   \n",
       "319                  63975.40                 317.395901       1573.082963   \n",
       "279                  63371.68                 271.363439       1337.941794   \n",
       "82                   58027.11                 261.408130       1188.001224   \n",
       "11                   54922.33                 231.132621       1066.790853   \n",
       "66                   29669.21                 159.598222       1025.766313   \n",
       "\n",
       "     2015 Sales Q1  2016 Sales Q1  \n",
       "80       714571.55      331501.25  \n",
       "48       441312.08      294449.37  \n",
       "74       270752.59      186964.17  \n",
       "330      217424.40      120036.63  \n",
       "69       215337.82      336048.37  \n",
       "319      196405.72      185324.93  \n",
       "279      220270.20      214912.79  \n",
       "82       168930.87       97651.45  \n",
       "11       187593.12      115876.84  \n",
       "66        80360.61       15795.30  "
      ]
     },
     "execution_count": 283,
     "metadata": {},
     "output_type": "execute_result"
    }
   ],
   "source": [
    "#Assigned a new data frame to locate which top cities had most sales by Margin mean\n",
    "sales_location = pd.DataFrame(true_sales.ix[0:,'City':])\n",
    "sales_city = sales_location.groupby(by='City',as_index=False).sum()\n",
    "\n",
    "city_margin_2015_mean = sales_city.sort_values(by='2015 Margin mean', ascending=False)\n",
    "\n",
    "top_city_sales = city_margin_2015_mean.head(10)\n",
    "top_city_sales\n",
    "#city_margin_2016_mean = sales_city.sort_values(by='2016 Margin mean', ascending=False)"
   ]
  },
  {
   "cell_type": "code",
   "execution_count": 286,
   "metadata": {
    "collapsed": false
   },
   "outputs": [
    {
     "data": {
      "text/plain": [
       "(1143, 10)"
      ]
     },
     "execution_count": 286,
     "metadata": {},
     "output_type": "execute_result"
    }
   ],
   "source": [
    "#Made sure there are no null values\n",
    "true_sales = sales.dropna()\n",
    "true_sales.shape"
   ]
  },
  {
   "cell_type": "code",
   "execution_count": 287,
   "metadata": {
    "collapsed": false
   },
   "outputs": [
    {
     "data": {
      "text/html": [
       "<div>\n",
       "<table border=\"1\" class=\"dataframe\">\n",
       "  <thead>\n",
       "    <tr style=\"text-align: right;\">\n",
       "      <th></th>\n",
       "      <th>2015 Sales</th>\n",
       "      <th>2015 Sales Mean</th>\n",
       "      <th>Price per Liter mean</th>\n",
       "      <th>Volume Sold (Liters) sum</th>\n",
       "      <th>Volume Sold (Liters) mean</th>\n",
       "      <th>2015 Margin mean</th>\n",
       "      <th>2015 Sales Q1</th>\n",
       "      <th>2016 Sales Q1</th>\n",
       "    </tr>\n",
       "  </thead>\n",
       "  <tbody>\n",
       "    <tr>\n",
       "      <th>80</th>\n",
       "      <td>3284018.32</td>\n",
       "      <td>8034.620848</td>\n",
       "      <td>1282.174167</td>\n",
       "      <td>203319.68</td>\n",
       "      <td>513.619896</td>\n",
       "      <td>2683.077842</td>\n",
       "      <td>714571.55</td>\n",
       "      <td>331501.25</td>\n",
       "    </tr>\n",
       "    <tr>\n",
       "      <th>48</th>\n",
       "      <td>2004464.46</td>\n",
       "      <td>7427.952104</td>\n",
       "      <td>1113.073062</td>\n",
       "      <td>139129.79</td>\n",
       "      <td>528.706642</td>\n",
       "      <td>2482.061782</td>\n",
       "      <td>441312.08</td>\n",
       "      <td>294449.37</td>\n",
       "    </tr>\n",
       "    <tr>\n",
       "      <th>74</th>\n",
       "      <td>1379456.69</td>\n",
       "      <td>5756.856265</td>\n",
       "      <td>738.211925</td>\n",
       "      <td>93026.46</td>\n",
       "      <td>389.530724</td>\n",
       "      <td>1922.315005</td>\n",
       "      <td>270752.59</td>\n",
       "      <td>186964.17</td>\n",
       "    </tr>\n",
       "    <tr>\n",
       "      <th>330</th>\n",
       "      <td>937986.09</td>\n",
       "      <td>4925.046800</td>\n",
       "      <td>484.152197</td>\n",
       "      <td>57044.25</td>\n",
       "      <td>294.305504</td>\n",
       "      <td>1649.248447</td>\n",
       "      <td>217424.40</td>\n",
       "      <td>120036.63</td>\n",
       "    </tr>\n",
       "    <tr>\n",
       "      <th>69</th>\n",
       "      <td>936821.88</td>\n",
       "      <td>4847.409448</td>\n",
       "      <td>605.925828</td>\n",
       "      <td>63664.46</td>\n",
       "      <td>332.024479</td>\n",
       "      <td>1618.407788</td>\n",
       "      <td>215337.82</td>\n",
       "      <td>336048.37</td>\n",
       "    </tr>\n",
       "    <tr>\n",
       "      <th>319</th>\n",
       "      <td>944510.45</td>\n",
       "      <td>4709.245312</td>\n",
       "      <td>608.883911</td>\n",
       "      <td>63975.40</td>\n",
       "      <td>317.395901</td>\n",
       "      <td>1573.082963</td>\n",
       "      <td>196405.72</td>\n",
       "      <td>185324.93</td>\n",
       "    </tr>\n",
       "    <tr>\n",
       "      <th>279</th>\n",
       "      <td>943006.01</td>\n",
       "      <td>4002.664015</td>\n",
       "      <td>550.425389</td>\n",
       "      <td>63371.68</td>\n",
       "      <td>271.363439</td>\n",
       "      <td>1337.941794</td>\n",
       "      <td>220270.20</td>\n",
       "      <td>214912.79</td>\n",
       "    </tr>\n",
       "    <tr>\n",
       "      <th>82</th>\n",
       "      <td>794821.19</td>\n",
       "      <td>3547.897661</td>\n",
       "      <td>439.700861</td>\n",
       "      <td>58027.11</td>\n",
       "      <td>261.408130</td>\n",
       "      <td>1188.001224</td>\n",
       "      <td>168930.87</td>\n",
       "      <td>97651.45</td>\n",
       "    </tr>\n",
       "    <tr>\n",
       "      <th>11</th>\n",
       "      <td>803910.81</td>\n",
       "      <td>3190.842058</td>\n",
       "      <td>414.770467</td>\n",
       "      <td>54922.33</td>\n",
       "      <td>231.132621</td>\n",
       "      <td>1066.790853</td>\n",
       "      <td>187593.12</td>\n",
       "      <td>115876.84</td>\n",
       "    </tr>\n",
       "    <tr>\n",
       "      <th>66</th>\n",
       "      <td>516438.37</td>\n",
       "      <td>3073.255703</td>\n",
       "      <td>185.882218</td>\n",
       "      <td>29669.21</td>\n",
       "      <td>159.598222</td>\n",
       "      <td>1025.766313</td>\n",
       "      <td>80360.61</td>\n",
       "      <td>15795.30</td>\n",
       "    </tr>\n",
       "  </tbody>\n",
       "</table>\n",
       "</div>"
      ],
      "text/plain": [
       "     2015 Sales  2015 Sales Mean  Price per Liter mean  \\\n",
       "80   3284018.32      8034.620848           1282.174167   \n",
       "48   2004464.46      7427.952104           1113.073062   \n",
       "74   1379456.69      5756.856265            738.211925   \n",
       "330   937986.09      4925.046800            484.152197   \n",
       "69    936821.88      4847.409448            605.925828   \n",
       "319   944510.45      4709.245312            608.883911   \n",
       "279   943006.01      4002.664015            550.425389   \n",
       "82    794821.19      3547.897661            439.700861   \n",
       "11    803910.81      3190.842058            414.770467   \n",
       "66    516438.37      3073.255703            185.882218   \n",
       "\n",
       "     Volume Sold (Liters) sum  Volume Sold (Liters) mean  2015 Margin mean  \\\n",
       "80                  203319.68                 513.619896       2683.077842   \n",
       "48                  139129.79                 528.706642       2482.061782   \n",
       "74                   93026.46                 389.530724       1922.315005   \n",
       "330                  57044.25                 294.305504       1649.248447   \n",
       "69                   63664.46                 332.024479       1618.407788   \n",
       "319                  63975.40                 317.395901       1573.082963   \n",
       "279                  63371.68                 271.363439       1337.941794   \n",
       "82                   58027.11                 261.408130       1188.001224   \n",
       "11                   54922.33                 231.132621       1066.790853   \n",
       "66                   29669.21                 159.598222       1025.766313   \n",
       "\n",
       "     2015 Sales Q1  2016 Sales Q1  \n",
       "80       714571.55      331501.25  \n",
       "48       441312.08      294449.37  \n",
       "74       270752.59      186964.17  \n",
       "330      217424.40      120036.63  \n",
       "69       215337.82      336048.37  \n",
       "319      196405.72      185324.93  \n",
       "279      220270.20      214912.79  \n",
       "82       168930.87       97651.45  \n",
       "11       187593.12      115876.84  \n",
       "66        80360.61       15795.30  "
      ]
     },
     "execution_count": 287,
     "metadata": {},
     "output_type": "execute_result"
    }
   ],
   "source": [
    "#Updated the dataframe to take out the city\n",
    "sales_update = top_city_sales.ix[:,'2015 Sales':]\n",
    "sales_update"
   ]
  },
  {
   "cell_type": "code",
   "execution_count": 288,
   "metadata": {
    "collapsed": false
   },
   "outputs": [
    {
     "data": {
      "text/html": [
       "<div>\n",
       "<table border=\"1\" class=\"dataframe\">\n",
       "  <thead>\n",
       "    <tr style=\"text-align: right;\">\n",
       "      <th></th>\n",
       "      <th>2015 Sales</th>\n",
       "      <th>2015 Sales Mean</th>\n",
       "      <th>Price per Liter mean</th>\n",
       "      <th>Volume Sold (Liters) sum</th>\n",
       "      <th>Volume Sold (Liters) mean</th>\n",
       "      <th>2015 Margin mean</th>\n",
       "      <th>2015 Sales Q1</th>\n",
       "      <th>2016 Sales Q1</th>\n",
       "    </tr>\n",
       "  </thead>\n",
       "  <tbody>\n",
       "    <tr>\n",
       "      <th>2015 Sales</th>\n",
       "      <td>1.000000</td>\n",
       "      <td>0.446959</td>\n",
       "      <td>0.170287</td>\n",
       "      <td>0.992454</td>\n",
       "      <td>0.416107</td>\n",
       "      <td>0.446288</td>\n",
       "      <td>0.983786</td>\n",
       "      <td>0.149051</td>\n",
       "    </tr>\n",
       "    <tr>\n",
       "      <th>2015 Sales Mean</th>\n",
       "      <td>0.446959</td>\n",
       "      <td>1.000000</td>\n",
       "      <td>0.122172</td>\n",
       "      <td>0.443910</td>\n",
       "      <td>0.935613</td>\n",
       "      <td>0.999975</td>\n",
       "      <td>0.420029</td>\n",
       "      <td>0.021464</td>\n",
       "    </tr>\n",
       "    <tr>\n",
       "      <th>Price per Liter mean</th>\n",
       "      <td>0.170287</td>\n",
       "      <td>0.122172</td>\n",
       "      <td>1.000000</td>\n",
       "      <td>0.130079</td>\n",
       "      <td>-0.083952</td>\n",
       "      <td>0.120684</td>\n",
       "      <td>0.166982</td>\n",
       "      <td>-0.017654</td>\n",
       "    </tr>\n",
       "    <tr>\n",
       "      <th>Volume Sold (Liters) sum</th>\n",
       "      <td>0.992454</td>\n",
       "      <td>0.443910</td>\n",
       "      <td>0.130079</td>\n",
       "      <td>1.000000</td>\n",
       "      <td>0.439668</td>\n",
       "      <td>0.443491</td>\n",
       "      <td>0.975140</td>\n",
       "      <td>0.166283</td>\n",
       "    </tr>\n",
       "    <tr>\n",
       "      <th>Volume Sold (Liters) mean</th>\n",
       "      <td>0.416107</td>\n",
       "      <td>0.935613</td>\n",
       "      <td>-0.083952</td>\n",
       "      <td>0.439668</td>\n",
       "      <td>1.000000</td>\n",
       "      <td>0.936768</td>\n",
       "      <td>0.393769</td>\n",
       "      <td>0.026788</td>\n",
       "    </tr>\n",
       "    <tr>\n",
       "      <th>2015 Margin mean</th>\n",
       "      <td>0.446288</td>\n",
       "      <td>0.999975</td>\n",
       "      <td>0.120684</td>\n",
       "      <td>0.443491</td>\n",
       "      <td>0.936768</td>\n",
       "      <td>1.000000</td>\n",
       "      <td>0.419517</td>\n",
       "      <td>0.021345</td>\n",
       "    </tr>\n",
       "    <tr>\n",
       "      <th>2015 Sales Q1</th>\n",
       "      <td>0.983786</td>\n",
       "      <td>0.420029</td>\n",
       "      <td>0.166982</td>\n",
       "      <td>0.975140</td>\n",
       "      <td>0.393769</td>\n",
       "      <td>0.419517</td>\n",
       "      <td>1.000000</td>\n",
       "      <td>0.152734</td>\n",
       "    </tr>\n",
       "    <tr>\n",
       "      <th>2016 Sales Q1</th>\n",
       "      <td>0.149051</td>\n",
       "      <td>0.021464</td>\n",
       "      <td>-0.017654</td>\n",
       "      <td>0.166283</td>\n",
       "      <td>0.026788</td>\n",
       "      <td>0.021345</td>\n",
       "      <td>0.152734</td>\n",
       "      <td>1.000000</td>\n",
       "    </tr>\n",
       "  </tbody>\n",
       "</table>\n",
       "</div>"
      ],
      "text/plain": [
       "                           2015 Sales  2015 Sales Mean  Price per Liter mean  \\\n",
       "2015 Sales                   1.000000         0.446959              0.170287   \n",
       "2015 Sales Mean              0.446959         1.000000              0.122172   \n",
       "Price per Liter mean         0.170287         0.122172              1.000000   \n",
       "Volume Sold (Liters) sum     0.992454         0.443910              0.130079   \n",
       "Volume Sold (Liters) mean    0.416107         0.935613             -0.083952   \n",
       "2015 Margin mean             0.446288         0.999975              0.120684   \n",
       "2015 Sales Q1                0.983786         0.420029              0.166982   \n",
       "2016 Sales Q1                0.149051         0.021464             -0.017654   \n",
       "\n",
       "                           Volume Sold (Liters) sum  \\\n",
       "2015 Sales                                 0.992454   \n",
       "2015 Sales Mean                            0.443910   \n",
       "Price per Liter mean                       0.130079   \n",
       "Volume Sold (Liters) sum                   1.000000   \n",
       "Volume Sold (Liters) mean                  0.439668   \n",
       "2015 Margin mean                           0.443491   \n",
       "2015 Sales Q1                              0.975140   \n",
       "2016 Sales Q1                              0.166283   \n",
       "\n",
       "                           Volume Sold (Liters) mean  2015 Margin mean  \\\n",
       "2015 Sales                                  0.416107          0.446288   \n",
       "2015 Sales Mean                             0.935613          0.999975   \n",
       "Price per Liter mean                       -0.083952          0.120684   \n",
       "Volume Sold (Liters) sum                    0.439668          0.443491   \n",
       "Volume Sold (Liters) mean                   1.000000          0.936768   \n",
       "2015 Margin mean                            0.936768          1.000000   \n",
       "2015 Sales Q1                               0.393769          0.419517   \n",
       "2016 Sales Q1                               0.026788          0.021345   \n",
       "\n",
       "                           2015 Sales Q1  2016 Sales Q1  \n",
       "2015 Sales                      0.983786       0.149051  \n",
       "2015 Sales Mean                 0.420029       0.021464  \n",
       "Price per Liter mean            0.166982      -0.017654  \n",
       "Volume Sold (Liters) sum        0.975140       0.166283  \n",
       "Volume Sold (Liters) mean       0.393769       0.026788  \n",
       "2015 Margin mean                0.419517       0.021345  \n",
       "2015 Sales Q1                   1.000000       0.152734  \n",
       "2016 Sales Q1                   0.152734       1.000000  "
      ]
     },
     "execution_count": 288,
     "metadata": {},
     "output_type": "execute_result"
    }
   ],
   "source": [
    "#Normalized the dataframe to \n",
    "sales_corr = true_sales.corr()\n",
    "sales_corr"
   ]
  },
  {
   "cell_type": "markdown",
   "metadata": {},
   "source": [
    "# Build your models\n",
    "\n",
    "Using scikit-learn or statsmodels, build the necessary models for your scenario. Evaluate model fit."
   ]
  },
  {
   "cell_type": "code",
   "execution_count": 289,
   "metadata": {
    "collapsed": false
   },
   "outputs": [],
   "source": [
    "% matplotlib inline\n",
    "\n",
    "from collections import defaultdict\n",
    "import datetime\n",
    "\n",
    "from matplotlib import pyplot as plt\n",
    "# Make the plots bigger\n",
    "plt.rcParams['figure.figsize'] = 10, 10\n",
    "import seaborn as sns\n",
    "\n",
    "import numpy as np\n",
    "import pandas as pd\n",
    "from sklearn import linear_model"
   ]
  },
  {
   "cell_type": "code",
   "execution_count": 298,
   "metadata": {
    "collapsed": false,
    "scrolled": false
   },
   "outputs": [
    {
     "data": {
      "text/plain": [
       "<matplotlib.axes._subplots.AxesSubplot at 0x12d9d40d0>"
      ]
     },
     "execution_count": 298,
     "metadata": {},
     "output_type": "execute_result"
    },
    {
     "data": {
      "image/png": "[encoded data removed]",
      "text/plain": [
       "<matplotlib.figure.Figure at 0x12e8f7c50>"
      ]
     },
     "metadata": {},
     "output_type": "display_data"
    }
   ],
   "source": [
    "true_sales.plot.scatter(x='2015 Margin mean',y ='2015 Sales Q1')"
   ]
  },
  {
   "cell_type": "code",
   "execution_count": 306,
   "metadata": {
    "collapsed": false,
    "scrolled": false
   },
   "outputs": [
    {
     "name": "stdout",
     "output_type": "stream",
     "text": [
      "Model fit: 0.967834535214\n",
      "4.46318267805 603.483428211\n"
     ]
    },
    {
     "data": {
      "image/png": "[encoded data removed]",
      "text/plain": [
       "<matplotlib.figure.Figure at 0x11941f150>"
      ]
     },
     "metadata": {},
     "output_type": "display_data"
    }
   ],
   "source": [
    "# Fit a model\n",
    "\n",
    "lm = linear_model.LinearRegression()\n",
    "X = true_sales[[\"2015 Sales Q1\"]]\n",
    "y = true_sales[\"2015 Sales\"]\n",
    "lm.fit(X, y)\n",
    "predictions = lm.predict(X)\n",
    "print \"Model fit:\", lm.score(X, y)\n",
    "print lm.coef_[0], lm.intercept_\n",
    "\n",
    "# Plot the data and the best fit line\n",
    "plt.scatter(X, y)\n",
    "plt.plot(X, predictions)\n",
    "plt.xlabel(\"Sales 2015 Q1\")\n",
    "plt.ylabel(\"Sales 2015\")\n",
    "plt.show()"
   ]
  },
  {
   "cell_type": "code",
   "execution_count": 303,
   "metadata": {
    "collapsed": false
   },
   "outputs": [
    {
     "data": {
      "image/png": "[encoded data removed]",
      "text/plain": [
       "<matplotlib.figure.Figure at 0x1193433d0>"
      ]
     },
     "metadata": {},
     "output_type": "display_data"
    }
   ],
   "source": [
    "# Zoom in on the lower corner\n",
    "plt.scatter(X, y)\n",
    "plt.plot(X, predictions)\n",
    "plt.xlabel(\"2015 Sales Q1\")\n",
    "plt.ylabel(\"2015 Sales\")\n",
    "plt.xlim(0, 100000)\n",
    "plt.ylim(0, 400000)\n",
    "plt.show()"
   ]
  },
  {
   "cell_type": "code",
   "execution_count": 309,
   "metadata": {
    "collapsed": false
   },
   "outputs": [
    {
     "name": "stdout",
     "output_type": "stream",
     "text": [
      "2015 predicted 27036627.4\n",
      "2015 actual 27036627.4\n",
      "2016 predicted 27020745.5215\n"
     ]
    }
   ],
   "source": [
    "# Predicted 2016 sales, compared to 2015\n",
    "\n",
    "X = true_sales[[\"2016 Sales Q1\"]]\n",
    "predictions = lm.predict(X)\n",
    "total_2016 = sum(predictions)\n",
    "total_2015 = sum(true_sales[\"2015 Sales\"])\n",
    "X2 = true_sales[[\"2015 Sales Q1\"]]\n",
    "pred_2015 = sum(lm.predict(X2))\n",
    "\n",
    "print \"2015 predicted\", pred_2015\n",
    "print \"2015 actual\", total_2015\n",
    "print \"2016 predicted\", total_2016\n"
   ]
  },
  {
   "cell_type": "code",
   "execution_count": 308,
   "metadata": {
    "collapsed": false
   },
   "outputs": [
    {
     "name": "stdout",
     "output_type": "stream",
     "text": [
      "2015 predicted 27036627.4\n",
      "2015 actual 27036627.4\n",
      "2016 predicted 27020745.5215\n"
     ]
    }
   ],
   "source": [
    "# Predicted 2016 sales, compared to 2015\n",
    "\n",
    "X = true_sales[[\"2016 Sales Q1\"]]\n",
    "predictions = lm.predict(X)\n",
    "total_2016 = sum(predictions)\n",
    "total_2015 = sum(true_sales[\"2015 Sales\"])\n",
    "X2 = true_sales[[\"2015 Sales Q1\"]]\n",
    "pred_2015 = sum(lm.predict(X2))\n",
    "\n",
    "print \"2015 predicted\", pred_2015\n",
    "print \"2015 actual\", total_2015\n",
    "print \"2016 predicted\", total_2016\n"
   ]
  },
  {
   "cell_type": "markdown",
   "metadata": {},
   "source": [
    "## Plot your results\n",
    "\n",
    "Again make sure that you record any valuable information. For example, in the tax scenario, did you find the sales from the first three months of the year to be a good predictor of the total sales for the year? Plot the predictions versus the true values and discuss the successes and limitations of your models"
   ]
  },
  {
   "cell_type": "code",
   "execution_count": null,
   "metadata": {
    "collapsed": true
   },
   "outputs": [],
   "source": []
  },
  {
   "cell_type": "markdown",
   "metadata": {},
   "source": [
    "# Present the Results\n",
    "\n",
    "Present your conclusions and results. If you have more than one interesting model feel free to include more than one along with a discussion. Use your work in this notebook to prepare your write-up."
   ]
  },
  {
   "cell_type": "code",
   "execution_count": null,
   "metadata": {
    "collapsed": true
   },
   "outputs": [],
   "source": []
  }
 ],
 "metadata": {
  "kernelspec": {
   "display_name": "Python 2",
   "language": "python",
   "name": "python2"
  },
  "language_info": {
   "codemirror_mode": {
    "name": "ipython",
    "version": 2
   },
   "file_extension": ".py",
   "mimetype": "text/x-python",
   "name": "python",
   "nbconvert_exporter": "python",
   "pygments_lexer": "ipython2",
   "version": "2.7.11"
  }
 },
 "nbformat": 4,
 "nbformat_minor": 0
}
