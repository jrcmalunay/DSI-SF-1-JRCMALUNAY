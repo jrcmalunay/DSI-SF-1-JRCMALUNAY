{
 "cells": [
  {
   "cell_type": "markdown",
   "metadata": {
    "slideshow": {
     "slide_type": "slide"
    }
   },
   "source": [
    "# 1.3: Frequentist statistics 101\n",
    "\n",
    "<img src=\"http://cdn.quotationof.com/images/ronald-fishers-quotes-5.jpg\">"
   ]
  },
  {
   "cell_type": "markdown",
   "metadata": {
    "slideshow": {
     "slide_type": "slide"
    }
   },
   "source": [
    "## \"Bayesian\" vs. \"Frequentist\"\n",
    "\n",
    "If you haven't been hearing all the hype about the return of \"Bayesian methods\" to statistics and data science, then you have probably been living under a rock. But what is this referring to, really?"
   ]
  },
  {
   "cell_type": "markdown",
   "metadata": {
    "slideshow": {
     "slide_type": "fragment"
    }
   },
   "source": [
    "There are two big \"camps\" in statistics: **Frequentist** and **Bayesian**. I will get to the essential differences, but it is important to remember the overarching goal of both:\n",
    "\n",
    "---\n",
    "\n",
    "**As statisticians we want to make a statement about ALL data points based on a SAMPLE of data points, and describe our UNCERTAINTY about that statement.**\n",
    "\n",
    "---"
   ]
  },
  {
   "cell_type": "markdown",
   "metadata": {
    "slideshow": {
     "slide_type": "slide"
    }
   },
   "source": [
    "### Estimating a mean value\n",
    "\n",
    "Say we want to measure the **mean height of 25 year old San Francisco males**. We measure the height of 100 different 25 year old males and thus have 100 data points in our sample."
   ]
  },
  {
   "cell_type": "markdown",
   "metadata": {
    "slideshow": {
     "slide_type": "fragment"
    }
   },
   "source": [
    "Our scenario:\n",
    "\n",
    "- We want to make a statement about the mean height of **ALL** 25 year old San Francisco males.\n",
    "- We have a **sample** of 100 measured heights from that **population**."
   ]
  },
  {
   "cell_type": "markdown",
   "metadata": {
    "slideshow": {
     "slide_type": "slide"
    }
   },
   "source": [
    "### Estimating the mean height from a Bayesian approach...\n",
    "\n",
    "As a **Bayesian** I believe:\n",
    "\n",
    "- The mean height of 25 year old San Francisco males is indeed a value, but it is drawn from a **prior probability distribution** of 25 year old San Francisco male heights."
   ]
  },
  {
   "cell_type": "markdown",
   "metadata": {
    "slideshow": {
     "slide_type": "fragment"
    }
   },
   "source": [
    "- I have 100 observations, or data points, that I will use to **update** this \"prior\" belief about heights."
   ]
  },
  {
   "cell_type": "markdown",
   "metadata": {
    "slideshow": {
     "slide_type": "fragment"
    }
   },
   "source": [
    "- I have collected **fixed data** which I use to update my inference of the probability for the mean height, which is called my **posterior distribution** of mean heights."
   ]
  },
  {
   "cell_type": "markdown",
   "metadata": {
    "slideshow": {
     "slide_type": "slide"
    }
   },
   "source": [
    "### Estimating the mean height from a Frequentist approach...\n",
    "\n",
    "As a **Frequentist** I believe:\n",
    "\n",
    "- The mean height of 25 year old San Francisco males is an unknown but **fixed, \"true\" value**."
   ]
  },
  {
   "cell_type": "markdown",
   "metadata": {
    "slideshow": {
     "slide_type": "fragment"
    }
   },
   "source": [
    "- My 100 data points are considered to be a **random sample.** That is to say, I have collected **at random** 100 heights from the **population pool**."
   ]
  },
  {
   "cell_type": "markdown",
   "metadata": {
    "slideshow": {
     "slide_type": "fragment"
    }
   },
   "source": [
    "- This random sampling procedure is considered **infinitely repeatable**. My inferences about height are based on the idea that this sample is just one of an infinite number of potential population samples."
   ]
  },
  {
   "cell_type": "markdown",
   "metadata": {
    "slideshow": {
     "slide_type": "fragment"
    }
   },
   "source": [
    "- Though the **data sampled is random**, the **true value of height is fixed** across samples."
   ]
  },
  {
   "cell_type": "markdown",
   "metadata": {
    "slideshow": {
     "slide_type": "slide"
    }
   },
   "source": [
    "### Pros and cons to both\n",
    "\n",
    "Recent hype may have lead you to believe that Bayesian methods are definitively better than Frequetist, but the real truth is that there are pros and cons to both.\n",
    "\n",
    "---"
   ]
  },
  {
   "cell_type": "markdown",
   "metadata": {
    "slideshow": {
     "slide_type": "fragment"
    }
   },
   "source": [
    "**Bayesian methods**:\n",
    "\n",
    "- Pros: Inference on measure is more intuitive. No \"absurd\" results. Does not require \"infinite sampling\" theory.\n",
    "- Cons: Computationally intensive. Does not \"guarantee\" success rate of experiments. Requires prior belief."
   ]
  },
  {
   "cell_type": "markdown",
   "metadata": {
    "slideshow": {
     "slide_type": "fragment"
    }
   },
   "source": [
    "** Frequentist methods:**\n",
    "\n",
    "- Pros: Requires no justification of prior belief. Direct analogy to experimental design theory. Not as computationally expensive.\n",
    "- Cons: Inference not as intuitive. Requires \"asymptotic\" sampling axioms. Allows \"absurd\" results (it is ok if some of the \"experiments\" are nonsense as long as most are correct.)"
   ]
  },
  {
   "cell_type": "markdown",
   "metadata": {
    "slideshow": {
     "slide_type": "slide"
    }
   },
   "source": [
    "## Hypothesis testing with frequentist methods\n",
    "\n",
    "**Frequentist** methods lend themselves well to the idea of experimental design. For example, say we are testing a new drug:\n",
    "\n",
    "- We randomly select 50 people to be in the placebo control condition and 50 people to recieve the treatment.\n",
    "- Our sample is selected from the broader, unknown population pool.\n",
    "- In a parallel world we could have ended up with any random sample from the population pool of 100 people.\n"
   ]
  },
  {
   "cell_type": "markdown",
   "metadata": {
    "slideshow": {
     "slide_type": "slide"
    }
   },
   "source": [
    "### The \"null hypothesis\"\n",
    "\n",
    "The **null hypothesis** is a fundamental concept for Frequentist statistics. We can define this as **H0**. The null hypothesis is, in this example, the hypothesis that there is no difference between placebo and treatment."
   ]
  },
  {
   "cell_type": "markdown",
   "metadata": {
    "slideshow": {
     "slide_type": "fragment"
    }
   },
   "source": [
    "**H0:** The measured parameter is equal to a specific value for the population."
   ]
  },
  {
   "cell_type": "markdown",
   "metadata": {
    "slideshow": {
     "slide_type": "fragment"
    }
   },
   "source": [
    "The **alternative hypothesis** is the other possible outcome of the experiment: the difference between the placebo and the treatment is real/not zero.\n",
    "\n",
    "**H1:** The measured parameter is different for the population than the value in the null hypothesis."
   ]
  },
  {
   "cell_type": "markdown",
   "metadata": {
    "slideshow": {
     "slide_type": "slide"
    }
   },
   "source": [
    "### The p-value\n",
    "\n",
    "The **p-value** is the probability that, **GIVEN THE NULL HYPOTHESIS IS TRUE**, we would have the current set of data. \n",
    "\n",
    "---"
   ]
  },
  {
   "cell_type": "markdown",
   "metadata": {
    "slideshow": {
     "slide_type": "fragment"
    }
   },
   "source": [
    "Say in our experiment we follow-up with the experimental and control groups:\n",
    "\n",
    "- 5 out of 50 patients in the control group indicate that their symptoms are better\n",
    "- 20 out of 50 patients in the experimental group indicate that their symptoms are better\n",
    "\n",
    "The **p-value** would be the **probability we have this data if the effect of the drug is in fact no better than placebo.**"
   ]
  },
  {
   "cell_type": "code",
   "execution_count": 1,
   "metadata": {
    "collapsed": true,
    "slideshow": {
     "slide_type": "slide"
    }
   },
   "outputs": [],
   "source": [
    "import numpy as np\n",
    "import scipy.stats as stats\n",
    "import seaborn as sns\n",
    "import matplotlib.pyplot as plt\n",
    "%matplotlib inline\n",
    "sns.set(rc={\"figure.figsize\": (9, 7)})\n",
    "\n",
    "null_dist = np.random.normal(0, 5, 100)\n",
    "measured_diff = 15."
   ]
  },
  {
   "cell_type": "code",
   "execution_count": 2,
   "metadata": {
    "collapsed": false,
    "slideshow": {
     "slide_type": "slide"
    }
   },
   "outputs": [
    {
     "data": {
      "text/plain": [
       "<matplotlib.lines.Line2D at 0x10402b590>"
      ]
     },
     "execution_count": 2,
     "metadata": {},
     "output_type": "execute_result"
    },
    {
     "data": {
      "image/png": "[encoded data removed]",
      "text/plain": [
       "<matplotlib.figure.Figure at 0x10402b5d0>"
      ]
     },
     "metadata": {},
     "output_type": "display_data"
    }
   ],
   "source": [
    "ax = sns.distplot(null_dist)\n",
    "ax.axvline(measured_diff, color='k', linestyle='--', lw=5)"
   ]
  },
  {
   "cell_type": "markdown",
   "metadata": {
    "slideshow": {
     "slide_type": "slide"
    }
   },
   "source": [
    "### t-tests: calculating the p-value\n",
    "\n",
    "How do we calculate the **p-value**? For comparing two means (as is the case in this example: the mean difference in symptoms between conditions) we can use the **t-test**.\n",
    "\n",
    "The p-value is a conversion of the **t-statistic** calculated for our experiment."
   ]
  },
  {
   "cell_type": "markdown",
   "metadata": {
    "slideshow": {
     "slide_type": "fragment"
    }
   },
   "source": [
    "<img src=\"http://sites.nicholas.duke.edu/statsreview/files/2013/09/tstat.jpg\">"
   ]
  },
  {
   "cell_type": "markdown",
   "metadata": {
    "slideshow": {
     "slide_type": "slide"
    }
   },
   "source": [
    "<img src=\"http://sites.nicholas.duke.edu/statsreview/files/2013/09/tstat.jpg\">"
   ]
  },
  {
   "cell_type": "markdown",
   "metadata": {
    "slideshow": {
     "slide_type": "fragment"
    }
   },
   "source": [
    "- The numerator: the difference between **the mean of your sample** and the **hypothesized mean**. Recall that our hypothesized mean is the **null hypothesis H0**"
   ]
  },
  {
   "cell_type": "markdown",
   "metadata": {
    "slideshow": {
     "slide_type": "fragment"
    }
   },
   "source": [
    "- The denominator: **the standard deviation of your sample measurements** divided by the **square root of your sample size**. "
   ]
  },
  {
   "cell_type": "markdown",
   "metadata": {
    "slideshow": {
     "slide_type": "slide"
    }
   },
   "source": [
    "### But what is the t-statistic?\n",
    "<img src=\"http://sites.nicholas.duke.edu/statsreview/files/2013/09/tstat.jpg\">"
   ]
  },
  {
   "cell_type": "markdown",
   "metadata": {
    "slideshow": {
     "slide_type": "fragment"
    }
   },
   "source": [
    "The t-statistic measures the **signal to noise ratio** in our data."
   ]
  },
  {
   "cell_type": "markdown",
   "metadata": {
    "slideshow": {
     "slide_type": "fragment"
    }
   },
   "source": [
    "**The signal is our measured difference.** This is our measured mean minus the hypothesized mean **H0**."
   ]
  },
  {
   "cell_type": "markdown",
   "metadata": {
    "slideshow": {
     "slide_type": "fragment"
    }
   },
   "source": [
    "**The noise** is the **variation in our data**. This is how much our measurements vary (measured by the standard deviation), with a penalty for smaller sample sizes (the square root of the sample size)."
   ]
  },
  {
   "cell_type": "code",
   "execution_count": 11,
   "metadata": {
    "collapsed": false,
    "slideshow": {
     "slide_type": "slide"
    }
   },
   "outputs": [
    {
     "data": {
      "text/plain": [
       "<matplotlib.axes._subplots.AxesSubplot at 0x11b894f50>"
      ]
     },
     "execution_count": 11,
     "metadata": {},
     "output_type": "execute_result"
    },
    {
     "data": {
      "image/png": "[encoded data removed]",
      "text/plain": [
       "<matplotlib.figure.Figure at 0x11b8afd50>"
      ]
     },
     "metadata": {},
     "output_type": "display_data"
    }
   ],
   "source": [
    "control = np.random.normal(5, 5, 50)\n",
    "experimental = np.random.normal(20, 5, 50)\n",
    "\n",
    "ax = sns.distplot(control, bins=10)\n",
    "sns.distplot(experimental, color='darkred', bins=10, ax=ax)\n"
   ]
  },
  {
   "cell_type": "markdown",
   "metadata": {
    "slideshow": {
     "slide_type": "slide"
    }
   },
   "source": [
    "We set the standard deviation to 5. What if it was higher? "
   ]
  },
  {
   "cell_type": "code",
   "execution_count": 28,
   "metadata": {
    "collapsed": false,
    "slideshow": {
     "slide_type": "fragment"
    }
   },
   "outputs": [
    {
     "data": {
      "text/plain": [
       "<matplotlib.axes._subplots.AxesSubplot at 0x11e202a10>"
      ]
     },
     "execution_count": 28,
     "metadata": {},
     "output_type": "execute_result"
    },
    {
     "data": {
      "image/png": "[encoded data removed]",
      "text/plain": [
       "<matplotlib.figure.Figure at 0x11fb18f90>"
      ]
     },
     "metadata": {},
     "output_type": "display_data"
    }
   ],
   "source": [
    "control = np.random.normal(5, 15, 50)\n",
    "experimental = np.random.normal(20, 15, 50)\n",
    "\n",
    "ax = sns.distplot(control, bins=10)\n",
    "sns.distplot(experimental, color='darkred', bins=10, ax=ax)"
   ]
  },
  {
   "cell_type": "markdown",
   "metadata": {
    "slideshow": {
     "slide_type": "slide"
    }
   },
   "source": [
    "## Confidence intervals\n",
    "\n",
    "You may have heard of people describing \"95% confidence intervals\" in experiments measuring mean differences.\n",
    "\n",
    "What do you think of this definition of confidence intervals:\n",
    "\n",
    "**Def.1:** The 95% confidence interval around a mean indicates that there is a 95% chance the true mean falls in that interval."
   ]
  },
  {
   "cell_type": "markdown",
   "metadata": {
    "slideshow": {
     "slide_type": "fragment"
    }
   },
   "source": [
    "### WRONG!\n",
    "\n",
    "That is a **Bayesian** way of thinking (which is confusingly called \"credible intervals\"). The **Frequentist confidence interval** is defined as:\n",
    "\n",
    "**Correct definition:** In 95% of experiments, an interval constructed with this threshold will contain the true mean."
   ]
  },
  {
   "cell_type": "markdown",
   "metadata": {
    "slideshow": {
     "slide_type": "slide"
    }
   },
   "source": [
    "### Bootstrapping the confidence interval\n",
    "\n",
    "**Bootstrapping** is the procedure of **resampling your sample** to extract confidence intervals.\n",
    "\n",
    "[Bootstrapping has other extended uses. We will talk about bootstrapping in depth later.]\n",
    "\n",
    "Imagine we resample our sample 1000 times and each time calculate the mean. What can we use these values for?"
   ]
  },
  {
   "cell_type": "markdown",
   "metadata": {
    "slideshow": {
     "slide_type": "fragment"
    }
   },
   "source": [
    "---\n",
    "\n",
    "**A:** Bootstrapped means can give us additional information about our **statistic of interest**. For example, the 2.5th percentile and 97.5th percentile can give us the 95% confidence interval for our statistic."
   ]
  },
  {
   "cell_type": "markdown",
   "metadata": {
    "slideshow": {
     "slide_type": "slide"
    }
   },
   "source": [
    "### Why does bootstrapping work?\n",
    "\n",
    "This question is beyond the scope of this lecture, and potentially beyond the scope of our class (at least mathematically). \n",
    "\n",
    "However, there is a good intuition for the bootstrap."
   ]
  },
  {
   "cell_type": "markdown",
   "metadata": {
    "slideshow": {
     "slide_type": "fragment"
    }
   },
   "source": [
    "---\n",
    "The bootstrapping procedure is based on the same infinite sampling theory that Frequentist statistics leverages. Remember that taking a random sample of people and measuring them provides us the ability  to **infer information about the whole population.**\n",
    "\n",
    "Likewise, **bootstrapping our statistic of interest lets us infer information _about the \"population\" of our measured statistic!**"
   ]
  },
  {
   "cell_type": "markdown",
   "metadata": {
    "slideshow": {
     "slide_type": "slide"
    }
   },
   "source": [
    "### Code the confidence interval bootstrap\n",
    "\n",
    "Coding a function to perform the bootstrap for a confidence interval is surprisingly simple!"
   ]
  },
  {
   "cell_type": "code",
   "execution_count": 29,
   "metadata": {
    "collapsed": false,
    "slideshow": {
     "slide_type": "fragment"
    }
   },
   "outputs": [],
   "source": [
    "def mean_ci_bootstrap(sample, confidence, iterations):\n",
    "    upper_ci = 100 - (100 - confidence)/2.\n",
    "    lower_ci = (100 - confidence)/2.\n",
    "    print upper_ci, lower_ci\n",
    "    \n",
    "    subsamples = [np.random.choice(sample, size=len(sample), replace=True) for i in range(iterations)]\n",
    "    means = [np.mean(subsample) for subsample in subsamples]\n",
    "    \n",
    "    upper_ci_value = np.percentile(means, upper_ci)\n",
    "    lower_ci_value = np.percentile(means, lower_ci)\n",
    "    mean_of_means = np.mean(means)\n",
    "    \n",
    "    return([mean_of_means, upper_ci_value, lower_ci_value])\n",
    "    "
   ]
  },
  {
   "cell_type": "code",
   "execution_count": 44,
   "metadata": {
    "collapsed": false,
    "slideshow": {
     "slide_type": "slide"
    }
   },
   "outputs": [
    {
     "name": "stdout",
     "output_type": "stream",
     "text": [
      "97.5 2.5\n",
      "Mean: 5.36747824993\n",
      "Bootstrapped mean: 5.34357673372\n",
      "Upper 95% CI: 6.26489222074\n",
      "Lower 95% CI: 4.43311486837\n"
     ]
    }
   ],
   "source": [
    "random_vals = np.random.normal(5, 15, size=1000)\n",
    "[mean_of_means, upper_ci_value, lower_ci_value] = mean_ci_bootstrap(random_vals, 95, 1000)\n",
    "simple_mean = np.mean(random_vals)\n",
    "\n",
    "print 'Mean:', simple_mean\n",
    "print 'Bootstrapped mean:', mean_of_means\n",
    "print 'Upper 95% CI:', upper_ci_value\n",
    "print 'Lower 95% CI:', lower_ci_value"
   ]
  }
 ],
 "metadata": {
  "celltoolbar": "Slideshow",
  "kernelspec": {
   "display_name": "Python 2",
   "language": "python",
   "name": "python2"
  },
  "language_info": {
   "codemirror_mode": {
    "name": "ipython",
    "version": 2
   },
   "file_extension": ".py",
   "mimetype": "text/x-python",
   "name": "python",
   "nbconvert_exporter": "python",
   "pygments_lexer": "ipython2",
   "version": "2.7.11"
  }
 },
 "nbformat": 4,
 "nbformat_minor": 0
}
