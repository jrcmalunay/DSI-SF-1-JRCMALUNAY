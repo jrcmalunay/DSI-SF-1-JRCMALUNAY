{
 "cells": [
  {
   "cell_type": "markdown",
   "metadata": {},
   "source": [
    "# Project 1\n",
    "\n",
    "## Step 1: Open the `sat_scores.csv` file. Investigate the data, and answer the questions below.\n"
   ]
  },
  {
   "cell_type": "markdown",
   "metadata": {},
   "source": [
    "##### 1. What does the data describe?"
   ]
  },
  {
   "cell_type": "markdown",
   "metadata": {},
   "source": [
    "The data describes the rate, math, and verbal scores for all 50 states. The last part of the list looks to be the average of all the states."
   ]
  },
  {
   "cell_type": "markdown",
   "metadata": {},
   "source": [
    "##### 2. Does the data look complete? Are there any obvious issues with the observations?"
   ]
  },
  {
   "cell_type": "markdown",
   "metadata": {},
   "source": [
    "Yes, it does look complete. However, it does look out of structure. Overall, it could visually be cleaner."
   ]
  },
  {
   "cell_type": "markdown",
   "metadata": {},
   "source": [
    "##### 3. Create a data dictionary for the dataset."
   ]
  },
  {
   "cell_type": "code",
   "execution_count": 256,
   "metadata": {
    "collapsed": false
   },
   "outputs": [],
   "source": [
    "ds_dict = {}"
   ]
  },
  {
   "cell_type": "markdown",
   "metadata": {},
   "source": [
    "## Step 2: Load the data."
   ]
  },
  {
   "cell_type": "markdown",
   "metadata": {},
   "source": [
    "##### 4. Load the data into a list of lists"
   ]
  },
  {
   "cell_type": "code",
   "execution_count": 257,
   "metadata": {
    "collapsed": false
   },
   "outputs": [],
   "source": [
    "#imported the data of sat_scores.csv\n",
    "import csv\n",
    "\n",
    "sat_data_path = '../assets/sat_scores.csv'\n",
    "rows = []\n",
    "\n",
    "with open(sat_data_path, 'r') as f:\n",
    "    reader = csv.reader(f)\n",
    "    for row in reader:\n",
    "        rows.append(row)"
   ]
  },
  {
   "cell_type": "markdown",
   "metadata": {},
   "source": [
    "##### 5. Print the data"
   ]
  },
  {
   "cell_type": "code",
   "execution_count": 258,
   "metadata": {
    "collapsed": false,
    "scrolled": true
   },
   "outputs": [
    {
     "data": {
      "text/plain": [
       "[['State', 'Rate', 'Verbal', 'Math'],\n",
       " ['CT', '82', '509', '510'],\n",
       " ['NJ', '81', '499', '513'],\n",
       " ['MA', '79', '511', '515'],\n",
       " ['NY', '77', '495', '505'],\n",
       " ['NH', '72', '520', '516'],\n",
       " ['RI', '71', '501', '499'],\n",
       " ['PA', '71', '500', '499'],\n",
       " ['VT', '69', '511', '506'],\n",
       " ['ME', '69', '506', '500'],\n",
       " ['VA', '68', '510', '501'],\n",
       " ['DE', '67', '501', '499'],\n",
       " ['MD', '65', '508', '510'],\n",
       " ['NC', '65', '493', '499'],\n",
       " ['GA', '63', '491', '489'],\n",
       " ['IN', '60', '499', '501'],\n",
       " ['SC', '57', '486', '488'],\n",
       " ['DC', '56', '482', '474'],\n",
       " ['OR', '55', '526', '526'],\n",
       " ['FL', '54', '498', '499'],\n",
       " ['WA', '53', '527', '527'],\n",
       " ['TX', '53', '493', '499'],\n",
       " ['HI', '52', '485', '515'],\n",
       " ['AK', '51', '514', '510'],\n",
       " ['CA', '51', '498', '517'],\n",
       " ['AZ', '34', '523', '525'],\n",
       " ['NV', '33', '509', '515'],\n",
       " ['CO', '31', '539', '542'],\n",
       " ['OH', '26', '534', '439'],\n",
       " ['MT', '23', '539', '539'],\n",
       " ['WV', '18', '527', '512'],\n",
       " ['ID', '17', '543', '542'],\n",
       " ['TN', '13', '562', '553'],\n",
       " ['NM', '13', '551', '542'],\n",
       " ['IL', '12', '576', '589'],\n",
       " ['KY', '12', '550', '550'],\n",
       " ['WY', '11', '547', '545'],\n",
       " ['MI', '11', '561', '572'],\n",
       " ['MN', '9', '580', '589'],\n",
       " ['KS', '9', '577', '580'],\n",
       " ['AL', '9', '559', '554'],\n",
       " ['NB', '8', '562', '568'],\n",
       " ['OK', '8', '567', '561'],\n",
       " ['MO', '8', '577', '577'],\n",
       " ['LA', '7', '564', '562'],\n",
       " ['WI', '6', '584', '596'],\n",
       " ['AR', '6', '562', '550'],\n",
       " ['UT', '5', '575', '570'],\n",
       " ['IA', '5', '593', '603'],\n",
       " ['SD', '4', '577', '582'],\n",
       " ['ND', '4', '592', '599'],\n",
       " ['MS', '4', '566', '551'],\n",
       " ['All', '45', '506', '514']]"
      ]
     },
     "execution_count": 258,
     "metadata": {},
     "output_type": "execute_result"
    }
   ],
   "source": [
    "#Called and printed all the data in list rows\n",
    "rows"
   ]
  },
  {
   "cell_type": "markdown",
   "metadata": {
    "collapsed": true
   },
   "source": [
    "##### 6. Extract a list of the labels from the data, and remove them from the data."
   ]
  },
  {
   "cell_type": "code",
   "execution_count": 259,
   "metadata": {
    "collapsed": false
   },
   "outputs": [
    {
     "name": "stdout",
     "output_type": "stream",
     "text": [
      "['State', 'Rate', 'Verbal', 'Math']\n"
     ]
    },
    {
     "data": {
      "text/plain": [
       "[['CT', '82', '509', '510'],\n",
       " ['NJ', '81', '499', '513'],\n",
       " ['MA', '79', '511', '515'],\n",
       " ['NY', '77', '495', '505'],\n",
       " ['NH', '72', '520', '516'],\n",
       " ['RI', '71', '501', '499'],\n",
       " ['PA', '71', '500', '499'],\n",
       " ['VT', '69', '511', '506'],\n",
       " ['ME', '69', '506', '500'],\n",
       " ['VA', '68', '510', '501'],\n",
       " ['DE', '67', '501', '499'],\n",
       " ['MD', '65', '508', '510'],\n",
       " ['NC', '65', '493', '499'],\n",
       " ['GA', '63', '491', '489'],\n",
       " ['IN', '60', '499', '501'],\n",
       " ['SC', '57', '486', '488'],\n",
       " ['DC', '56', '482', '474'],\n",
       " ['OR', '55', '526', '526'],\n",
       " ['FL', '54', '498', '499'],\n",
       " ['WA', '53', '527', '527'],\n",
       " ['TX', '53', '493', '499'],\n",
       " ['HI', '52', '485', '515'],\n",
       " ['AK', '51', '514', '510'],\n",
       " ['CA', '51', '498', '517'],\n",
       " ['AZ', '34', '523', '525'],\n",
       " ['NV', '33', '509', '515'],\n",
       " ['CO', '31', '539', '542'],\n",
       " ['OH', '26', '534', '439'],\n",
       " ['MT', '23', '539', '539'],\n",
       " ['WV', '18', '527', '512'],\n",
       " ['ID', '17', '543', '542'],\n",
       " ['TN', '13', '562', '553'],\n",
       " ['NM', '13', '551', '542'],\n",
       " ['IL', '12', '576', '589'],\n",
       " ['KY', '12', '550', '550'],\n",
       " ['WY', '11', '547', '545'],\n",
       " ['MI', '11', '561', '572'],\n",
       " ['MN', '9', '580', '589'],\n",
       " ['KS', '9', '577', '580'],\n",
       " ['AL', '9', '559', '554'],\n",
       " ['NB', '8', '562', '568'],\n",
       " ['OK', '8', '567', '561'],\n",
       " ['MO', '8', '577', '577'],\n",
       " ['LA', '7', '564', '562'],\n",
       " ['WI', '6', '584', '596'],\n",
       " ['AR', '6', '562', '550'],\n",
       " ['UT', '5', '575', '570'],\n",
       " ['IA', '5', '593', '603'],\n",
       " ['SD', '4', '577', '582'],\n",
       " ['ND', '4', '592', '599'],\n",
       " ['MS', '4', '566', '551'],\n",
       " ['All', '45', '506', '514']]"
      ]
     },
     "execution_count": 259,
     "metadata": {},
     "output_type": "execute_result"
    }
   ],
   "source": [
    "#Took out the first index of the list rows to extract the list of headers and called the rest of the list under data\n",
    "header = rows[0]\n",
    "print header\n",
    "data = rows[1:]\n",
    "data\n"
   ]
  },
  {
   "cell_type": "markdown",
   "metadata": {},
   "source": [
    "##### 7. Create a list of State names extracted from the data. (Hint: use the list of labels to index on the State column)"
   ]
  },
  {
   "cell_type": "code",
   "execution_count": 260,
   "metadata": {
    "collapsed": false
   },
   "outputs": [
    {
     "name": "stdout",
     "output_type": "stream",
     "text": [
      "['CT', 'NJ', 'MA', 'NY', 'NH', 'RI', 'PA', 'VT', 'ME', 'VA', 'DE', 'MD', 'NC', 'GA', 'IN', 'SC', 'DC', 'OR', 'FL', 'WA', 'TX', 'HI', 'AK', 'CA', 'AZ', 'NV', 'CO', 'OH', 'MT', 'WV', 'ID', 'TN', 'NM', 'IL', 'KY', 'WY', 'MI', 'MN', 'KS', 'AL', 'NB', 'OK', 'MO', 'LA', 'WI', 'AR', 'UT', 'IA', 'SD', 'ND', 'MS']\n"
     ]
    }
   ],
   "source": [
    "#Made a for loop to call all states, based on abbreviation, to a new list. If length of first column is longer than 2\n",
    "#characters, it would pop out the list\n",
    "state = []\n",
    "for index in data:\n",
    "    if len(index[0]) > 2:\n",
    "        data.pop()\n",
    "    else:\n",
    "        state.append(index[0])\n",
    "\n",
    "print state\n"
   ]
  },
  {
   "cell_type": "markdown",
   "metadata": {},
   "source": [
    "##### 8. Print the types of each column"
   ]
  },
  {
   "cell_type": "code",
   "execution_count": 261,
   "metadata": {
    "collapsed": false
   },
   "outputs": [
    {
     "name": "stdout",
     "output_type": "stream",
     "text": [
      "<type 'str'> <type 'str'> <type 'str'> <type 'str'>\n",
      "<type 'str'> <type 'str'> <type 'str'> <type 'str'>\n",
      "<type 'str'> <type 'str'> <type 'str'> <type 'str'>\n",
      "<type 'str'> <type 'str'> <type 'str'> <type 'str'>\n",
      "<type 'str'> <type 'str'> <type 'str'> <type 'str'>\n",
      "<type 'str'> <type 'str'> <type 'str'> <type 'str'>\n",
      "<type 'str'> <type 'str'> <type 'str'> <type 'str'>\n",
      "<type 'str'> <type 'str'> <type 'str'> <type 'str'>\n",
      "<type 'str'> <type 'str'> <type 'str'> <type 'str'>\n",
      "<type 'str'> <type 'str'> <type 'str'> <type 'str'>\n",
      "<type 'str'> <type 'str'> <type 'str'> <type 'str'>\n",
      "<type 'str'> <type 'str'> <type 'str'> <type 'str'>\n",
      "<type 'str'> <type 'str'> <type 'str'> <type 'str'>\n",
      "<type 'str'> <type 'str'> <type 'str'> <type 'str'>\n",
      "<type 'str'> <type 'str'> <type 'str'> <type 'str'>\n",
      "<type 'str'> <type 'str'> <type 'str'> <type 'str'>\n",
      "<type 'str'> <type 'str'> <type 'str'> <type 'str'>\n",
      "<type 'str'> <type 'str'> <type 'str'> <type 'str'>\n",
      "<type 'str'> <type 'str'> <type 'str'> <type 'str'>\n",
      "<type 'str'> <type 'str'> <type 'str'> <type 'str'>\n",
      "<type 'str'> <type 'str'> <type 'str'> <type 'str'>\n",
      "<type 'str'> <type 'str'> <type 'str'> <type 'str'>\n",
      "<type 'str'> <type 'str'> <type 'str'> <type 'str'>\n",
      "<type 'str'> <type 'str'> <type 'str'> <type 'str'>\n",
      "<type 'str'> <type 'str'> <type 'str'> <type 'str'>\n",
      "<type 'str'> <type 'str'> <type 'str'> <type 'str'>\n",
      "<type 'str'> <type 'str'> <type 'str'> <type 'str'>\n",
      "<type 'str'> <type 'str'> <type 'str'> <type 'str'>\n",
      "<type 'str'> <type 'str'> <type 'str'> <type 'str'>\n",
      "<type 'str'> <type 'str'> <type 'str'> <type 'str'>\n",
      "<type 'str'> <type 'str'> <type 'str'> <type 'str'>\n",
      "<type 'str'> <type 'str'> <type 'str'> <type 'str'>\n",
      "<type 'str'> <type 'str'> <type 'str'> <type 'str'>\n",
      "<type 'str'> <type 'str'> <type 'str'> <type 'str'>\n",
      "<type 'str'> <type 'str'> <type 'str'> <type 'str'>\n",
      "<type 'str'> <type 'str'> <type 'str'> <type 'str'>\n",
      "<type 'str'> <type 'str'> <type 'str'> <type 'str'>\n",
      "<type 'str'> <type 'str'> <type 'str'> <type 'str'>\n",
      "<type 'str'> <type 'str'> <type 'str'> <type 'str'>\n",
      "<type 'str'> <type 'str'> <type 'str'> <type 'str'>\n",
      "<type 'str'> <type 'str'> <type 'str'> <type 'str'>\n",
      "<type 'str'> <type 'str'> <type 'str'> <type 'str'>\n",
      "<type 'str'> <type 'str'> <type 'str'> <type 'str'>\n",
      "<type 'str'> <type 'str'> <type 'str'> <type 'str'>\n",
      "<type 'str'> <type 'str'> <type 'str'> <type 'str'>\n",
      "<type 'str'> <type 'str'> <type 'str'> <type 'str'>\n",
      "<type 'str'> <type 'str'> <type 'str'> <type 'str'>\n",
      "<type 'str'> <type 'str'> <type 'str'> <type 'str'>\n",
      "<type 'str'> <type 'str'> <type 'str'> <type 'str'>\n",
      "<type 'str'> <type 'str'> <type 'str'> <type 'str'>\n",
      "<type 'str'> <type 'str'> <type 'str'> <type 'str'>\n"
     ]
    }
   ],
   "source": [
    "#Wrote a for looop to iterate through each list in the list rows. Used and index to call each column and determined\n",
    "#all of the indicies are string types\n",
    "#State, Rate, Verbal, and Math all all string types\n",
    "\n",
    "for index in data:\n",
    "    print type(index[0]), type(index[1]), type(index[2]), type(index[3])        "
   ]
  },
  {
   "cell_type": "markdown",
   "metadata": {},
   "source": [
    "##### 9. Do any types need to be reassigned? If so, go ahead and do it."
   ]
  },
  {
   "cell_type": "code",
   "execution_count": 262,
   "metadata": {
    "collapsed": false
   },
   "outputs": [
    {
     "name": "stdout",
     "output_type": "stream",
     "text": [
      "<type 'int'> <type 'int'> <type 'int'>\n"
     ]
    }
   ],
   "source": [
    "#Yes, as we see above, all of the types are strings. We must convert the 2nd, 3rd, and 4th columns to integers\n",
    "#DONT FORGET TO ADD THEM IN A LIST!\n",
    "\n",
    "rate = []\n",
    "verbal = []\n",
    "math1 = []\n",
    "\n",
    "for index in data:\n",
    "    index[1] = int(index[1])\n",
    "    index[2] = int(index[2])\n",
    "    index[3] = int(index[3])\n",
    "    rate.append(index[1])\n",
    "    verbal.append(index[2])\n",
    "    math1.append(index[3])\n",
    "\n",
    "print type(index[1]),type(index[2]),type(index[3])      \n",
    "#print \"Rate:\", rate\n",
    "#print \"Verbal:\", verbal\n",
    "#print \"Math:\", math\n",
    "    "
   ]
  },
  {
   "cell_type": "markdown",
   "metadata": {},
   "source": [
    "##### 10. Create a dictionary for each column mapping the State to its respective value for that column. "
   ]
  },
  {
   "cell_type": "code",
   "execution_count": 263,
   "metadata": {
    "collapsed": false
   },
   "outputs": [
    {
     "data": {
      "text/plain": [
       "{'AK': [51, 514, 510],\n",
       " 'AL': [9, 559, 554],\n",
       " 'AR': [6, 562, 550],\n",
       " 'AZ': [34, 523, 525],\n",
       " 'CA': [51, 498, 517],\n",
       " 'CO': [31, 539, 542],\n",
       " 'CT': [82, 509, 510],\n",
       " 'DC': [56, 482, 474],\n",
       " 'DE': [67, 501, 499],\n",
       " 'FL': [54, 498, 499],\n",
       " 'GA': [63, 491, 489],\n",
       " 'HI': [52, 485, 515],\n",
       " 'IA': [5, 593, 603],\n",
       " 'ID': [17, 543, 542],\n",
       " 'IL': [12, 576, 589],\n",
       " 'IN': [60, 499, 501],\n",
       " 'KS': [9, 577, 580],\n",
       " 'KY': [12, 550, 550],\n",
       " 'LA': [7, 564, 562],\n",
       " 'MA': [79, 511, 515],\n",
       " 'MD': [65, 508, 510],\n",
       " 'ME': [69, 506, 500],\n",
       " 'MI': [11, 561, 572],\n",
       " 'MN': [9, 580, 589],\n",
       " 'MO': [8, 577, 577],\n",
       " 'MS': [4, 566, 551],\n",
       " 'MT': [23, 539, 539],\n",
       " 'NB': [8, 562, 568],\n",
       " 'NC': [65, 493, 499],\n",
       " 'ND': [4, 592, 599],\n",
       " 'NH': [72, 520, 516],\n",
       " 'NJ': [81, 499, 513],\n",
       " 'NM': [13, 551, 542],\n",
       " 'NV': [33, 509, 515],\n",
       " 'NY': [77, 495, 505],\n",
       " 'OH': [26, 534, 439],\n",
       " 'OK': [8, 567, 561],\n",
       " 'OR': [55, 526, 526],\n",
       " 'PA': [71, 500, 499],\n",
       " 'RI': [71, 501, 499],\n",
       " 'SC': [57, 486, 488],\n",
       " 'SD': [4, 577, 582],\n",
       " 'TN': [13, 562, 553],\n",
       " 'TX': [53, 493, 499],\n",
       " 'UT': [5, 575, 570],\n",
       " 'VA': [68, 510, 501],\n",
       " 'VT': [69, 511, 506],\n",
       " 'WA': [53, 527, 527],\n",
       " 'WI': [6, 584, 596],\n",
       " 'WV': [18, 527, 512],\n",
       " 'WY': [11, 547, 545]}"
      ]
     },
     "execution_count": 263,
     "metadata": {},
     "output_type": "execute_result"
    }
   ],
   "source": [
    "#used my dictionary, ds_dict; ran a loop through my data and set the first index of each list as the key and set the \n",
    "#corresponding numbers as the values\n",
    "for index in data:\n",
    "    states = index[0]\n",
    "    ds_dict[states] = index[1:]\n",
    "    \n",
    "ds_dict"
   ]
  },
  {
   "cell_type": "markdown",
   "metadata": {},
   "source": [
    "##### 11. Create a dictionary with the values for each of the numeric columns"
   ]
  },
  {
   "cell_type": "code",
   "execution_count": 264,
   "metadata": {
    "collapsed": false
   },
   "outputs": [
    {
     "name": "stdout",
     "output_type": "stream",
     "text": [
      "{'Math': [510, 513, 515, 505, 516, 499, 499, 506, 500, 501, 499, 510, 499, 489, 501, 488, 474, 526, 499, 527, 499, 515, 510, 517, 525, 515, 542, 439, 539, 512, 542, 553, 542, 589, 550, 545, 572, 589, 580, 554, 568, 561, 577, 562, 596, 550, 570, 603, 582, 599, 551], 'State': ['CT', 'NJ', 'MA', 'NY', 'NH', 'RI', 'PA', 'VT', 'ME', 'VA', 'DE', 'MD', 'NC', 'GA', 'IN', 'SC', 'DC', 'OR', 'FL', 'WA', 'TX', 'HI', 'AK', 'CA', 'AZ', 'NV', 'CO', 'OH', 'MT', 'WV', 'ID', 'TN', 'NM', 'IL', 'KY', 'WY', 'MI', 'MN', 'KS', 'AL', 'NB', 'OK', 'MO', 'LA', 'WI', 'AR', 'UT', 'IA', 'SD', 'ND', 'MS'], 'Rate': [82, 81, 79, 77, 72, 71, 71, 69, 69, 68, 67, 65, 65, 63, 60, 57, 56, 55, 54, 53, 53, 52, 51, 51, 34, 33, 31, 26, 23, 18, 17, 13, 13, 12, 12, 11, 11, 9, 9, 9, 8, 8, 8, 7, 6, 6, 5, 5, 4, 4, 4], 'Verbal': [509, 499, 511, 495, 520, 501, 500, 511, 506, 510, 501, 508, 493, 491, 499, 486, 482, 526, 498, 527, 493, 485, 514, 498, 523, 509, 539, 534, 539, 527, 543, 562, 551, 576, 550, 547, 561, 580, 577, 559, 562, 567, 577, 564, 584, 562, 575, 593, 577, 592, 566]}\n"
     ]
    }
   ],
   "source": [
    "#Used a dictionary comprehension to call all the values in my data list to the key in my header list\n",
    "database = {k:[x[header.index(k)] for x in data] for k in header}\n",
    "print database"
   ]
  },
  {
   "cell_type": "markdown",
   "metadata": {},
   "source": [
    "## Step 3: Describe the data"
   ]
  },
  {
   "cell_type": "markdown",
   "metadata": {},
   "source": [
    "##### 12. Print the min and max of each column"
   ]
  },
  {
   "cell_type": "code",
   "execution_count": 265,
   "metadata": {
    "collapsed": false
   },
   "outputs": [
    {
     "name": "stdout",
     "output_type": "stream",
     "text": [
      "Rate:\n",
      "Min: 4\n",
      "Max: 82\n",
      "Verbal:\n",
      "Min: 482\n",
      "Max: 593\n",
      "Math:\n",
      "Min: 439\n",
      "Max: 603\n"
     ]
    }
   ],
   "source": [
    "#Created 3 variables with sorted lists of rate, verbal, and math respectively. Took the first and last value of each \n",
    "#list\n",
    "\n",
    "x = sorted(rate)\n",
    "print \"Rate:\"\n",
    "print \"Min:\", x[0]\n",
    "print \"Max:\", x[-1]\n",
    "\n",
    "y = sorted(verbal)\n",
    "print \"Verbal:\"\n",
    "print \"Min:\", y[0]\n",
    "print \"Max:\", y[-1]\n",
    "\n",
    "z = sorted(math1)\n",
    "print \"Math:\"\n",
    "print \"Min:\", z[0]\n",
    "print \"Max:\", z[-1]"
   ]
  },
  {
   "cell_type": "markdown",
   "metadata": {},
   "source": [
    "##### 13. Write a function using only list comprehensions, no loops, to compute Standard Deviation. Print the Standard Deviation of each numeric column."
   ]
  },
  {
   "cell_type": "code",
   "execution_count": 266,
   "metadata": {
    "collapsed": false
   },
   "outputs": [
    {
     "name": "stdout",
     "output_type": "stream",
     "text": [
      "Standard Deviation of Rate Scores: 27.2792386761\n",
      "Standard Deviation of Verbal Scores: 33.0319826842\n",
      "Standard Deviation of Math Scores: 35.9298731731\n"
     ]
    }
   ],
   "source": [
    "#Created a function using a list comprehension to call the variance and printed the square root to determine the \n",
    "#standard deviation for Rate, Verbal, and Math\n",
    "import numpy as np\n",
    "\n",
    "def standdev(lst):\n",
    "    #s_dev = [(x - np.mean(lst)**2)/len(lst) for x in lst]\n",
    "    x = np.mean(lst)\n",
    "    s_dev = sum([(e-x)**2 for e in lst])/len(lst)\n",
    "    return s_dev\n",
    "\n",
    "print \"Standard Deviation of Rate Scores:\", np.sqrt(standdev(rate))\n",
    "print \"Standard Deviation of Verbal Scores:\", np.sqrt(standdev(verbal))\n",
    "print \"Standard Deviation of Math Scores:\", np.sqrt(standdev(math1))"
   ]
  },
  {
   "cell_type": "markdown",
   "metadata": {},
   "source": [
    "## Step 4: Visualize the data"
   ]
  },
  {
   "cell_type": "markdown",
   "metadata": {
    "collapsed": true
   },
   "source": [
    "##### 14. Using MatPlotLib and PyPlot, plot the distribution of the Rate using histograms."
   ]
  },
  {
   "cell_type": "code",
   "execution_count": 267,
   "metadata": {
    "collapsed": false
   },
   "outputs": [
    {
     "data": {
      "text/html": [
       "<div>\n",
       "<table border=\"1\" class=\"dataframe\">\n",
       "  <thead>\n",
       "    <tr style=\"text-align: right;\">\n",
       "      <th></th>\n",
       "      <th>State</th>\n",
       "      <th>Rate</th>\n",
       "      <th>Verbal</th>\n",
       "      <th>Math</th>\n",
       "    </tr>\n",
       "  </thead>\n",
       "  <tbody>\n",
       "    <tr>\n",
       "      <th>0</th>\n",
       "      <td>CT</td>\n",
       "      <td>82</td>\n",
       "      <td>509</td>\n",
       "      <td>510</td>\n",
       "    </tr>\n",
       "    <tr>\n",
       "      <th>1</th>\n",
       "      <td>NJ</td>\n",
       "      <td>81</td>\n",
       "      <td>499</td>\n",
       "      <td>513</td>\n",
       "    </tr>\n",
       "    <tr>\n",
       "      <th>2</th>\n",
       "      <td>MA</td>\n",
       "      <td>79</td>\n",
       "      <td>511</td>\n",
       "      <td>515</td>\n",
       "    </tr>\n",
       "    <tr>\n",
       "      <th>3</th>\n",
       "      <td>NY</td>\n",
       "      <td>77</td>\n",
       "      <td>495</td>\n",
       "      <td>505</td>\n",
       "    </tr>\n",
       "    <tr>\n",
       "      <th>4</th>\n",
       "      <td>NH</td>\n",
       "      <td>72</td>\n",
       "      <td>520</td>\n",
       "      <td>516</td>\n",
       "    </tr>\n",
       "  </tbody>\n",
       "</table>\n",
       "</div>"
      ],
      "text/plain": [
       "  State  Rate  Verbal  Math\n",
       "0    CT    82     509   510\n",
       "1    NJ    81     499   513\n",
       "2    MA    79     511   515\n",
       "3    NY    77     495   505\n",
       "4    NH    72     520   516"
      ]
     },
     "execution_count": 267,
     "metadata": {},
     "output_type": "execute_result"
    }
   ],
   "source": [
    "# Numeric and statistics packages:\n",
    "import numpy as np\n",
    "import scipy.stats as stats\n",
    "\n",
    "# Pandas handles dataset loading and manipulation:\n",
    "import pandas as pd\n",
    "\n",
    "# import the plotting functions:\n",
    "import matplotlib.pyplot as plt\n",
    "import seaborn as sns\n",
    "import plotly\n",
    "import plotly.plotly as py\n",
    "import plotly.graph_objs as go\n",
    "\n",
    "# Initialize plotly notebook mode:\n",
    "plotly.offline.init_notebook_mode()\n",
    "\n",
    "# Setup matplotlib to display in notebook:\n",
    "%matplotlib inline\n",
    "\n",
    "sat = pd.read_csv('../assets/sat_scores.csv')\n",
    "sat.columns = ['State', 'Rate', 'Verbal','Math']\n",
    "\n",
    "sat.head()"
   ]
  },
  {
   "cell_type": "code",
   "execution_count": 268,
   "metadata": {
    "collapsed": false
   },
   "outputs": [
    {
     "name": "stdout",
     "output_type": "stream",
     "text": [
      "Rate\n",
      "Mean: 37.0\n",
      "Median: 33.0\n",
      "Mode: ModeResult(mode=array([4]), count=array([3]))\n"
     ]
    },
    {
     "data": {
      "image/png": "[encoded data removed]",
      "text/plain": [
       "<matplotlib.figure.Figure at 0x123708850>"
      ]
     },
     "metadata": {},
     "output_type": "display_data"
    }
   ],
   "source": [
    "print \"Rate\"\n",
    "sns.distplot(rate)\n",
    "print \"Mean:\", np.mean(rate)\n",
    "print \"Median:\", np.median(rate)\n",
    "print \"Mode:\", stats.mode(rate)"
   ]
  },
  {
   "cell_type": "markdown",
   "metadata": {},
   "source": [
    "##### 15. Plot the Math distribution"
   ]
  },
  {
   "cell_type": "code",
   "execution_count": 269,
   "metadata": {
    "collapsed": false
   },
   "outputs": [
    {
     "name": "stdout",
     "output_type": "stream",
     "text": [
      "Math\n",
      "Mean: 531.843137255\n",
      "Median: 525.0\n",
      "Mode: ModeResult(mode=array([499]), count=array([6]))\n"
     ]
    },
    {
     "data": {
      "image/png": "[encoded data removed]",
      "text/plain": [
       "<matplotlib.figure.Figure at 0x12310da90>"
      ]
     },
     "metadata": {},
     "output_type": "display_data"
    }
   ],
   "source": [
    "print \"Math\"\n",
    "sns.distplot(math1)\n",
    "print \"Mean:\", np.mean(math1)\n",
    "print \"Median:\", np.median(math1)\n",
    "print \"Mode:\", stats.mode(math1)"
   ]
  },
  {
   "cell_type": "markdown",
   "metadata": {},
   "source": [
    "##### 16. Plot the Verbal distribution"
   ]
  },
  {
   "cell_type": "code",
   "execution_count": 270,
   "metadata": {
    "collapsed": false
   },
   "outputs": [
    {
     "name": "stdout",
     "output_type": "stream",
     "text": [
      "Verbal\n",
      "Mean: 532.529411765\n",
      "Median: 527.0\n",
      "Mode: ModeResult(mode=array([562]), count=array([3]))\n"
     ]
    },
    {
     "data": {
      "image/png": "[encoded data removed]",
      "text/plain": [
       "<matplotlib.figure.Figure at 0x123744350>"
      ]
     },
     "metadata": {},
     "output_type": "display_data"
    }
   ],
   "source": [
    "print \"Verbal\"\n",
    "sns.distplot(verbal)\n",
    "print \"Mean:\", np.mean(verbal)\n",
    "print \"Median:\", np.median(verbal)\n",
    "print \"Mode:\", stats.mode(verbal)"
   ]
  },
  {
   "cell_type": "markdown",
   "metadata": {},
   "source": [
    "##### 17. What is the typical assumption for data distribution?"
   ]
  },
  {
   "cell_type": "markdown",
   "metadata": {
    "collapsed": false
   },
   "source": [
    "The typical assumption for a data distribution is a postive skewness, a \"tail\" towards the right or a negative\n",
    "skew, a \"tail\" towards the left."
   ]
  },
  {
   "cell_type": "markdown",
   "metadata": {},
   "source": [
    "##### 18. Does that distribution hold true for our data?"
   ]
  },
  {
   "cell_type": "markdown",
   "metadata": {
    "collapsed": false
   },
   "source": [
    "For both, Rate and Math, based on their mode, median, and mean, they have a negative skewness or a tail \n",
    "towards the left. For Verbal, however, the mode is greater than the median, but the median is less than the mean.\n",
    "In this case, the verbal distribution does not hold true, but does hold true for Rate and Math."
   ]
  },
  {
   "cell_type": "markdown",
   "metadata": {},
   "source": [
    "##### 19. Plot some scatterplots. **BONUS**: Use a PyPlot `figure` to present multiple plots at once."
   ]
  },
  {
   "cell_type": "code",
   "execution_count": null,
   "metadata": {
    "collapsed": false
   },
   "outputs": [
    {
     "data": {
      "text/plain": [
       "<matplotlib.collections.PathCollection at 0x118a03390>"
      ]
     },
     "execution_count": 271,
     "metadata": {},
     "output_type": "execute_result"
    },
    {
     "data": {
      "image/png": "[encoded data removed]",
      "text/plain": [
       "<matplotlib.figure.Figure at 0x123744050>"
      ]
     },
     "metadata": {},
     "output_type": "display_data"
    }
   ],
   "source": [
    "#plt.style.use('fivethirtyeight')\n",
    "plt.figure(figsize=(12,5))\n",
    "plt.scatter(verbal,math1,c='blue')"
   ]
  },
  {
   "cell_type": "markdown",
   "metadata": {},
   "source": [
    "##### 20. Are there any interesting relationships to note?"
   ]
  },
  {
   "cell_type": "markdown",
   "metadata": {
    "collapsed": false
   },
   "source": [
    "The Verbal and Math scores are quite similar. Therefore, there is a definite correlation between the distributions."
   ]
  },
  {
   "cell_type": "markdown",
   "metadata": {},
   "source": [
    "##### 21. Create box plots for each variable. "
   ]
  },
  {
   "cell_type": "code",
   "execution_count": null,
   "metadata": {
    "collapsed": false
   },
   "outputs": [],
   "source": [
    "plt.boxplot(rate)\n",
    "print \"Rate:\"\n",
    "print \"Mean:\", np.mean(rate)\n",
    "print \"Median:\", np.median(rate)\n",
    "print \"Mode:\", stats.mode(rate)\n",
    "print \"Rate:\"\n",
    "print \"Min:\", x[0]\n",
    "print \"Max:\", x[-1]"
   ]
  },
  {
   "cell_type": "code",
   "execution_count": null,
   "metadata": {
    "collapsed": false
   },
   "outputs": [],
   "source": [
    "plt.boxplot(math1)\n",
    "print \"Math:\"\n",
    "print \"Mean:\", np.mean(math1)\n",
    "print \"Median:\", np.median(math1)\n",
    "print \"Mode:\", stats.mode(math1)\n",
    "print \"Math:\"\n",
    "print \"Min:\", z[0]\n",
    "print \"Max:\", z[-1]"
   ]
  },
  {
   "cell_type": "code",
   "execution_count": null,
   "metadata": {
    "collapsed": false
   },
   "outputs": [],
   "source": [
    "plt.boxplot(verbal)\n",
    "print \"Verbal:\"\n",
    "print \"Mean:\", np.mean(verbal)\n",
    "print \"Median:\", np.median(verbal)\n",
    "print \"Mode:\", stats.mode(verbal)\n",
    "print \"Verbal:\"\n",
    "print \"Min:\", y[0]\n",
    "print \"Max:\", y[-1]"
   ]
  },
  {
   "cell_type": "markdown",
   "metadata": {},
   "source": [
    "##### BONUS: Using Tableau, create a heat map for each variable using a map of the US. "
   ]
  },
  {
   "cell_type": "markdown",
   "metadata": {
    "collapsed": true
   },
   "source": [
    "Verbal\n",
    "![](http://snag.gy/IkAK4.jpg)"
   ]
  },
  {
   "cell_type": "markdown",
   "metadata": {},
   "source": [
    "Rate\n",
    "![](http://snag.gy/63lnZ.jpg)"
   ]
  },
  {
   "cell_type": "markdown",
   "metadata": {},
   "source": [
    "Math\n",
    "![](http://snag.gy/8tJyc.jpg)"
   ]
  }
 ],
 "metadata": {
  "kernelspec": {
   "display_name": "Python 2",
   "language": "python",
   "name": "python2"
  },
  "language_info": {
   "codemirror_mode": {
    "name": "ipython",
    "version": 2
   },
   "file_extension": ".py",
   "mimetype": "text/x-python",
   "name": "python",
   "nbconvert_exporter": "python",
   "pygments_lexer": "ipython2",
   "version": "2.7.11"
  }
 },
 "nbformat": 4,
 "nbformat_minor": 0
}
