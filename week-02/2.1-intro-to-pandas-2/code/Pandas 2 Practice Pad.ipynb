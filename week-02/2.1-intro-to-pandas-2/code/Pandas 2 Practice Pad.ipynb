{
 "cells": [
  {
   "cell_type": "code",
   "execution_count": 61,
   "metadata": {
    "collapsed": false
   },
   "outputs": [],
   "source": [
    "import pandas as pd\n",
    "import numpy as np\n",
    "\n",
    "column_labels = ['a', 'b', 'c', 'd', 'e']\n",
    "row_index = ['mon', 'tues', 'wed', 'thurs', 'fri', 'sat', 'sun']\n",
    "df = pd.DataFrame(np.random.rand(7,5), index=row_index, columns=column_labels)"
   ]
  },
  {
   "cell_type": "code",
   "execution_count": 86,
   "metadata": {
    "collapsed": false
   },
   "outputs": [
    {
     "data": {
      "text/html": [
       "<div>\n",
       "<table border=\"1\" class=\"dataframe\">\n",
       "  <thead>\n",
       "    <tr style=\"text-align: right;\">\n",
       "      <th></th>\n",
       "      <th>a</th>\n",
       "      <th>b</th>\n",
       "      <th>c</th>\n",
       "      <th>d</th>\n",
       "      <th>e</th>\n",
       "    </tr>\n",
       "  </thead>\n",
       "  <tbody>\n",
       "    <tr>\n",
       "      <th>mon</th>\n",
       "      <td>0.552989</td>\n",
       "      <td>0.355456</td>\n",
       "      <td>0.767728</td>\n",
       "      <td>0.399868</td>\n",
       "      <td>0.732951</td>\n",
       "    </tr>\n",
       "    <tr>\n",
       "      <th>tues</th>\n",
       "      <td>0.305603</td>\n",
       "      <td>0.731346</td>\n",
       "      <td>0.463026</td>\n",
       "      <td>0.271193</td>\n",
       "      <td>0.342370</td>\n",
       "    </tr>\n",
       "    <tr>\n",
       "      <th>wed</th>\n",
       "      <td>0.551242</td>\n",
       "      <td>0.640057</td>\n",
       "      <td>0.910720</td>\n",
       "      <td>0.631704</td>\n",
       "      <td>0.786112</td>\n",
       "    </tr>\n",
       "    <tr>\n",
       "      <th>thurs</th>\n",
       "      <td>0.805862</td>\n",
       "      <td>0.143283</td>\n",
       "      <td>0.661963</td>\n",
       "      <td>0.903836</td>\n",
       "      <td>0.491034</td>\n",
       "    </tr>\n",
       "    <tr>\n",
       "      <th>fri</th>\n",
       "      <td>0.995437</td>\n",
       "      <td>0.578230</td>\n",
       "      <td>0.580551</td>\n",
       "      <td>0.800595</td>\n",
       "      <td>0.951150</td>\n",
       "    </tr>\n",
       "    <tr>\n",
       "      <th>sat</th>\n",
       "      <td>0.744159</td>\n",
       "      <td>0.170908</td>\n",
       "      <td>0.946195</td>\n",
       "      <td>0.790608</td>\n",
       "      <td>0.419239</td>\n",
       "    </tr>\n",
       "  </tbody>\n",
       "</table>\n",
       "</div>"
      ],
      "text/plain": [
       "              a         b         c         d         e\n",
       "mon    0.552989  0.355456  0.767728  0.399868  0.732951\n",
       "tues   0.305603  0.731346  0.463026  0.271193  0.342370\n",
       "wed    0.551242  0.640057  0.910720  0.631704  0.786112\n",
       "thurs  0.805862  0.143283  0.661963  0.903836  0.491034\n",
       "fri    0.995437  0.578230  0.580551  0.800595  0.951150\n",
       "sat    0.744159  0.170908  0.946195  0.790608  0.419239"
      ]
     },
     "execution_count": 86,
     "metadata": {},
     "output_type": "execute_result"
    }
   ],
   "source": [
    "#mask = [False, True, False, True, True, True, False]\n",
    "#len(mask)\n",
    "#df[(df['e'] < .5) & (df['c'] > .5)]\n",
    "#df[['e','a']][mask]\n",
    "\n",
    "df[df['a']>.2]\n",
    "#df['a']>.2"
   ]
  },
  {
   "cell_type": "code",
   "execution_count": 105,
   "metadata": {
    "collapsed": false
   },
   "outputs": [
    {
     "data": {
      "text/plain": [
       "a   -0.934004\n",
       "b   -0.607488\n",
       "c   -1.038393\n",
       "d    0.654657\n",
       "e    1.291708\n",
       "f    0.500121\n",
       "g   -0.392199\n",
       "h    0.474977\n",
       "i   -0.290297\n",
       "j    0.919470\n",
       "dtype: float64"
      ]
     },
     "execution_count": 105,
     "metadata": {},
     "output_type": "execute_result"
    }
   ],
   "source": [
    "#On Your own\n",
    "myseries = pd.Series(np.random.randn(10), index=['a','b','c','d','e','f','g','h','i','j'])\n",
    "myseries\n"
   ]
  },
  {
   "cell_type": "code",
   "execution_count": 106,
   "metadata": {
    "collapsed": false
   },
   "outputs": [
    {
     "data": {
      "text/plain": [
       "a   -0.934004\n",
       "b   -0.607488\n",
       "c   -1.038393\n",
       "d    0.654657\n",
       "e    1.291708\n",
       "dtype: float64"
      ]
     },
     "execution_count": 106,
     "metadata": {},
     "output_type": "execute_result"
    }
   ],
   "source": [
    "myseries.head()"
   ]
  },
  {
   "cell_type": "code",
   "execution_count": 107,
   "metadata": {
    "collapsed": false
   },
   "outputs": [
    {
     "data": {
      "text/plain": [
       "f    0.500121\n",
       "g   -0.392199\n",
       "h    0.474977\n",
       "i   -0.290297\n",
       "j    0.919470\n",
       "dtype: float64"
      ]
     },
     "execution_count": 107,
     "metadata": {},
     "output_type": "execute_result"
    }
   ],
   "source": [
    "myseries.tail()"
   ]
  },
  {
   "cell_type": "code",
   "execution_count": 108,
   "metadata": {
    "collapsed": false
   },
   "outputs": [
    {
     "data": {
      "text/plain": [
       "count    10.000000\n",
       "mean      0.057855\n",
       "std       0.812576\n",
       "min      -1.038393\n",
       "25%      -0.553666\n",
       "50%       0.092340\n",
       "75%       0.616023\n",
       "max       1.291708\n",
       "dtype: float64"
      ]
     },
     "execution_count": 108,
     "metadata": {},
     "output_type": "execute_result"
    }
   ],
   "source": [
    "myseries.describe()"
   ]
  },
  {
   "cell_type": "code",
   "execution_count": 109,
   "metadata": {
    "collapsed": false
   },
   "outputs": [
    {
     "data": {
      "text/plain": [
       "0.9194700910174447"
      ]
     },
     "execution_count": 109,
     "metadata": {},
     "output_type": "execute_result"
    }
   ],
   "source": [
    "myseries.iloc[9]"
   ]
  },
  {
   "cell_type": "code",
   "execution_count": 110,
   "metadata": {
    "collapsed": false
   },
   "outputs": [
    {
     "data": {
      "text/plain": [
       "f    0.500121\n",
       "g   -0.392199\n",
       "h    0.474977\n",
       "i   -0.290297\n",
       "j    0.919470\n",
       "dtype: float64"
      ]
     },
     "execution_count": 110,
     "metadata": {},
     "output_type": "execute_result"
    }
   ],
   "source": [
    "myseries.loc['f':]"
   ]
  },
  {
   "cell_type": "code",
   "execution_count": 114,
   "metadata": {
    "collapsed": false
   },
   "outputs": [
    {
     "name": "stdout",
     "output_type": "stream",
     "text": [
      "a   -0.934004\n",
      "b   -0.607488\n",
      "c   -1.038393\n",
      "g   -0.392199\n",
      "i   -0.290297\n",
      "dtype: float64\n",
      "d    0.654657\n",
      "e    1.291708\n",
      "f    0.500121\n",
      "h    0.474977\n",
      "j    0.919470\n",
      "dtype: float64\n",
      "g   -0.392199\n",
      "i   -0.290297\n",
      "dtype: float64\n"
     ]
    }
   ],
   "source": [
    "#myseries['d']<.2\n",
    "#mask = [True, False, False, True, True, False, False, True, True, False]\n",
    "\n",
    "#myseries[mask]\n",
    "print myseries[myseries <.2]\n",
    "print myseries[myseries > 0]\n",
    "print myseries[(myseries >-.5) & (myseries <0)]"
   ]
  },
  {
   "cell_type": "code",
   "execution_count": 98,
   "metadata": {
    "collapsed": false
   },
   "outputs": [
    {
     "data": {
      "text/plain": [
       "0    -10\n",
       "1     -9\n",
       "2     -8\n",
       "3     -7\n",
       "4     -6\n",
       "5     -5\n",
       "6     -4\n",
       "7     -3\n",
       "8     -2\n",
       "9     -1\n",
       "10     0\n",
       "11     1\n",
       "12     2\n",
       "13     3\n",
       "14     4\n",
       "15     5\n",
       "16     6\n",
       "17     7\n",
       "18     8\n",
       "19     9\n",
       "dtype: int64"
      ]
     },
     "execution_count": 98,
     "metadata": {},
     "output_type": "execute_result"
    }
   ],
   "source": [
    "myseries = pd.Series(range(-10,10))\n",
    "myseries"
   ]
  },
  {
   "cell_type": "code",
   "execution_count": 99,
   "metadata": {
    "collapsed": false
   },
   "outputs": [
    {
     "data": {
      "text/plain": [
       "11    1\n",
       "12    2\n",
       "13    3\n",
       "14    4\n",
       "15    5\n",
       "16    6\n",
       "17    7\n",
       "18    8\n",
       "19    9\n",
       "dtype: int64"
      ]
     },
     "execution_count": 99,
     "metadata": {},
     "output_type": "execute_result"
    }
   ],
   "source": [
    "myseries[myseries > 0]"
   ]
  },
  {
   "cell_type": "code",
   "execution_count": 100,
   "metadata": {
    "collapsed": false
   },
   "outputs": [
    {
     "data": {
      "text/plain": [
       "0   -10\n",
       "1    -9\n",
       "2    -8\n",
       "3    -7\n",
       "4    -6\n",
       "5    -5\n",
       "6    -4\n",
       "7    -3\n",
       "8    -2\n",
       "9    -1\n",
       "dtype: int64"
      ]
     },
     "execution_count": 100,
     "metadata": {},
     "output_type": "execute_result"
    }
   ],
   "source": [
    "myseries[myseries < 0]"
   ]
  },
  {
   "cell_type": "code",
   "execution_count": 101,
   "metadata": {
    "collapsed": false
   },
   "outputs": [
    {
     "data": {
      "text/plain": [
       "12    2\n",
       "13    3\n",
       "14    4\n",
       "15    5\n",
       "16    6\n",
       "17    7\n",
       "18    8\n",
       "19    9\n",
       "dtype: int64"
      ]
     },
     "execution_count": 101,
     "metadata": {},
     "output_type": "execute_result"
    }
   ],
   "source": [
    "myseries[(myseries>1) & (myseries < 11)]"
   ]
  },
  {
   "cell_type": "code",
   "execution_count": 104,
   "metadata": {
    "collapsed": false
   },
   "outputs": [
    {
     "name": "stdout",
     "output_type": "stream",
     "text": [
      "hello\n"
     ]
    }
   ],
   "source": [
    "print \"hello\""
   ]
  },
  {
   "cell_type": "code",
   "execution_count": null,
   "metadata": {
    "collapsed": true
   },
   "outputs": [],
   "source": []
  }
 ],
 "metadata": {
  "kernelspec": {
   "display_name": "Python 2",
   "language": "python",
   "name": "python2"
  },
  "language_info": {
   "codemirror_mode": {
    "name": "ipython",
    "version": 2
   },
   "file_extension": ".py",
   "mimetype": "text/x-python",
   "name": "python",
   "nbconvert_exporter": "python",
   "pygments_lexer": "ipython2",
   "version": "2.7.11"
  }
 },
 "nbformat": 4,
 "nbformat_minor": 0
}
