{
 "cells": [
  {
   "cell_type": "code",
   "execution_count": 24,
   "metadata": {
    "collapsed": false
   },
   "outputs": [
    {
     "name": "stdout",
     "output_type": "stream",
     "text": [
      "For square with side length 1 the area is = 1\n",
      "For square with side length 2 the area is = 4\n",
      "For square with side length 3 the area is = 9\n",
      "For square with side length 4 the area is = 16\n"
     ]
    }
   ],
   "source": [
    "# write a function with one argument. Find the area of a square. \n",
    "def areaSquare(side): \n",
    "    x = side ** 2\n",
    "    return x\n",
    "\n",
    "# test function area of a square\n",
    "squares = [1,2,3,4]\n",
    "for square in squares:\n",
    "    side = square\n",
    "    area = areaSquare(side)\n",
    "    print \"For square with side length \" + str(side) + \" the area is = \" + str(area)"
   ]
  },
  {
   "cell_type": "code",
   "execution_count": 25,
   "metadata": {
    "collapsed": false
   },
   "outputs": [
    {
     "name": "stdout",
     "output_type": "stream",
     "text": [
      "The area with length 1 and width 2 = 2\n",
      "The area with length 3 and width 4 = 12\n",
      "The area with length 5 and width 6 = 30\n",
      "The area with length 7 and width 8 = 56\n"
     ]
    }
   ],
   "source": [
    "# write a function with two arguments. Find the area of a rectangle. \n",
    "def areaRect(length,breadth):\n",
    "    x = length * breadth\n",
    "    return x\n",
    "\n",
    "#test function area of a rectangle\n",
    "rectangles = [(1,2),(3,4),(5,6),(7,8)]\n",
    "for r in rectangles:\n",
    "    rarea = areaRect(r[0],r[1])\n",
    "    print \"The area with length \" + str(r[0]) + \" and width \" + str(r[1]) + \" = \" + str(rarea)"
   ]
  },
  {
   "cell_type": "code",
   "execution_count": 23,
   "metadata": {
    "collapsed": false
   },
   "outputs": [
    {
     "name": "stdout",
     "output_type": "stream",
     "text": [
      "The surface area of a cuboid with side lengths: 1,2,3 = 22\n",
      "The surface area of a cuboid with side lengths: 4,5,6 = 148\n",
      "The surface area of a cuboid with side lengths: 7,8,9 = 382\n"
     ]
    }
   ],
   "source": [
    "# write a function with three arguments. Find the surface area of cuboid.\n",
    "def surfaceAreaCuboid(length,breadth,height): \n",
    "    area=2*(length*breadth+breadth*height+length*height)\n",
    "    return area\n",
    "\n",
    "#Test function with 3 arguments for cuboid\n",
    "cuboid = [(1,2,3),(4,5,6),(7,8,9)]\n",
    "for i in cuboid:\n",
    "    c = surfaceAreaCuboid(i[0],i[1],i[2])\n",
    "    print \"The surface area of a cuboid with side lengths: \" + str(i[0]) + \",\" + str(i[1]) + \",\" + str(i[2]) + \" = \" + str(c)\n",
    "            "
   ]
  },
  {
   "cell_type": "code",
   "execution_count": null,
   "metadata": {
    "collapsed": true
   },
   "outputs": [],
   "source": []
  }
 ],
 "metadata": {
  "kernelspec": {
   "display_name": "Python 2",
   "language": "python",
   "name": "python2"
  },
  "language_info": {
   "codemirror_mode": {
    "name": "ipython",
    "version": 2
   },
   "file_extension": ".py",
   "mimetype": "text/x-python",
   "name": "python",
   "nbconvert_exporter": "python",
   "pygments_lexer": "ipython2",
   "version": "2.7.11"
  }
 },
 "nbformat": 4,
 "nbformat_minor": 0
}
