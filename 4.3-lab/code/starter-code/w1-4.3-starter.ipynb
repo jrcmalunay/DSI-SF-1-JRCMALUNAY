{
 "cells": [
  {
   "cell_type": "code",
   "execution_count": 1,
   "metadata": {
    "collapsed": false
   },
   "outputs": [],
   "source": [
    "import numpy as np \n",
    "import math \n",
    "\n",
    "# create an array\n",
    "x = np.array([1,2,3,4,5])\n",
    "y = np.array([22,33,44,55])"
   ]
  },
  {
   "cell_type": "code",
   "execution_count": 26,
   "metadata": {
    "collapsed": false
   },
   "outputs": [
    {
     "name": "stdout",
     "output_type": "stream",
     "text": [
      "My results:\n",
      "Numpy Results:\n",
      "Numpy Var: 2.0\n"
     ]
    }
   ],
   "source": [
    "# Write a function that computes the variance\n",
    "print \"My results:\"\n",
    "def variance(array):\n",
    "    #print \"Dataset:\", array\n",
    "    \n",
    "    lst = []\n",
    "    average = sum(array)/len(array)\n",
    "    #print \"Average =\", average\n",
    "    \n",
    "    for index in array:\n",
    "        square = (index - average)**2\n",
    "        lst.append(square)\n",
    "    \n",
    "    v = sum(lst)/float(len(array))\n",
    "    return \"Variance =\", v\n",
    "        \n",
    "variance(x)\n",
    "#variance(y)\n",
    "\n",
    "print \"Numpy Results:\"\n",
    "# Compare your function results with numpy results\n",
    "print \"Numpy Var:\", np.var(x)\n",
    "#print \"Numpy Var:\", np.var(y)"
   ]
  },
  {
   "cell_type": "code",
   "execution_count": 27,
   "metadata": {
    "collapsed": false
   },
   "outputs": [
    {
     "ename": "TypeError",
     "evalue": "ufunc 'sqrt' not supported for the input types, and the inputs could not be safely coerced to any supported types according to the casting rule ''safe''",
     "output_type": "error",
     "traceback": [
      "\u001b[0;31m---------------------------------------------------------------------------\u001b[0m",
      "\u001b[0;31mTypeError\u001b[0m                                 Traceback (most recent call last)",
      "\u001b[0;32m<ipython-input-27-c0c1be80cac9>\u001b[0m in \u001b[0;36m<module>\u001b[0;34m()\u001b[0m\n\u001b[1;32m      4\u001b[0m     \u001b[0;32mreturn\u001b[0m \u001b[0mw\u001b[0m\u001b[0;34m\u001b[0m\u001b[0m\n\u001b[1;32m      5\u001b[0m \u001b[0;34m\u001b[0m\u001b[0m\n\u001b[0;32m----> 6\u001b[0;31m \u001b[0;32mprint\u001b[0m \u001b[0mstandev\u001b[0m\u001b[0;34m(\u001b[0m\u001b[0mx\u001b[0m\u001b[0;34m)\u001b[0m\u001b[0;34m\u001b[0m\u001b[0m\n\u001b[0m\u001b[1;32m      7\u001b[0m \u001b[0;34m\u001b[0m\u001b[0m\n\u001b[1;32m      8\u001b[0m \u001b[0;31m# compare your function results with numpy equivalents.\u001b[0m\u001b[0;34m\u001b[0m\u001b[0;34m\u001b[0m\u001b[0m\n",
      "\u001b[0;32m<ipython-input-27-c0c1be80cac9>\u001b[0m in \u001b[0;36mstandev\u001b[0;34m(array1)\u001b[0m\n\u001b[1;32m      1\u001b[0m \u001b[0;31m# Write a function that computes the standard deviation and\u001b[0m\u001b[0;34m\u001b[0m\u001b[0;34m\u001b[0m\u001b[0m\n\u001b[1;32m      2\u001b[0m \u001b[0;32mdef\u001b[0m \u001b[0mstandev\u001b[0m\u001b[0;34m(\u001b[0m\u001b[0marray1\u001b[0m\u001b[0;34m)\u001b[0m\u001b[0;34m:\u001b[0m\u001b[0;34m\u001b[0m\u001b[0m\n\u001b[0;32m----> 3\u001b[0;31m     \u001b[0mw\u001b[0m \u001b[0;34m=\u001b[0m \u001b[0mnp\u001b[0m\u001b[0;34m.\u001b[0m\u001b[0msqrt\u001b[0m\u001b[0;34m(\u001b[0m\u001b[0mvariance\u001b[0m\u001b[0;34m(\u001b[0m\u001b[0marray1\u001b[0m\u001b[0;34m)\u001b[0m\u001b[0;34m)\u001b[0m\u001b[0;34m\u001b[0m\u001b[0m\n\u001b[0m\u001b[1;32m      4\u001b[0m     \u001b[0;32mreturn\u001b[0m \u001b[0mw\u001b[0m\u001b[0;34m\u001b[0m\u001b[0m\n\u001b[1;32m      5\u001b[0m \u001b[0;34m\u001b[0m\u001b[0m\n",
      "\u001b[0;31mTypeError\u001b[0m: ufunc 'sqrt' not supported for the input types, and the inputs could not be safely coerced to any supported types according to the casting rule ''safe''"
     ]
    }
   ],
   "source": [
    "# Write a function that computes the standard deviation and \n",
    "def standev(array1):\n",
    "    w = np.sqrt(variance(array1))\n",
    "    return w\n",
    "   \n",
    "print standev(x)\n",
    "\n",
    "# compare your function results with numpy equivalents. \n",
    "#print \"Numpy Standard Deviation:\", np.std(x)\n",
    "#print \"Numpy Standard Deviation:\", np.std(y)"
   ]
  },
  {
   "cell_type": "code",
   "execution_count": null,
   "metadata": {
    "collapsed": true
   },
   "outputs": [],
   "source": []
  }
 ],
 "metadata": {
  "kernelspec": {
   "display_name": "Python 2",
   "language": "python",
   "name": "python2"
  },
  "language_info": {
   "codemirror_mode": {
    "name": "ipython",
    "version": 2
   },
   "file_extension": ".py",
   "mimetype": "text/x-python",
   "name": "python",
   "nbconvert_exporter": "python",
   "pygments_lexer": "ipython2",
   "version": "2.7.11"
  }
 },
 "nbformat": 4,
 "nbformat_minor": 0
}
